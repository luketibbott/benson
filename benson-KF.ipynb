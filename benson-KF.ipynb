{
 "cells": [
  {
   "cell_type": "code",
   "execution_count": 1,
   "metadata": {},
   "outputs": [],
   "source": [
    "import pandas as pd\n",
    "import random\n",
    "import itertools"
   ]
  },
  {
   "cell_type": "markdown",
   "metadata": {},
   "source": [
    "Downloaded data from: http://web.mta.info/developers/turnstile.html\n",
    "\n",
    "Documentations at: http://web.mta.info/developers/resources/nyct/turnstile/ts_Field_Description.txt"
   ]
  },
  {
   "cell_type": "code",
   "execution_count": 2,
   "metadata": {},
   "outputs": [],
   "source": [
    "df = pd.read_csv('turnstile_180526.txt')"
   ]
  },
  {
   "cell_type": "code",
   "execution_count": 3,
   "metadata": {},
   "outputs": [
    {
     "data": {
      "text/html": [
       "<div>\n",
       "<style scoped>\n",
       "    .dataframe tbody tr th:only-of-type {\n",
       "        vertical-align: middle;\n",
       "    }\n",
       "\n",
       "    .dataframe tbody tr th {\n",
       "        vertical-align: top;\n",
       "    }\n",
       "\n",
       "    .dataframe thead th {\n",
       "        text-align: right;\n",
       "    }\n",
       "</style>\n",
       "<table border=\"1\" class=\"dataframe\">\n",
       "  <thead>\n",
       "    <tr style=\"text-align: right;\">\n",
       "      <th></th>\n",
       "      <th>C/A</th>\n",
       "      <th>UNIT</th>\n",
       "      <th>SCP</th>\n",
       "      <th>STATION</th>\n",
       "      <th>LINENAME</th>\n",
       "      <th>DIVISION</th>\n",
       "      <th>DATE</th>\n",
       "      <th>TIME</th>\n",
       "      <th>DESC</th>\n",
       "      <th>ENTRIES</th>\n",
       "      <th>EXITS</th>\n",
       "    </tr>\n",
       "  </thead>\n",
       "  <tbody>\n",
       "    <tr>\n",
       "      <th>0</th>\n",
       "      <td>A002</td>\n",
       "      <td>R051</td>\n",
       "      <td>02-00-00</td>\n",
       "      <td>59 ST</td>\n",
       "      <td>NQR456W</td>\n",
       "      <td>BMT</td>\n",
       "      <td>05/19/2018</td>\n",
       "      <td>00:00:00</td>\n",
       "      <td>REGULAR</td>\n",
       "      <td>6625470</td>\n",
       "      <td>2245312</td>\n",
       "    </tr>\n",
       "    <tr>\n",
       "      <th>1</th>\n",
       "      <td>A002</td>\n",
       "      <td>R051</td>\n",
       "      <td>02-00-00</td>\n",
       "      <td>59 ST</td>\n",
       "      <td>NQR456W</td>\n",
       "      <td>BMT</td>\n",
       "      <td>05/19/2018</td>\n",
       "      <td>04:00:00</td>\n",
       "      <td>REGULAR</td>\n",
       "      <td>6625494</td>\n",
       "      <td>2245314</td>\n",
       "    </tr>\n",
       "    <tr>\n",
       "      <th>2</th>\n",
       "      <td>A002</td>\n",
       "      <td>R051</td>\n",
       "      <td>02-00-00</td>\n",
       "      <td>59 ST</td>\n",
       "      <td>NQR456W</td>\n",
       "      <td>BMT</td>\n",
       "      <td>05/19/2018</td>\n",
       "      <td>08:00:00</td>\n",
       "      <td>REGULAR</td>\n",
       "      <td>6625514</td>\n",
       "      <td>2245338</td>\n",
       "    </tr>\n",
       "    <tr>\n",
       "      <th>3</th>\n",
       "      <td>A002</td>\n",
       "      <td>R051</td>\n",
       "      <td>02-00-00</td>\n",
       "      <td>59 ST</td>\n",
       "      <td>NQR456W</td>\n",
       "      <td>BMT</td>\n",
       "      <td>05/19/2018</td>\n",
       "      <td>12:00:00</td>\n",
       "      <td>REGULAR</td>\n",
       "      <td>6625595</td>\n",
       "      <td>2245415</td>\n",
       "    </tr>\n",
       "    <tr>\n",
       "      <th>4</th>\n",
       "      <td>A002</td>\n",
       "      <td>R051</td>\n",
       "      <td>02-00-00</td>\n",
       "      <td>59 ST</td>\n",
       "      <td>NQR456W</td>\n",
       "      <td>BMT</td>\n",
       "      <td>05/19/2018</td>\n",
       "      <td>16:00:00</td>\n",
       "      <td>REGULAR</td>\n",
       "      <td>6625791</td>\n",
       "      <td>2245481</td>\n",
       "    </tr>\n",
       "  </tbody>\n",
       "</table>\n",
       "</div>"
      ],
      "text/plain": [
       "    C/A  UNIT       SCP STATION LINENAME DIVISION        DATE      TIME  \\\n",
       "0  A002  R051  02-00-00   59 ST  NQR456W      BMT  05/19/2018  00:00:00   \n",
       "1  A002  R051  02-00-00   59 ST  NQR456W      BMT  05/19/2018  04:00:00   \n",
       "2  A002  R051  02-00-00   59 ST  NQR456W      BMT  05/19/2018  08:00:00   \n",
       "3  A002  R051  02-00-00   59 ST  NQR456W      BMT  05/19/2018  12:00:00   \n",
       "4  A002  R051  02-00-00   59 ST  NQR456W      BMT  05/19/2018  16:00:00   \n",
       "\n",
       "      DESC  ENTRIES  \\\n",
       "0  REGULAR  6625470   \n",
       "1  REGULAR  6625494   \n",
       "2  REGULAR  6625514   \n",
       "3  REGULAR  6625595   \n",
       "4  REGULAR  6625791   \n",
       "\n",
       "   EXITS                                                                 \n",
       "0                                            2245312                     \n",
       "1                                            2245314                     \n",
       "2                                            2245338                     \n",
       "3                                            2245415                     \n",
       "4                                            2245481                     "
      ]
     },
     "execution_count": 3,
     "metadata": {},
     "output_type": "execute_result"
    }
   ],
   "source": [
    "df.head()"
   ]
  },
  {
   "cell_type": "code",
   "execution_count": 5,
   "metadata": {},
   "outputs": [
    {
     "data": {
      "text/plain": [
       "Index(['C/A', 'UNIT', 'SCP', 'STATION', 'LINENAME', 'DIVISION', 'DATE', 'TIME',\n",
       "       'DESC', 'ENTRIES',\n",
       "       'EXITS                                                               '],\n",
       "      dtype='object')"
      ]
     },
     "execution_count": 5,
     "metadata": {},
     "output_type": "execute_result"
    }
   ],
   "source": [
    "df.columns"
   ]
  },
  {
   "cell_type": "markdown",
   "metadata": {},
   "source": [
    "Fix 'EXITS' column name (it has many spaces at the end of it)"
   ]
  },
  {
   "cell_type": "code",
   "execution_count": 7,
   "metadata": {},
   "outputs": [],
   "source": [
    "# old_exit_name = df.columns[-1]\n",
    "df.rename(columns={df.columns[-1]: 'EXITS'}, inplace = True)\n",
    "df.columns"
   ]
  },
  {
   "cell_type": "code",
   "execution_count": 13,
   "metadata": {},
   "outputs": [],
   "source": [
    "backup_df = df.copy()"
   ]
  },
  {
   "cell_type": "markdown",
   "metadata": {},
   "source": [
    "Make list of columns which we'll use at the key (i.e. the first 4) and a list of the rest."
   ]
  },
  {
   "cell_type": "code",
   "execution_count": 21,
   "metadata": {},
   "outputs": [
    {
     "data": {
      "text/plain": [
       "['C/A', 'UNIT', 'SCP', 'STATION']"
      ]
     },
     "execution_count": 21,
     "metadata": {},
     "output_type": "execute_result"
    }
   ],
   "source": [
    "key_cols = list(df.columns[:4])\n",
    "key_cols"
   ]
  },
  {
   "cell_type": "code",
   "execution_count": 20,
   "metadata": {},
   "outputs": [
    {
     "data": {
      "text/plain": [
       "['LINENAME', 'DIVISION', 'DATE', 'TIME', 'DESC', 'ENTRIES', 'EXITS']"
      ]
     },
     "execution_count": 20,
     "metadata": {},
     "output_type": "execute_result"
    }
   ],
   "source": [
    "other_cols = list(df.columns[4:])\n",
    "other_cols"
   ]
  },
  {
   "cell_type": "markdown",
   "metadata": {},
   "source": [
    "Create dictionary, using 4-column key:"
   ]
  },
  {
   "cell_type": "code",
   "execution_count": 26,
   "metadata": {},
   "outputs": [],
   "source": [
    "dct = df.groupby(key_cols)[other_cols].apply(lambda x: list(x.values)).to_dict()"
   ]
  },
  {
   "cell_type": "code",
   "execution_count": 28,
   "metadata": {},
   "outputs": [
    {
     "data": {
      "text/plain": [
       "4703"
      ]
     },
     "execution_count": 28,
     "metadata": {},
     "output_type": "execute_result"
    }
   ],
   "source": [
    "len(dct)"
   ]
  },
  {
   "cell_type": "code",
   "execution_count": 77,
   "metadata": {},
   "outputs": [],
   "source": [
    "def dict_glance(d, n):\n",
    "    '''Generates \"glance\" of n items (key: value pairs) of dictionary d.\n",
    "    If value is list, returns each item of list on new line'''\n",
    "    for i in range(n):\n",
    "        rand_key = random.choice(list(d.keys()))\n",
    "        print (rand_key)\n",
    "        print('\\n'.join('%s' % v for v in d[rand_key]))"
   ]
  },
  {
   "cell_type": "code",
   "execution_count": 78,
   "metadata": {},
   "outputs": [
    {
     "name": "stdout",
     "output_type": "stream",
     "text": [
      "('N422', 'R318', '00-00-00', 'FULTON ST')\n",
      "['G' 'IND' '05/19/2018' '00:00:00' 'REGULAR' 5815056 7332004]\n",
      "['G' 'IND' '05/19/2018' '04:00:00' 'REGULAR' 5815086 7332070]\n",
      "['G' 'IND' '05/19/2018' '08:00:00' 'REGULAR' 5815120 7332213]\n",
      "['G' 'IND' '05/19/2018' '12:00:00' 'REGULAR' 5815240 7332579]\n",
      "['G' 'IND' '05/19/2018' '16:00:00' 'REGULAR' 5815486 7333074]\n",
      "['G' 'IND' '05/19/2018' '20:00:00' 'REGULAR' 5815722 7333582]\n",
      "['G' 'IND' '05/20/2018' '00:00:00' 'REGULAR' 5815869 7333828]\n",
      "['G' 'IND' '05/20/2018' '04:00:00' 'REGULAR' 5815902 7333918]\n",
      "['G' 'IND' '05/20/2018' '08:00:00' 'REGULAR' 5815920 7333967]\n",
      "['G' 'IND' '05/20/2018' '12:00:00' 'REGULAR' 5815981 7334242]\n",
      "['G' 'IND' '05/20/2018' '16:00:00' 'REGULAR' 5816151 7334739]\n",
      "['G' 'IND' '05/20/2018' '20:00:00' 'REGULAR' 5816358 7335137]\n",
      "['G' 'IND' '05/21/2018' '00:00:00' 'REGULAR' 5816466 7335323]\n",
      "['G' 'IND' '05/21/2018' '04:00:00' 'REGULAR' 5816476 7335358]\n",
      "['G' 'IND' '05/21/2018' '08:00:00' 'REGULAR' 5816536 7335618]\n",
      "['G' 'IND' '05/21/2018' '12:00:00' 'REGULAR' 5816671 7336075]\n",
      "['G' 'IND' '05/21/2018' '16:00:00' 'REGULAR' 5817381 7336368]\n",
      "['G' 'IND' '05/21/2018' '20:00:00' 'REGULAR' 5817836 7337034]\n",
      "['G' 'IND' '05/22/2018' '00:00:00' 'REGULAR' 5817948 7337252]\n",
      "['G' 'IND' '05/22/2018' '04:00:00' 'REGULAR' 5817956 7337284]\n",
      "['G' 'IND' '05/22/2018' '08:00:00' 'REGULAR' 5818049 7337546]\n",
      "['G' 'IND' '05/22/2018' '12:00:00' 'REGULAR' 5818194 7338056]\n",
      "['G' 'IND' '05/22/2018' '16:00:00' 'REGULAR' 5818924 7338411]\n",
      "['G' 'IND' '05/22/2018' '20:00:00' 'REGULAR' 5819300 7339065]\n",
      "['G' 'IND' '05/23/2018' '00:00:00' 'REGULAR' 5819434 7339319]\n",
      "['G' 'IND' '05/23/2018' '04:00:00' 'REGULAR' 5819451 7339362]\n",
      "['G' 'IND' '05/23/2018' '08:00:00' 'REGULAR' 5819539 7339571]\n",
      "['G' 'IND' '05/23/2018' '12:00:00' 'REGULAR' 5819735 7340089]\n",
      "['G' 'IND' '05/23/2018' '16:00:00' 'REGULAR' 5820463 7340499]\n",
      "['G' 'IND' '05/23/2018' '20:00:00' 'REGULAR' 5820873 7341154]\n",
      "['G' 'IND' '05/24/2018' '00:00:00' 'REGULAR' 5821037 7341387]\n",
      "['G' 'IND' '05/24/2018' '04:00:00' 'REGULAR' 5821052 7341422]\n",
      "['G' 'IND' '05/24/2018' '08:00:00' 'REGULAR' 5821138 7341629]\n",
      "['G' 'IND' '05/24/2018' '12:00:00' 'REGULAR' 5821455 7342131]\n",
      "['G' 'IND' '05/24/2018' '16:00:00' 'REGULAR' 5821991 7342501]\n",
      "['G' 'IND' '05/24/2018' '20:00:00' 'REGULAR' 5822378 7343138]\n",
      "['G' 'IND' '05/25/2018' '00:00:00' 'REGULAR' 5822544 7343423]\n",
      "['G' 'IND' '05/25/2018' '04:00:00' 'REGULAR' 5822568 7343471]\n",
      "['G' 'IND' '05/25/2018' '08:00:00' 'REGULAR' 5822648 7343673]\n",
      "['G' 'IND' '05/25/2018' '12:00:00' 'REGULAR' 5822807 7344102]\n",
      "['G' 'IND' '05/25/2018' '16:00:00' 'REGULAR' 5823471 7344567]\n",
      "['G' 'IND' '05/25/2018' '20:00:00' 'REGULAR' 5823898 7345159]\n",
      "('R523', 'R147', '00-05-00', '61 ST WOODSIDE')\n",
      "['7' 'IRT' '05/19/2018' '01:00:00' 'REGULAR' 3423 0]\n",
      "['7' 'IRT' '05/19/2018' '05:00:00' 'REGULAR' 3423 0]\n",
      "['7' 'IRT' '05/19/2018' '09:00:00' 'REGULAR' 3423 0]\n",
      "['7' 'IRT' '05/19/2018' '13:00:00' 'REGULAR' 3423 0]\n",
      "['7' 'IRT' '05/19/2018' '17:00:00' 'REGULAR' 3423 0]\n",
      "['7' 'IRT' '05/19/2018' '21:00:00' 'REGULAR' 3423 0]\n",
      "['7' 'IRT' '05/20/2018' '01:00:00' 'REGULAR' 3424 0]\n",
      "['7' 'IRT' '05/20/2018' '05:00:00' 'REGULAR' 3424 0]\n",
      "['7' 'IRT' '05/20/2018' '09:00:00' 'REGULAR' 3424 0]\n",
      "['7' 'IRT' '05/20/2018' '13:00:00' 'REGULAR' 3424 0]\n",
      "['7' 'IRT' '05/20/2018' '17:00:00' 'REGULAR' 3425 0]\n",
      "['7' 'IRT' '05/20/2018' '20:18:03' 'REGULAR' 3425 0]\n",
      "['7' 'IRT' '05/20/2018' '20:20:24' 'REGULAR' 3425 0]\n",
      "['7' 'IRT' '05/20/2018' '20:55:41' 'REGULAR' 3425 0]\n",
      "['7' 'IRT' '05/20/2018' '21:00:00' 'REGULAR' 3425 0]\n",
      "['7' 'IRT' '05/20/2018' '21:03:37' 'REGULAR' 3425 0]\n",
      "['7' 'IRT' '05/21/2018' '01:00:00' 'REGULAR' 3425 0]\n",
      "['7' 'IRT' '05/21/2018' '05:00:00' 'REGULAR' 3425 0]\n",
      "['7' 'IRT' '05/21/2018' '09:00:00' 'REGULAR' 3426 0]\n",
      "['7' 'IRT' '05/21/2018' '13:00:00' 'REGULAR' 3426 0]\n",
      "['7' 'IRT' '05/21/2018' '17:00:00' 'REGULAR' 3426 0]\n",
      "['7' 'IRT' '05/21/2018' '21:00:00' 'REGULAR' 3426 0]\n",
      "['7' 'IRT' '05/22/2018' '01:00:00' 'REGULAR' 3427 0]\n",
      "['7' 'IRT' '05/22/2018' '05:00:00' 'REGULAR' 3427 0]\n",
      "['7' 'IRT' '05/22/2018' '09:00:00' 'REGULAR' 3427 0]\n",
      "['7' 'IRT' '05/22/2018' '13:00:00' 'REGULAR' 3427 0]\n",
      "['7' 'IRT' '05/22/2018' '17:00:00' 'REGULAR' 3427 0]\n",
      "['7' 'IRT' '05/22/2018' '21:00:00' 'REGULAR' 3427 0]\n",
      "['7' 'IRT' '05/23/2018' '01:00:00' 'REGULAR' 3427 0]\n",
      "['7' 'IRT' '05/23/2018' '05:00:00' 'REGULAR' 3427 0]\n",
      "['7' 'IRT' '05/23/2018' '09:00:00' 'REGULAR' 3428 0]\n",
      "['7' 'IRT' '05/23/2018' '13:00:00' 'REGULAR' 3428 0]\n",
      "['7' 'IRT' '05/23/2018' '17:00:00' 'REGULAR' 3428 0]\n",
      "['7' 'IRT' '05/23/2018' '21:00:00' 'REGULAR' 3428 0]\n",
      "['7' 'IRT' '05/24/2018' '01:00:00' 'REGULAR' 3429 0]\n",
      "['7' 'IRT' '05/24/2018' '05:00:00' 'REGULAR' 3429 0]\n",
      "['7' 'IRT' '05/24/2018' '09:00:00' 'REGULAR' 3429 0]\n",
      "['7' 'IRT' '05/24/2018' '13:00:00' 'REGULAR' 3429 0]\n",
      "['7' 'IRT' '05/24/2018' '17:00:00' 'REGULAR' 3429 0]\n",
      "['7' 'IRT' '05/24/2018' '21:00:00' 'REGULAR' 3429 0]\n",
      "['7' 'IRT' '05/25/2018' '01:00:00' 'REGULAR' 3429 0]\n",
      "['7' 'IRT' '05/25/2018' '04:41:59' 'RECOVR AUD' 3429 0]\n",
      "['7' 'IRT' '05/25/2018' '04:43:15' 'REGULAR' 3429 0]\n",
      "['7' 'IRT' '05/25/2018' '05:00:00' 'REGULAR' 3429 0]\n",
      "['7' 'IRT' '05/25/2018' '09:00:00' 'REGULAR' 3429 0]\n",
      "['7' 'IRT' '05/25/2018' '13:00:00' 'REGULAR' 3429 0]\n",
      "['7' 'IRT' '05/25/2018' '17:00:00' 'REGULAR' 3429 0]\n",
      "['7' 'IRT' '05/25/2018' '21:00:00' 'REGULAR' 3430 0]\n"
     ]
    }
   ],
   "source": [
    "dict_glance(dct, 2)"
   ]
  },
  {
   "cell_type": "markdown",
   "metadata": {},
   "source": [
    "### To Do Next:"
   ]
  },
  {
   "cell_type": "markdown",
   "metadata": {},
   "source": [
    "Check for null or '0' entries in Entrance & Exit. (See above entries for ('R523', 'R147', '00-05-00', '61 ST WOODSIDE') key -- all entrances are 3429 +/- 1, and all Exits are 0. \n",
    "\n",
    "Is there a way to get list of defunct stations?\n",
    "Or do, we not care -- will just ignore / exlude these stations from consideration."
   ]
  }
 ],
 "metadata": {
  "kernelspec": {
   "display_name": "Python 3",
   "language": "python",
   "name": "python3"
  },
  "language_info": {
   "codemirror_mode": {
    "name": "ipython",
    "version": 3
   },
   "file_extension": ".py",
   "mimetype": "text/x-python",
   "name": "python",
   "nbconvert_exporter": "python",
   "pygments_lexer": "ipython3",
   "version": "3.5.5"
  }
 },
 "nbformat": 4,
 "nbformat_minor": 2
}
