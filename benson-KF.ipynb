{
 "cells": [
  {
   "cell_type": "code",
   "execution_count": 1,
   "metadata": {},
   "outputs": [],
   "source": [
    "import pandas as pd\n",
    "import random\n",
    "import itertools\n",
    "import datetime as dt\n",
    "import matplotlib.pyplot as plt\n",
    "import calendar\n",
    "import numpy as np"
   ]
  },
  {
   "cell_type": "markdown",
   "metadata": {},
   "source": [
    "Downloaded data from: http://web.mta.info/developers/turnstile.html\n",
    "\n",
    "Documentations at: http://web.mta.info/developers/resources/nyct/turnstile/ts_Field_Description.txt\n",
    "\n",
    "Map of the MTA system: http://web.mta.info/maps/submap.html"
   ]
  },
  {
   "cell_type": "code",
   "execution_count": 2,
   "metadata": {},
   "outputs": [],
   "source": [
    "df = pd.read_csv('turnstile_180526.txt')"
   ]
  },
  {
   "cell_type": "markdown",
   "metadata": {},
   "source": [
    "Fix 'EXITS' column name (it has many spaces at the end of it)"
   ]
  },
  {
   "cell_type": "code",
   "execution_count": 3,
   "metadata": {},
   "outputs": [],
   "source": [
    "# old_exit_name = df.columns[-1]\n",
    "df.rename(columns={df.columns[-1]: 'EXITS'}, inplace = True)"
   ]
  },
  {
   "cell_type": "code",
   "execution_count": 4,
   "metadata": {},
   "outputs": [],
   "source": [
    "backup_df = df.copy()"
   ]
  },
  {
   "cell_type": "code",
   "execution_count": 5,
   "metadata": {},
   "outputs": [],
   "source": [
    "# this is slow...FYI\n",
    "df['DATETIME'] = pd.to_datetime(df.DATE + ' ' + df.TIME, format='%m/%d/%Y %H:%M:%S')\n",
    "df['DATE'] = pd.to_datetime(df['DATE'], format='%m/%d/%Y')"
   ]
  },
  {
   "cell_type": "code",
   "execution_count": 6,
   "metadata": {},
   "outputs": [],
   "source": [
    "df['STATION_KEY'] = df['C/A'] + ' ' + df['UNIT'] + ' ' + df['STATION']"
   ]
  },
  {
   "cell_type": "code",
   "execution_count": null,
   "metadata": {},
   "outputs": [],
   "source": [
    "# cols_to_drop = ['C/A','UNIT','STATION']\n",
    "# cols_to_drop = ['C/A','UNIT']\n",
    "# df.drop(cols_to_drop, axis=1, inplace=True)"
   ]
  },
  {
   "cell_type": "markdown",
   "metadata": {},
   "source": [
    "Sort, Group by Station Key, then compute difference between 'ENTRIES'"
   ]
  },
  {
   "cell_type": "code",
   "execution_count": 7,
   "metadata": {},
   "outputs": [],
   "source": [
    "# need this\n",
    "df.sort_values(['STATION_KEY', 'SCP', 'DATETIME'], inplace=True)"
   ]
  },
  {
   "cell_type": "code",
   "execution_count": null,
   "metadata": {},
   "outputs": [],
   "source": [
    "df['ENTRY_DIFFS'] = df.groupby(['STATION_KEY','SCP'])['ENTRIES'].diff(periods=-1)*-1"
   ]
  },
  {
   "cell_type": "code",
   "execution_count": 10,
   "metadata": {},
   "outputs": [],
   "source": [
    "df['EXIT_DIFFS'] = df.groupby(['STATION_KEY','SCP'])['EXITS'].diff(periods=-1)*-1"
   ]
  },
  {
   "cell_type": "markdown",
   "metadata": {},
   "source": [
    "The majority of 'ENTRY_DIFFS' values are reasonable, but there are still some large negative and positive values still. For now, exclude them from our analysis. (There shouldn't, in fact, be any negative values.)"
   ]
  },
  {
   "cell_type": "code",
   "execution_count": 11,
   "metadata": {},
   "outputs": [],
   "source": [
    "# 200,000 entries per day is a reasonable cut-off\n",
    "clean_df = df[(df['ENTRY_DIFFS'] < 2E5) \n",
    "              & (df['ENTRY_DIFFS'] > 0) \n",
    "              & (df['EXIT_DIFFS'] < 2E5)\n",
    "              & (df['EXIT_DIFFS'] > 0)]"
   ]
  },
  {
   "cell_type": "code",
   "execution_count": 14,
   "metadata": {},
   "outputs": [
    {
     "data": {
      "text/plain": [
       "(array([  1.43960000e+05,   9.80400000e+03,   1.93600000e+03,\n",
       "          5.23000000e+02,   1.72000000e+02,   4.70000000e+01,\n",
       "          2.00000000e+01,   5.00000000e+00,   5.00000000e+00,\n",
       "          1.00000000e+00]),\n",
       " array([  1.00000000e+00,   4.80600000e+02,   9.60200000e+02,\n",
       "          1.43980000e+03,   1.91940000e+03,   2.39900000e+03,\n",
       "          2.87860000e+03,   3.35820000e+03,   3.83780000e+03,\n",
       "          4.31740000e+03,   4.79700000e+03]),\n",
       " <a list of 10 Patch objects>)"
      ]
     },
     "execution_count": 14,
     "metadata": {},
     "output_type": "execute_result"
    },
    {
     "data": {
      "image/png": "[encoded data removed]",
      "text/plain": [
       "<Figure size 432x288 with 1 Axes>"
      ]
     },
     "metadata": {
      "needs_background": "light"
     },
     "output_type": "display_data"
    }
   ],
   "source": [
    "plt.hist(clean_df['EXIT_DIFFS'].dropna())"
   ]
  },
  {
   "cell_type": "code",
   "execution_count": 13,
   "metadata": {},
   "outputs": [
    {
     "data": {
      "text/plain": [
       "(array([  1.20340000e+05,   2.51650000e+04,   7.43600000e+03,\n",
       "          2.26400000e+03,   8.29000000e+02,   2.89000000e+02,\n",
       "          8.10000000e+01,   5.10000000e+01,   1.50000000e+01,\n",
       "          3.00000000e+00]),\n",
       " array([  1.00000000e+00,   3.28800000e+02,   6.56600000e+02,\n",
       "          9.84400000e+02,   1.31220000e+03,   1.64000000e+03,\n",
       "          1.96780000e+03,   2.29560000e+03,   2.62340000e+03,\n",
       "          2.95120000e+03,   3.27900000e+03]),\n",
       " <a list of 10 Patch objects>)"
      ]
     },
     "execution_count": 13,
     "metadata": {},
     "output_type": "execute_result"
    },
    {
     "data": {
      "image/png": "[encoded data removed]",
      "text/plain": [
       "<Figure size 432x288 with 1 Axes>"
      ]
     },
     "metadata": {
      "needs_background": "light"
     },
     "output_type": "display_data"
    }
   ],
   "source": [
    "plt.hist(clean_df['ENTRY_DIFFS'].dropna())"
   ]
  },
  {
   "cell_type": "code",
   "execution_count": 13,
   "metadata": {},
   "outputs": [
    {
     "data": {
      "text/plain": [
       "(array([  1.20340000e+05,   2.51650000e+04,   7.43600000e+03,\n",
       "          2.26400000e+03,   8.29000000e+02,   2.89000000e+02,\n",
       "          8.10000000e+01,   5.10000000e+01,   1.50000000e+01,\n",
       "          3.00000000e+00]),\n",
       " array([  1.00000000e+00,   3.28800000e+02,   6.56600000e+02,\n",
       "          9.84400000e+02,   1.31220000e+03,   1.64000000e+03,\n",
       "          1.96780000e+03,   2.29560000e+03,   2.62340000e+03,\n",
       "          2.95120000e+03,   3.27900000e+03]),\n",
       " <a list of 10 Patch objects>)"
      ]
     },
     "execution_count": 13,
     "metadata": {},
     "output_type": "execute_result"
    },
    {
     "data": {
      "image/png": "[encoded data removed]",
      "text/plain": [
       "<Figure size 432x288 with 1 Axes>"
      ]
     },
     "metadata": {
      "needs_background": "light"
     },
     "output_type": "display_data"
    }
   ],
   "source": [
    "plt.hist(clean_df['ENTRY_DIFFS'].dropna())"
   ]
  },
  {
   "cell_type": "code",
   "execution_count": 18,
   "metadata": {},
   "outputs": [],
   "source": [
    "grp1 = df.groupby(['STATION_KEY', 'DATE'])['ENTRY_DIFFS','EXIT_DIFFS'].sum().reset_index()"
   ]
  },
  {
   "cell_type": "code",
   "execution_count": 19,
   "metadata": {},
   "outputs": [
    {
     "data": {
      "text/html": [
       "<div>\n",
       "<style scoped>\n",
       "    .dataframe tbody tr th:only-of-type {\n",
       "        vertical-align: middle;\n",
       "    }\n",
       "\n",
       "    .dataframe tbody tr th {\n",
       "        vertical-align: top;\n",
       "    }\n",
       "\n",
       "    .dataframe thead th {\n",
       "        text-align: right;\n",
       "    }\n",
       "</style>\n",
       "<table border=\"1\" class=\"dataframe\">\n",
       "  <thead>\n",
       "    <tr style=\"text-align: right;\">\n",
       "      <th></th>\n",
       "      <th>STATION_KEY</th>\n",
       "      <th>DATE</th>\n",
       "      <th>ENTRY_DIFFS</th>\n",
       "      <th>EXIT_DIFFS</th>\n",
       "    </tr>\n",
       "  </thead>\n",
       "  <tbody>\n",
       "    <tr>\n",
       "      <th>0</th>\n",
       "      <td>A002 R051 59 ST</td>\n",
       "      <td>2018-05-19</td>\n",
       "      <td>6838.0</td>\n",
       "      <td>3981.0</td>\n",
       "    </tr>\n",
       "    <tr>\n",
       "      <th>1</th>\n",
       "      <td>A002 R051 59 ST</td>\n",
       "      <td>2018-05-20</td>\n",
       "      <td>5712.0</td>\n",
       "      <td>3452.0</td>\n",
       "    </tr>\n",
       "    <tr>\n",
       "      <th>2</th>\n",
       "      <td>A002 R051 59 ST</td>\n",
       "      <td>2018-05-21</td>\n",
       "      <td>13167.0</td>\n",
       "      <td>8141.0</td>\n",
       "    </tr>\n",
       "    <tr>\n",
       "      <th>3</th>\n",
       "      <td>A002 R051 59 ST</td>\n",
       "      <td>2018-05-22</td>\n",
       "      <td>13706.0</td>\n",
       "      <td>8690.0</td>\n",
       "    </tr>\n",
       "    <tr>\n",
       "      <th>4</th>\n",
       "      <td>A002 R051 59 ST</td>\n",
       "      <td>2018-05-23</td>\n",
       "      <td>14233.0</td>\n",
       "      <td>8919.0</td>\n",
       "    </tr>\n",
       "  </tbody>\n",
       "</table>\n",
       "</div>"
      ],
      "text/plain": [
       "       STATION_KEY       DATE  ENTRY_DIFFS  EXIT_DIFFS\n",
       "0  A002 R051 59 ST 2018-05-19       6838.0      3981.0\n",
       "1  A002 R051 59 ST 2018-05-20       5712.0      3452.0\n",
       "2  A002 R051 59 ST 2018-05-21      13167.0      8141.0\n",
       "3  A002 R051 59 ST 2018-05-22      13706.0      8690.0\n",
       "4  A002 R051 59 ST 2018-05-23      14233.0      8919.0"
      ]
     },
     "execution_count": 19,
     "metadata": {},
     "output_type": "execute_result"
    }
   ],
   "source": [
    "grp1.head()"
   ]
  },
  {
   "cell_type": "markdown",
   "metadata": {},
   "source": [
    "Take the highest-volume stations and look at them more closely"
   ]
  },
  {
   "cell_type": "code",
   "execution_count": 20,
   "metadata": {},
   "outputs": [],
   "source": [
    "highest_vol = clean_df.sort_values('ENTRY_DIFFS').tail(100)['STATION_KEY'].unique()"
   ]
  },
  {
   "cell_type": "code",
   "execution_count": 21,
   "metadata": {},
   "outputs": [],
   "source": [
    "x_labels = calendar.day_name[5:] + calendar.day_name[:5]"
   ]
  },
  {
   "cell_type": "code",
   "execution_count": 22,
   "metadata": {},
   "outputs": [
    {
     "data": {
      "image/png": "[encoded data removed]",
      "text/plain": [
       "<Figure size 864x576 with 1 Axes>"
      ]
     },
     "metadata": {
      "needs_background": "light"
     },
     "output_type": "display_data"
    }
   ],
   "source": [
    "fig, ax = plt.subplots(figsize=[12,8])\n",
    "\n",
    "for s in highest_vol:\n",
    "    dum_df = grp1[grp1['STATION_KEY'] == s]\n",
    "    xs = dum_df['DATE']\n",
    "    week_start = xs.iloc[0].strftime('%Y-%m-%d')\n",
    "    plt.plot(xs, dum_df['ENTRY_DIFFS'], label=s)\n",
    "    xticklocs = ax.get_xticks()\n",
    "    plt.xticks(xticklocs, x_labels)\n",
    "    plt.legend()\n",
    "    plt.ylabel('# of entries per day')\n",
    "    plt.title('Highest volume stations for the week of: ' + str(week_start));"
   ]
  },
  {
   "cell_type": "markdown",
   "metadata": {},
   "source": [
    "**Next steps:** \n",
    "- determine what we want our \"weekday vs weekend\" cut-off to be. \n",
    "- plot a heatmap of a few of these stations (GRD CENTRAL, ASTORIA DITMARS, e.g.)"
   ]
  },
  {
   "cell_type": "code",
   "execution_count": 33,
   "metadata": {},
   "outputs": [],
   "source": [
    "def get_station_data(s):\n",
    "    '''Given station key ,\n",
    "    returns all entries from cleaned data frame for this station '''\n",
    "    #d = dt.datetime(d_tuple)\n",
    "    return clean_df[clean_df['STATION_KEY'] == s]"
   ]
  },
  {
   "cell_type": "code",
   "execution_count": null,
   "metadata": {},
   "outputs": [],
   "source": [
    "def station_datetime(s, d):\n",
    "    '''Given station key and date,\n",
    "    returns all entries from cleaned data frame for this station & date\n",
    "    Date is in format (year, month, date)'''\n",
    "    #d = dt.datetime(d_tuple)\n",
    "    return clean_df[(clean_df['DATE'] == d) & (clean_df['STATION_KEY'] == s)]"
   ]
  },
  {
   "cell_type": "code",
   "execution_count": null,
   "metadata": {},
   "outputs": [],
   "source": [
    "def station_dayints(s, year, month, day):\n",
    "    '''Given station key and date,\n",
    "    returns all entries from cleaned data frame for this station & date\n",
    "    Date is in format (year, month, date)'''\n",
    "    d = dt.datetime(year, month, day)\n",
    "    return clean_df[(clean_df['DATE'] == d) & (clean_df['STATION_KEY'] == s)]"
   ]
  },
  {
   "cell_type": "code",
   "execution_count": null,
   "metadata": {},
   "outputs": [],
   "source": []
  },
  {
   "cell_type": "code",
   "execution_count": 23,
   "metadata": {},
   "outputs": [],
   "source": [
    "import seaborn as sns"
   ]
  },
  {
   "cell_type": "code",
   "execution_count": null,
   "metadata": {},
   "outputs": [],
   "source": [
    "def get_station_data(s):\n",
    "    '''Given station key ,\n",
    "    returns all entries from cleaned data frame for this station '''\n",
    "    #d = dt.datetime(d_tuple)\n",
    "    return clean_df[clean_df['STATION_KEY'] == s]"
   ]
  },
  {
   "cell_type": "code",
   "execution_count": 39,
   "metadata": {},
   "outputs": [],
   "source": [
    "def heatmap_data_old(s, year, month, day):\n",
    "    '''Given station key and date,c\n",
    "    returns all entries from cleaned data frame for this station & date\n",
    "    Date is in format (year, month, date)'''\n",
    "    d = dt.datetime(year, month, day)\n",
    "    return clean_df[(clean_df['DATE'] == d) & (clean_df['STATION_KEY'] == s)][['DATETIME','ENTRY_DIFFS']]"
   ]
  },
  {
   "cell_type": "code",
   "execution_count": 42,
   "metadata": {},
   "outputs": [],
   "source": [
    "def heatmap_data(s, year, month, day):\n",
    "    '''Given station key and date,c\n",
    "    returns all entries from cleaned data frame for this station & date\n",
    "    Date is in format (year, month, date)'''\n",
    "    d = dt.datetime(year, month, day)\n",
    "    dum_df = clean_df[(clean_df['DATE'] == d) & (clean_df['STATION_KEY'] == s)]\n",
    "    return dum_df.groupby('DATETIME')['ENTRY_DIFFS'].sum()"
   ]
  },
  {
   "cell_type": "code",
   "execution_count": 24,
   "metadata": {},
   "outputs": [],
   "source": [
    "gc_key = highest_vol[0]"
   ]
  },
  {
   "cell_type": "code",
   "execution_count": 34,
   "metadata": {},
   "outputs": [],
   "source": [
    "gc_data = get_station_data(gc_key)"
   ]
  },
  {
   "cell_type": "code",
   "execution_count": 35,
   "metadata": {
    "collapsed": true
   },
   "outputs": [
    {
     "data": {
      "text/html": [
       "<div>\n",
       "<style scoped>\n",
       "    .dataframe tbody tr th:only-of-type {\n",
       "        vertical-align: middle;\n",
       "    }\n",
       "\n",
       "    .dataframe tbody tr th {\n",
       "        vertical-align: top;\n",
       "    }\n",
       "\n",
       "    .dataframe thead th {\n",
       "        text-align: right;\n",
       "    }\n",
       "</style>\n",
       "<table border=\"1\" class=\"dataframe\">\n",
       "  <thead>\n",
       "    <tr style=\"text-align: right;\">\n",
       "      <th></th>\n",
       "      <th>C/A</th>\n",
       "      <th>UNIT</th>\n",
       "      <th>SCP</th>\n",
       "      <th>STATION</th>\n",
       "      <th>LINENAME</th>\n",
       "      <th>DIVISION</th>\n",
       "      <th>DATE</th>\n",
       "      <th>TIME</th>\n",
       "      <th>DESC</th>\n",
       "      <th>ENTRIES</th>\n",
       "      <th>EXITS</th>\n",
       "      <th>DATETIME</th>\n",
       "      <th>STATION_KEY</th>\n",
       "      <th>ENTRY_DIFFS</th>\n",
       "      <th>EXIT_DIFFS</th>\n",
       "    </tr>\n",
       "  </thead>\n",
       "  <tbody>\n",
       "    <tr>\n",
       "      <th>152751</th>\n",
       "      <td>R238</td>\n",
       "      <td>R046</td>\n",
       "      <td>00-00-00</td>\n",
       "      <td>GRD CNTRL-42 ST</td>\n",
       "      <td>4567S</td>\n",
       "      <td>IRT</td>\n",
       "      <td>2018-05-19</td>\n",
       "      <td>00:00:00</td>\n",
       "      <td>REGULAR</td>\n",
       "      <td>678</td>\n",
       "      <td>7417</td>\n",
       "      <td>2018-05-19 00:00:00</td>\n",
       "      <td>R238 R046 GRD CNTRL-42 ST</td>\n",
       "      <td>13.0</td>\n",
       "      <td>62.0</td>\n",
       "    </tr>\n",
       "    <tr>\n",
       "      <th>152752</th>\n",
       "      <td>R238</td>\n",
       "      <td>R046</td>\n",
       "      <td>00-00-00</td>\n",
       "      <td>GRD CNTRL-42 ST</td>\n",
       "      <td>4567S</td>\n",
       "      <td>IRT</td>\n",
       "      <td>2018-05-19</td>\n",
       "      <td>04:00:00</td>\n",
       "      <td>REGULAR</td>\n",
       "      <td>691</td>\n",
       "      <td>7479</td>\n",
       "      <td>2018-05-19 04:00:00</td>\n",
       "      <td>R238 R046 GRD CNTRL-42 ST</td>\n",
       "      <td>9.0</td>\n",
       "      <td>121.0</td>\n",
       "    </tr>\n",
       "    <tr>\n",
       "      <th>152753</th>\n",
       "      <td>R238</td>\n",
       "      <td>R046</td>\n",
       "      <td>00-00-00</td>\n",
       "      <td>GRD CNTRL-42 ST</td>\n",
       "      <td>4567S</td>\n",
       "      <td>IRT</td>\n",
       "      <td>2018-05-19</td>\n",
       "      <td>08:00:00</td>\n",
       "      <td>REGULAR</td>\n",
       "      <td>700</td>\n",
       "      <td>7600</td>\n",
       "      <td>2018-05-19 08:00:00</td>\n",
       "      <td>R238 R046 GRD CNTRL-42 ST</td>\n",
       "      <td>60.0</td>\n",
       "      <td>513.0</td>\n",
       "    </tr>\n",
       "    <tr>\n",
       "      <th>152754</th>\n",
       "      <td>R238</td>\n",
       "      <td>R046</td>\n",
       "      <td>00-00-00</td>\n",
       "      <td>GRD CNTRL-42 ST</td>\n",
       "      <td>4567S</td>\n",
       "      <td>IRT</td>\n",
       "      <td>2018-05-19</td>\n",
       "      <td>12:00:00</td>\n",
       "      <td>REGULAR</td>\n",
       "      <td>760</td>\n",
       "      <td>8113</td>\n",
       "      <td>2018-05-19 12:00:00</td>\n",
       "      <td>R238 R046 GRD CNTRL-42 ST</td>\n",
       "      <td>108.0</td>\n",
       "      <td>747.0</td>\n",
       "    </tr>\n",
       "    <tr>\n",
       "      <th>152755</th>\n",
       "      <td>R238</td>\n",
       "      <td>R046</td>\n",
       "      <td>00-00-00</td>\n",
       "      <td>GRD CNTRL-42 ST</td>\n",
       "      <td>4567S</td>\n",
       "      <td>IRT</td>\n",
       "      <td>2018-05-19</td>\n",
       "      <td>16:00:00</td>\n",
       "      <td>REGULAR</td>\n",
       "      <td>868</td>\n",
       "      <td>8860</td>\n",
       "      <td>2018-05-19 16:00:00</td>\n",
       "      <td>R238 R046 GRD CNTRL-42 ST</td>\n",
       "      <td>104.0</td>\n",
       "      <td>567.0</td>\n",
       "    </tr>\n",
       "  </tbody>\n",
       "</table>\n",
       "</div>"
      ],
      "text/plain": [
       "         C/A  UNIT       SCP          STATION LINENAME DIVISION       DATE  \\\n",
       "152751  R238  R046  00-00-00  GRD CNTRL-42 ST    4567S      IRT 2018-05-19   \n",
       "152752  R238  R046  00-00-00  GRD CNTRL-42 ST    4567S      IRT 2018-05-19   \n",
       "152753  R238  R046  00-00-00  GRD CNTRL-42 ST    4567S      IRT 2018-05-19   \n",
       "152754  R238  R046  00-00-00  GRD CNTRL-42 ST    4567S      IRT 2018-05-19   \n",
       "152755  R238  R046  00-00-00  GRD CNTRL-42 ST    4567S      IRT 2018-05-19   \n",
       "\n",
       "            TIME     DESC  ENTRIES  EXITS            DATETIME  \\\n",
       "152751  00:00:00  REGULAR      678   7417 2018-05-19 00:00:00   \n",
       "152752  04:00:00  REGULAR      691   7479 2018-05-19 04:00:00   \n",
       "152753  08:00:00  REGULAR      700   7600 2018-05-19 08:00:00   \n",
       "152754  12:00:00  REGULAR      760   8113 2018-05-19 12:00:00   \n",
       "152755  16:00:00  REGULAR      868   8860 2018-05-19 16:00:00   \n",
       "\n",
       "                      STATION_KEY  ENTRY_DIFFS  EXIT_DIFFS  \n",
       "152751  R238 R046 GRD CNTRL-42 ST         13.0        62.0  \n",
       "152752  R238 R046 GRD CNTRL-42 ST          9.0       121.0  \n",
       "152753  R238 R046 GRD CNTRL-42 ST         60.0       513.0  \n",
       "152754  R238 R046 GRD CNTRL-42 ST        108.0       747.0  \n",
       "152755  R238 R046 GRD CNTRL-42 ST        104.0       567.0  "
      ]
     },
     "execution_count": 35,
     "metadata": {},
     "output_type": "execute_result"
    }
   ],
   "source": [
    "gc_data.head()"
   ]
  },
  {
   "cell_type": "code",
   "execution_count": 43,
   "metadata": {},
   "outputs": [
    {
     "data": {
      "text/plain": [
       "DATETIME\n",
       "2018-05-19 00:00:00    1778.0\n",
       "2018-05-19 04:00:00    1132.0\n",
       "2018-05-19 08:00:00    5631.0\n",
       "2018-05-19 12:00:00    8925.0\n",
       "2018-05-19 16:00:00    8736.0\n",
       "2018-05-19 20:00:00    4367.0\n",
       "Name: ENTRY_DIFFS, dtype: float64"
      ]
     },
     "execution_count": 43,
     "metadata": {},
     "output_type": "execute_result"
    }
   ],
   "source": [
    "heatmap_data(gc_key, 2018, 5, 19)"
   ]
  },
  {
   "cell_type": "code",
   "execution_count": 36,
   "metadata": {
    "collapsed": true
   },
   "outputs": [
    {
     "data": {
      "text/plain": [
       "DATETIME\n",
       "2018-05-19 00:00:00     1778.0\n",
       "2018-05-19 04:00:00     1132.0\n",
       "2018-05-19 08:00:00     5631.0\n",
       "2018-05-19 12:00:00     8925.0\n",
       "2018-05-19 16:00:00     8736.0\n",
       "2018-05-19 20:00:00     4367.0\n",
       "2018-05-20 00:00:00     1388.0\n",
       "2018-05-20 04:00:00      604.0\n",
       "2018-05-20 08:00:00     5064.0\n",
       "2018-05-20 12:00:00     6829.0\n",
       "2018-05-20 16:00:00     7284.0\n",
       "2018-05-20 20:00:00     4263.0\n",
       "2018-05-21 00:00:00      626.0\n",
       "2018-05-21 04:00:00     4326.0\n",
       "2018-05-21 08:00:00    11975.0\n",
       "2018-05-21 12:00:00     8546.0\n",
       "2018-05-21 16:00:00    13920.0\n",
       "2018-05-21 20:00:00     6521.0\n",
       "2018-05-22 00:00:00      687.0\n",
       "2018-05-22 04:00:00     4564.0\n",
       "2018-05-22 08:00:00    11276.0\n",
       "2018-05-22 12:00:00    10331.0\n",
       "2018-05-22 16:00:00    16474.0\n",
       "2018-05-22 20:00:00     6647.0\n",
       "2018-05-23 00:00:00     1303.0\n",
       "2018-05-23 04:00:00     4446.0\n",
       "2018-05-23 08:00:00    11503.0\n",
       "2018-05-23 12:00:00     9947.0\n",
       "2018-05-23 16:00:00    15888.0\n",
       "2018-05-23 20:00:00     7557.0\n",
       "2018-05-24 00:00:00     1428.0\n",
       "2018-05-24 04:00:00     4208.0\n",
       "2018-05-24 08:00:00    11318.0\n",
       "2018-05-24 12:00:00     9885.0\n",
       "2018-05-24 16:00:00    15022.0\n",
       "2018-05-24 20:00:00     7266.0\n",
       "2018-05-25 00:00:00     1534.0\n",
       "2018-05-25 04:00:00     3401.0\n",
       "2018-05-25 08:00:00     9524.0\n",
       "2018-05-25 12:00:00    11808.0\n",
       "2018-05-25 16:00:00    13085.0\n",
       "Name: ENTRY_DIFFS, dtype: float64"
      ]
     },
     "execution_count": 36,
     "metadata": {},
     "output_type": "execute_result"
    }
   ],
   "source": [
    "hm_data = gc_data.groupby('DATETIME')['ENTRY_DIFFS'].sum()"
   ]
  },
  {
   "cell_type": "code",
   "execution_count": 48,
   "metadata": {},
   "outputs": [],
   "source": [
    "gc_hmdata = [heatmap_data(gc_key, 2018, 5, d) for d in range(19,26)]\n",
    "# gc_hmdata"
   ]
  },
  {
   "cell_type": "code",
   "execution_count": 49,
   "metadata": {},
   "outputs": [
    {
     "data": {
      "text/plain": [
       "[DATETIME\n",
       " 2018-05-19 00:00:00    1778.0\n",
       " 2018-05-19 04:00:00    1132.0\n",
       " 2018-05-19 08:00:00    5631.0\n",
       " 2018-05-19 12:00:00    8925.0\n",
       " 2018-05-19 16:00:00    8736.0\n",
       " 2018-05-19 20:00:00    4367.0\n",
       " Name: ENTRY_DIFFS, dtype: float64, DATETIME\n",
       " 2018-05-20 00:00:00    1388.0\n",
       " 2018-05-20 04:00:00     604.0\n",
       " 2018-05-20 08:00:00    5064.0\n",
       " 2018-05-20 12:00:00    6829.0\n",
       " 2018-05-20 16:00:00    7284.0\n",
       " 2018-05-20 20:00:00    4263.0\n",
       " Name: ENTRY_DIFFS, dtype: float64, DATETIME\n",
       " 2018-05-21 00:00:00      626.0\n",
       " 2018-05-21 04:00:00     4326.0\n",
       " 2018-05-21 08:00:00    11975.0\n",
       " 2018-05-21 12:00:00     8546.0\n",
       " 2018-05-21 16:00:00    13920.0\n",
       " 2018-05-21 20:00:00     6521.0\n",
       " Name: ENTRY_DIFFS, dtype: float64, DATETIME\n",
       " 2018-05-22 00:00:00      687.0\n",
       " 2018-05-22 04:00:00     4564.0\n",
       " 2018-05-22 08:00:00    11276.0\n",
       " 2018-05-22 12:00:00    10331.0\n",
       " 2018-05-22 16:00:00    16474.0\n",
       " 2018-05-22 20:00:00     6647.0\n",
       " Name: ENTRY_DIFFS, dtype: float64, DATETIME\n",
       " 2018-05-23 00:00:00     1303.0\n",
       " 2018-05-23 04:00:00     4446.0\n",
       " 2018-05-23 08:00:00    11503.0\n",
       " 2018-05-23 12:00:00     9947.0\n",
       " 2018-05-23 16:00:00    15888.0\n",
       " 2018-05-23 20:00:00     7557.0\n",
       " Name: ENTRY_DIFFS, dtype: float64, DATETIME\n",
       " 2018-05-24 00:00:00     1428.0\n",
       " 2018-05-24 04:00:00     4208.0\n",
       " 2018-05-24 08:00:00    11318.0\n",
       " 2018-05-24 12:00:00     9885.0\n",
       " 2018-05-24 16:00:00    15022.0\n",
       " 2018-05-24 20:00:00     7266.0\n",
       " Name: ENTRY_DIFFS, dtype: float64, DATETIME\n",
       " 2018-05-25 00:00:00     1534.0\n",
       " 2018-05-25 04:00:00     3401.0\n",
       " 2018-05-25 08:00:00     9524.0\n",
       " 2018-05-25 12:00:00    11808.0\n",
       " 2018-05-25 16:00:00    13085.0\n",
       " Name: ENTRY_DIFFS, dtype: float64]"
      ]
     },
     "execution_count": 49,
     "metadata": {},
     "output_type": "execute_result"
    }
   ],
   "source": [
    "gc_hmdata"
   ]
  },
  {
   "cell_type": "code",
   "execution_count": 54,
   "metadata": {},
   "outputs": [
    {
     "data": {
      "text/plain": [
       "DATETIME\n",
       "2018-05-25 00:00:00     1534.0\n",
       "2018-05-25 04:00:00     3401.0\n",
       "2018-05-25 08:00:00     9524.0\n",
       "2018-05-25 12:00:00    11808.0\n",
       "2018-05-25 16:00:00    13085.0\n",
       "Name: ENTRY_DIFFS, dtype: float64"
      ]
     },
     "execution_count": 54,
     "metadata": {},
     "output_type": "execute_result"
    }
   ],
   "source": [
    "len(gc_hmdata[-1]"
   ]
  },
  {
   "cell_type": "code",
   "execution_count": 53,
   "metadata": {},
   "outputs": [
    {
     "ename": "TypeError",
     "evalue": "cannot concatenate object of type \"<class 'datetime.datetime'>\"; only pd.Series, pd.DataFrame, and pd.Panel (deprecated) objs are valid",
     "output_type": "error",
     "traceback": [
      "\u001b[0;31m---------------------------------------------------------------------------\u001b[0m",
      "\u001b[0;31mTypeError\u001b[0m                                 Traceback (most recent call last)",
      "\u001b[0;32m<ipython-input-53-d3058fc1f12f>\u001b[0m in \u001b[0;36m<module>\u001b[0;34m()\u001b[0m\n\u001b[0;32m----> 1\u001b[0;31m \u001b[0mgc_hmdata\u001b[0m\u001b[0;34m[\u001b[0m\u001b[0;34m-\u001b[0m\u001b[0;36m1\u001b[0m\u001b[0;34m]\u001b[0m\u001b[0;34m.\u001b[0m\u001b[0mappend\u001b[0m\u001b[0;34m(\u001b[0m\u001b[0mdt\u001b[0m\u001b[0;34m.\u001b[0m\u001b[0mdatetime\u001b[0m\u001b[0;34m(\u001b[0m\u001b[0;36m2018\u001b[0m\u001b[0;34m,\u001b[0m\u001b[0;36m5\u001b[0m\u001b[0;34m,\u001b[0m\u001b[0;36m25\u001b[0m\u001b[0;34m,\u001b[0m\u001b[0;36m20\u001b[0m\u001b[0;34m,\u001b[0m\u001b[0;36m0\u001b[0m\u001b[0;34m,\u001b[0m\u001b[0;36m0\u001b[0m\u001b[0;34m)\u001b[0m\u001b[0;34m,\u001b[0m\u001b[0;36m5000\u001b[0m\u001b[0;34m)\u001b[0m\u001b[0;34m\u001b[0m\u001b[0m\n\u001b[0m",
      "\u001b[0;32m~/anaconda3/lib/python3.5/site-packages/pandas/core/series.py\u001b[0m in \u001b[0;36mappend\u001b[0;34m(self, to_append, ignore_index, verify_integrity)\u001b[0m\n\u001b[1;32m   2154\u001b[0m             \u001b[0mto_concat\u001b[0m \u001b[0;34m=\u001b[0m \u001b[0;34m[\u001b[0m\u001b[0mself\u001b[0m\u001b[0;34m,\u001b[0m \u001b[0mto_append\u001b[0m\u001b[0;34m]\u001b[0m\u001b[0;34m\u001b[0m\u001b[0m\n\u001b[1;32m   2155\u001b[0m         return concat(to_concat, ignore_index=ignore_index,\n\u001b[0;32m-> 2156\u001b[0;31m                       verify_integrity=verify_integrity)\n\u001b[0m\u001b[1;32m   2157\u001b[0m \u001b[0;34m\u001b[0m\u001b[0m\n\u001b[1;32m   2158\u001b[0m     \u001b[0;32mdef\u001b[0m \u001b[0m_binop\u001b[0m\u001b[0;34m(\u001b[0m\u001b[0mself\u001b[0m\u001b[0;34m,\u001b[0m \u001b[0mother\u001b[0m\u001b[0;34m,\u001b[0m \u001b[0mfunc\u001b[0m\u001b[0;34m,\u001b[0m \u001b[0mlevel\u001b[0m\u001b[0;34m=\u001b[0m\u001b[0;32mNone\u001b[0m\u001b[0;34m,\u001b[0m \u001b[0mfill_value\u001b[0m\u001b[0;34m=\u001b[0m\u001b[0;32mNone\u001b[0m\u001b[0;34m)\u001b[0m\u001b[0;34m:\u001b[0m\u001b[0;34m\u001b[0m\u001b[0m\n",
      "\u001b[0;32m~/anaconda3/lib/python3.5/site-packages/pandas/core/reshape/concat.py\u001b[0m in \u001b[0;36mconcat\u001b[0;34m(objs, axis, join, join_axes, ignore_index, keys, levels, names, verify_integrity, sort, copy)\u001b[0m\n\u001b[1;32m    223\u001b[0m                        \u001b[0mkeys\u001b[0m\u001b[0;34m=\u001b[0m\u001b[0mkeys\u001b[0m\u001b[0;34m,\u001b[0m \u001b[0mlevels\u001b[0m\u001b[0;34m=\u001b[0m\u001b[0mlevels\u001b[0m\u001b[0;34m,\u001b[0m \u001b[0mnames\u001b[0m\u001b[0;34m=\u001b[0m\u001b[0mnames\u001b[0m\u001b[0;34m,\u001b[0m\u001b[0;34m\u001b[0m\u001b[0m\n\u001b[1;32m    224\u001b[0m                        \u001b[0mverify_integrity\u001b[0m\u001b[0;34m=\u001b[0m\u001b[0mverify_integrity\u001b[0m\u001b[0;34m,\u001b[0m\u001b[0;34m\u001b[0m\u001b[0m\n\u001b[0;32m--> 225\u001b[0;31m                        copy=copy, sort=sort)\n\u001b[0m\u001b[1;32m    226\u001b[0m     \u001b[0;32mreturn\u001b[0m \u001b[0mop\u001b[0m\u001b[0;34m.\u001b[0m\u001b[0mget_result\u001b[0m\u001b[0;34m(\u001b[0m\u001b[0;34m)\u001b[0m\u001b[0;34m\u001b[0m\u001b[0m\n\u001b[1;32m    227\u001b[0m \u001b[0;34m\u001b[0m\u001b[0m\n",
      "\u001b[0;32m~/anaconda3/lib/python3.5/site-packages/pandas/core/reshape/concat.py\u001b[0m in \u001b[0;36m__init__\u001b[0;34m(self, objs, axis, join, join_axes, keys, levels, names, ignore_index, verify_integrity, copy, sort)\u001b[0m\n\u001b[1;32m    284\u001b[0m                        \u001b[0;34m' only pd.Series, pd.DataFrame, and pd.Panel'\u001b[0m\u001b[0;34m\u001b[0m\u001b[0m\n\u001b[1;32m    285\u001b[0m                        ' (deprecated) objs are valid'.format(type(obj)))\n\u001b[0;32m--> 286\u001b[0;31m                 \u001b[0;32mraise\u001b[0m \u001b[0mTypeError\u001b[0m\u001b[0;34m(\u001b[0m\u001b[0mmsg\u001b[0m\u001b[0;34m)\u001b[0m\u001b[0;34m\u001b[0m\u001b[0m\n\u001b[0m\u001b[1;32m    287\u001b[0m \u001b[0;34m\u001b[0m\u001b[0m\n\u001b[1;32m    288\u001b[0m             \u001b[0;31m# consolidate\u001b[0m\u001b[0;34m\u001b[0m\u001b[0;34m\u001b[0m\u001b[0m\n",
      "\u001b[0;31mTypeError\u001b[0m: cannot concatenate object of type \"<class 'datetime.datetime'>\"; only pd.Series, pd.DataFrame, and pd.Panel (deprecated) objs are valid"
     ]
    }
   ],
   "source": [
    "gc_hmdata[-1].append(dt.datetime(2018,5,25,20,0,0),5000)"
   ]
  },
  {
   "cell_type": "code",
   "execution_count": 51,
   "metadata": {},
   "outputs": [
    {
     "data": {
      "text/plain": [
       "<matplotlib.axes._subplots.AxesSubplot at 0x11ba13f98>"
      ]
     },
     "execution_count": 51,
     "metadata": {},
     "output_type": "execute_result"
    },
    {
     "data": {
      "image/png": "[encoded data removed]",
      "text/plain": [
       "<Figure size 432x288 with 2 Axes>"
      ]
     },
     "metadata": {
      "needs_background": "light"
     },
     "output_type": "display_data"
    }
   ],
   "source": [
    "sns.heatmap(gc_hmdata[:-1])"
   ]
  },
  {
   "cell_type": "code",
   "execution_count": 47,
   "metadata": {},
   "outputs": [
    {
     "name": "stdout",
     "output_type": "stream",
     "text": [
      "6\n",
      "6\n",
      "6\n",
      "6\n",
      "6\n",
      "6\n",
      "5\n",
      "0\n"
     ]
    }
   ],
   "source": [
    "for x in gc_hmdata:\n",
    "    print(len(x))"
   ]
  },
  {
   "cell_type": "code",
   "execution_count": 30,
   "metadata": {},
   "outputs": [
    {
     "data": {
      "text/plain": [
       "[                  DATETIME  ENTRY_DIFFS\n",
       " 152751 2018-05-19 00:00:00         13.0\n",
       " 152752 2018-05-19 04:00:00          9.0\n",
       " 152753 2018-05-19 08:00:00         60.0\n",
       " 152754 2018-05-19 12:00:00        108.0\n",
       " 152755 2018-05-19 16:00:00        104.0\n",
       " 152756 2018-05-19 20:00:00         24.0\n",
       " 152793 2018-05-19 00:00:00         21.0\n",
       " 152794 2018-05-19 04:00:00         12.0\n",
       " 152795 2018-05-19 08:00:00        143.0\n",
       " 152796 2018-05-19 12:00:00        185.0\n",
       " 152797 2018-05-19 16:00:00        131.0\n",
       " 152798 2018-05-19 20:00:00         57.0\n",
       " 152835 2018-05-19 00:00:00         27.0\n",
       " 152836 2018-05-19 04:00:00         10.0\n",
       " 152837 2018-05-19 08:00:00        160.0\n",
       " 152838 2018-05-19 12:00:00        209.0\n",
       " 152839 2018-05-19 16:00:00        161.0\n",
       " 152840 2018-05-19 20:00:00         50.0\n",
       " 152877 2018-05-19 00:00:00         18.0\n",
       " 152878 2018-05-19 04:00:00         21.0\n",
       " 152879 2018-05-19 08:00:00        138.0\n",
       " 152880 2018-05-19 12:00:00        209.0\n",
       " 152881 2018-05-19 16:00:00        130.0\n",
       " 152882 2018-05-19 20:00:00         59.0\n",
       " 152919 2018-05-19 00:00:00         12.0\n",
       " 152920 2018-05-19 04:00:00          9.0\n",
       " 152921 2018-05-19 08:00:00        131.0\n",
       " 152922 2018-05-19 12:00:00        206.0\n",
       " 152923 2018-05-19 16:00:00        138.0\n",
       " 152924 2018-05-19 20:00:00         42.0\n",
       " ...                    ...          ...\n",
       " 153129 2018-05-19 00:00:00        183.0\n",
       " 153130 2018-05-19 04:00:00        112.0\n",
       " 153131 2018-05-19 08:00:00        650.0\n",
       " 153132 2018-05-19 12:00:00       1042.0\n",
       " 153133 2018-05-19 16:00:00        809.0\n",
       " 153134 2018-05-19 20:00:00        305.0\n",
       " 153171 2018-05-19 00:00:00        298.0\n",
       " 153172 2018-05-19 04:00:00        169.0\n",
       " 153173 2018-05-19 08:00:00        946.0\n",
       " 153174 2018-05-19 12:00:00       1531.0\n",
       " 153175 2018-05-19 16:00:00       1282.0\n",
       " 153176 2018-05-19 20:00:00        446.0\n",
       " 153213 2018-05-19 00:00:00        340.0\n",
       " 153214 2018-05-19 04:00:00        228.0\n",
       " 153215 2018-05-19 08:00:00        807.0\n",
       " 153216 2018-05-19 12:00:00       1244.0\n",
       " 153217 2018-05-19 16:00:00        943.0\n",
       " 153218 2018-05-19 20:00:00        476.0\n",
       " 153255 2018-05-19 00:00:00        623.0\n",
       " 153256 2018-05-19 04:00:00        433.0\n",
       " 153257 2018-05-19 08:00:00       1406.0\n",
       " 153258 2018-05-19 12:00:00       2031.0\n",
       " 153259 2018-05-19 16:00:00       1636.0\n",
       " 153260 2018-05-19 20:00:00        751.0\n",
       " 153384 2018-05-19 16:00:00        729.0\n",
       " 153385 2018-05-19 20:00:00        671.0\n",
       " 153426 2018-05-19 16:00:00        555.0\n",
       " 153427 2018-05-19 20:00:00        561.0\n",
       " 153468 2018-05-19 16:00:00        545.0\n",
       " 153469 2018-05-19 20:00:00        462.0\n",
       " \n",
       " [84 rows x 2 columns],                   DATETIME  ENTRY_DIFFS\n",
       " 152757 2018-05-20 00:00:00          9.0\n",
       " 152758 2018-05-20 04:00:00          2.0\n",
       " 152759 2018-05-20 08:00:00         46.0\n",
       " 152760 2018-05-20 12:00:00         54.0\n",
       " 152761 2018-05-20 16:00:00         46.0\n",
       " 152762 2018-05-20 20:00:00         25.0\n",
       " 152799 2018-05-20 00:00:00         10.0\n",
       " 152800 2018-05-20 04:00:00          5.0\n",
       " 152801 2018-05-20 08:00:00        106.0\n",
       " 152802 2018-05-20 12:00:00        105.0\n",
       " 152803 2018-05-20 16:00:00         63.0\n",
       " 152804 2018-05-20 20:00:00         48.0\n",
       " 152841 2018-05-20 00:00:00         17.0\n",
       " 152842 2018-05-20 04:00:00         12.0\n",
       " 152843 2018-05-20 08:00:00        103.0\n",
       " 152844 2018-05-20 12:00:00        107.0\n",
       " 152845 2018-05-20 16:00:00         93.0\n",
       " 152846 2018-05-20 20:00:00         49.0\n",
       " 152883 2018-05-20 00:00:00         12.0\n",
       " 152884 2018-05-20 04:00:00         10.0\n",
       " 152885 2018-05-20 08:00:00        119.0\n",
       " 152886 2018-05-20 12:00:00         82.0\n",
       " 152887 2018-05-20 16:00:00         90.0\n",
       " 152888 2018-05-20 20:00:00         51.0\n",
       " 152925 2018-05-20 00:00:00         13.0\n",
       " 152926 2018-05-20 04:00:00          8.0\n",
       " 152927 2018-05-20 08:00:00         81.0\n",
       " 152928 2018-05-20 12:00:00         91.0\n",
       " 152929 2018-05-20 16:00:00         81.0\n",
       " 152930 2018-05-20 20:00:00         39.0\n",
       " ...                    ...          ...\n",
       " 153219 2018-05-20 00:00:00        169.0\n",
       " 153220 2018-05-20 04:00:00         63.0\n",
       " 153221 2018-05-20 08:00:00        446.0\n",
       " 153222 2018-05-20 12:00:00        577.0\n",
       " 153223 2018-05-20 16:00:00        673.0\n",
       " 153224 2018-05-20 20:00:00        435.0\n",
       " 153261 2018-05-20 00:00:00        254.0\n",
       " 153262 2018-05-20 04:00:00        126.0\n",
       " 153263 2018-05-20 08:00:00        740.0\n",
       " 153264 2018-05-20 12:00:00       1036.0\n",
       " 153265 2018-05-20 16:00:00       1045.0\n",
       " 153266 2018-05-20 20:00:00        639.0\n",
       " 153386 2018-05-20 00:00:00        240.0\n",
       " 153387 2018-05-20 04:00:00        110.0\n",
       " 153388 2018-05-20 08:00:00        776.0\n",
       " 153389 2018-05-20 12:00:00       1147.0\n",
       " 153390 2018-05-20 16:00:00       1080.0\n",
       " 153391 2018-05-20 20:00:00        687.0\n",
       " 153428 2018-05-20 00:00:00        197.0\n",
       " 153429 2018-05-20 04:00:00         76.0\n",
       " 153430 2018-05-20 08:00:00        641.0\n",
       " 153431 2018-05-20 12:00:00        857.0\n",
       " 153432 2018-05-20 16:00:00        898.0\n",
       " 153433 2018-05-20 20:00:00        542.0\n",
       " 153470 2018-05-20 00:00:00        154.0\n",
       " 153471 2018-05-20 04:00:00         47.0\n",
       " 153472 2018-05-20 08:00:00        588.0\n",
       " 153473 2018-05-20 12:00:00        854.0\n",
       " 153474 2018-05-20 16:00:00        868.0\n",
       " 153475 2018-05-20 20:00:00        443.0\n",
       " \n",
       " [96 rows x 2 columns],                   DATETIME  ENTRY_DIFFS\n",
       " 152763 2018-05-21 00:00:00          7.0\n",
       " 152764 2018-05-21 04:00:00         37.0\n",
       " 152765 2018-05-21 08:00:00         96.0\n",
       " 152766 2018-05-21 12:00:00        106.0\n",
       " 152767 2018-05-21 16:00:00        110.0\n",
       " 152768 2018-05-21 20:00:00         29.0\n",
       " 152805 2018-05-21 00:00:00         10.0\n",
       " 152806 2018-05-21 04:00:00         44.0\n",
       " 152807 2018-05-21 08:00:00        183.0\n",
       " 152808 2018-05-21 12:00:00        176.0\n",
       " 152809 2018-05-21 16:00:00        209.0\n",
       " 152810 2018-05-21 20:00:00         62.0\n",
       " 152847 2018-05-21 00:00:00         19.0\n",
       " 152848 2018-05-21 04:00:00         63.0\n",
       " 152849 2018-05-21 08:00:00        251.0\n",
       " 152850 2018-05-21 12:00:00        241.0\n",
       " 152851 2018-05-21 16:00:00        269.0\n",
       " 152852 2018-05-21 20:00:00         66.0\n",
       " 152889 2018-05-21 00:00:00          9.0\n",
       " 152890 2018-05-21 04:00:00        123.0\n",
       " 152891 2018-05-21 08:00:00        318.0\n",
       " 152892 2018-05-21 12:00:00        254.0\n",
       " 152893 2018-05-21 16:00:00        381.0\n",
       " 152894 2018-05-21 20:00:00         80.0\n",
       " 152931 2018-05-21 00:00:00         12.0\n",
       " 152932 2018-05-21 04:00:00        101.0\n",
       " 152933 2018-05-21 08:00:00        289.0\n",
       " 152934 2018-05-21 12:00:00        226.0\n",
       " 152935 2018-05-21 16:00:00        377.0\n",
       " 152936 2018-05-21 20:00:00         56.0\n",
       " ...                    ...          ...\n",
       " 153188 2018-05-21 20:00:00        729.0\n",
       " 153225 2018-05-21 00:00:00         77.0\n",
       " 153226 2018-05-21 04:00:00        525.0\n",
       " 153227 2018-05-21 08:00:00        540.0\n",
       " 153228 2018-05-21 12:00:00       1137.0\n",
       " 153229 2018-05-21 16:00:00       2148.0\n",
       " 153230 2018-05-21 20:00:00        851.0\n",
       " 153267 2018-05-21 00:00:00         97.0\n",
       " 153268 2018-05-21 04:00:00        597.0\n",
       " 153269 2018-05-21 08:00:00       1920.0\n",
       " 153270 2018-05-21 16:00:00        602.0\n",
       " 153271 2018-05-21 20:00:00        982.0\n",
       " 153392 2018-05-21 00:00:00        105.0\n",
       " 153393 2018-05-21 04:00:00        131.0\n",
       " 153394 2018-05-21 08:00:00        810.0\n",
       " 153395 2018-05-21 12:00:00        512.0\n",
       " 153396 2018-05-21 16:00:00        981.0\n",
       " 153397 2018-05-21 20:00:00        865.0\n",
       " 153434 2018-05-21 00:00:00         60.0\n",
       " 153435 2018-05-21 04:00:00         71.0\n",
       " 153436 2018-05-21 08:00:00        522.0\n",
       " 153437 2018-05-21 12:00:00        477.0\n",
       " 153438 2018-05-21 16:00:00        568.0\n",
       " 153439 2018-05-21 20:00:00        748.0\n",
       " 153476 2018-05-21 00:00:00         49.0\n",
       " 153477 2018-05-21 04:00:00         84.0\n",
       " 153478 2018-05-21 08:00:00        453.0\n",
       " 153479 2018-05-21 12:00:00        561.0\n",
       " 153480 2018-05-21 16:00:00        491.0\n",
       " 153481 2018-05-21 20:00:00        600.0\n",
       " \n",
       " [95 rows x 2 columns],                   DATETIME  ENTRY_DIFFS\n",
       " 152770 2018-05-22 04:00:00         30.0\n",
       " 152771 2018-05-22 08:00:00         98.0\n",
       " 152772 2018-05-22 12:00:00        115.0\n",
       " 152773 2018-05-22 16:00:00        176.0\n",
       " 152774 2018-05-22 20:00:00         27.0\n",
       " 152811 2018-05-22 00:00:00          1.0\n",
       " 152812 2018-05-22 04:00:00         57.0\n",
       " 152813 2018-05-22 08:00:00        125.0\n",
       " 152814 2018-05-22 12:00:00        115.0\n",
       " 152815 2018-05-22 16:00:00        191.0\n",
       " 152816 2018-05-22 20:00:00         49.0\n",
       " 152853 2018-05-22 00:00:00          3.0\n",
       " 152854 2018-05-22 04:00:00         78.0\n",
       " 152855 2018-05-22 08:00:00        179.0\n",
       " 152856 2018-05-22 12:00:00        179.0\n",
       " 152857 2018-05-22 16:00:00        240.0\n",
       " 152858 2018-05-22 20:00:00         65.0\n",
       " 152895 2018-05-22 00:00:00          5.0\n",
       " 152896 2018-05-22 04:00:00         86.0\n",
       " 152897 2018-05-22 08:00:00        230.0\n",
       " 152898 2018-05-22 12:00:00        184.0\n",
       " 152899 2018-05-22 16:00:00        334.0\n",
       " 152900 2018-05-22 20:00:00         67.0\n",
       " 152937 2018-05-22 00:00:00          1.0\n",
       " 152938 2018-05-22 04:00:00         95.0\n",
       " 152939 2018-05-22 08:00:00        238.0\n",
       " 152940 2018-05-22 12:00:00        157.0\n",
       " 152941 2018-05-22 16:00:00        387.0\n",
       " 152942 2018-05-22 20:00:00         63.0\n",
       " 152979 2018-05-22 00:00:00          6.0\n",
       " ...                    ...          ...\n",
       " 153189 2018-05-22 00:00:00         58.0\n",
       " 153190 2018-05-22 04:00:00        815.0\n",
       " 153191 2018-05-22 08:00:00       1531.0\n",
       " 153192 2018-05-22 12:00:00       1141.0\n",
       " 153193 2018-05-22 16:00:00       2617.0\n",
       " 153194 2018-05-22 20:00:00       1179.0\n",
       " 153231 2018-05-22 00:00:00         85.0\n",
       " 153232 2018-05-22 04:00:00        744.0\n",
       " 153233 2018-05-22 08:00:00       1697.0\n",
       " 153234 2018-05-22 12:00:00       1367.0\n",
       " 153235 2018-05-22 16:00:00       2950.0\n",
       " 153236 2018-05-22 20:00:00       1447.0\n",
       " 153272 2018-05-22 00:00:00        110.0\n",
       " 153273 2018-05-22 04:00:00        623.0\n",
       " 153274 2018-05-22 08:00:00       1721.0\n",
       " 153275 2018-05-22 12:00:00       1553.0\n",
       " 153276 2018-05-22 16:00:00       3279.0\n",
       " 153277 2018-05-22 20:00:00       1842.0\n",
       " 153398 2018-05-22 00:00:00        128.0\n",
       " 153399 2018-05-22 04:00:00        120.0\n",
       " 153400 2018-05-22 08:00:00        778.0\n",
       " 153401 2018-05-22 12:00:00       1133.0\n",
       " 153440 2018-05-22 00:00:00        113.0\n",
       " 153441 2018-05-22 04:00:00         55.0\n",
       " 153442 2018-05-22 08:00:00        410.0\n",
       " 153443 2018-05-22 12:00:00        910.0\n",
       " 153482 2018-05-22 00:00:00         89.0\n",
       " 153483 2018-05-22 04:00:00         70.0\n",
       " 153484 2018-05-22 08:00:00        419.0\n",
       " 153485 2018-05-22 12:00:00        801.0\n",
       " \n",
       " [88 rows x 2 columns],                   DATETIME  ENTRY_DIFFS\n",
       " 152775 2018-05-23 00:00:00          5.0\n",
       " 152776 2018-05-23 04:00:00         37.0\n",
       " 152777 2018-05-23 08:00:00        113.0\n",
       " 152778 2018-05-23 12:00:00        104.0\n",
       " 152779 2018-05-23 16:00:00        135.0\n",
       " 152780 2018-05-23 20:00:00         35.0\n",
       " 152817 2018-05-23 00:00:00         25.0\n",
       " 152818 2018-05-23 04:00:00         54.0\n",
       " 152819 2018-05-23 08:00:00        163.0\n",
       " 152820 2018-05-23 12:00:00        119.0\n",
       " 152821 2018-05-23 16:00:00        164.0\n",
       " 152822 2018-05-23 20:00:00         58.0\n",
       " 152859 2018-05-23 00:00:00         20.0\n",
       " 152860 2018-05-23 04:00:00         73.0\n",
       " 152861 2018-05-23 08:00:00        210.0\n",
       " 152862 2018-05-23 12:00:00        165.0\n",
       " 152863 2018-05-23 16:00:00        236.0\n",
       " 152864 2018-05-23 20:00:00         67.0\n",
       " 152901 2018-05-23 00:00:00         20.0\n",
       " 152902 2018-05-23 04:00:00         89.0\n",
       " 152903 2018-05-23 08:00:00        255.0\n",
       " 152904 2018-05-23 12:00:00        196.0\n",
       " 152905 2018-05-23 16:00:00        253.0\n",
       " 152906 2018-05-23 20:00:00         84.0\n",
       " 152943 2018-05-23 00:00:00          8.0\n",
       " 152944 2018-05-23 04:00:00        100.0\n",
       " 152945 2018-05-23 08:00:00        283.0\n",
       " 152946 2018-05-23 12:00:00        135.0\n",
       " 152947 2018-05-23 16:00:00        335.0\n",
       " 152948 2018-05-23 20:00:00         72.0\n",
       " ...                    ...          ...\n",
       " 153237 2018-05-23 00:00:00        282.0\n",
       " 153238 2018-05-23 04:00:00        692.0\n",
       " 153239 2018-05-23 08:00:00       1643.0\n",
       " 153240 2018-05-23 12:00:00       1301.0\n",
       " 153241 2018-05-23 16:00:00       2130.0\n",
       " 153242 2018-05-23 20:00:00        981.0\n",
       " 153278 2018-05-23 00:00:00        332.0\n",
       " 153279 2018-05-23 04:00:00        610.0\n",
       " 153280 2018-05-23 08:00:00       1666.0\n",
       " 153281 2018-05-23 12:00:00       1480.0\n",
       " 153282 2018-05-23 16:00:00       2291.0\n",
       " 153283 2018-05-23 20:00:00       1238.0\n",
       " 153404 2018-05-23 00:00:00         38.0\n",
       " 153405 2018-05-23 04:00:00        115.0\n",
       " 153406 2018-05-23 08:00:00        780.0\n",
       " 153407 2018-05-23 12:00:00       1327.0\n",
       " 153408 2018-05-23 16:00:00       1712.0\n",
       " 153409 2018-05-23 20:00:00       1107.0\n",
       " 153446 2018-05-23 00:00:00         27.0\n",
       " 153447 2018-05-23 04:00:00         63.0\n",
       " 153448 2018-05-23 08:00:00        491.0\n",
       " 153449 2018-05-23 12:00:00        981.0\n",
       " 153450 2018-05-23 16:00:00       1178.0\n",
       " 153451 2018-05-23 20:00:00        831.0\n",
       " 153488 2018-05-23 00:00:00         15.0\n",
       " 153489 2018-05-23 04:00:00         82.0\n",
       " 153490 2018-05-23 08:00:00        498.0\n",
       " 153491 2018-05-23 12:00:00        838.0\n",
       " 153492 2018-05-23 16:00:00        949.0\n",
       " 153493 2018-05-23 20:00:00        698.0\n",
       " \n",
       " [96 rows x 2 columns],                   DATETIME  ENTRY_DIFFS\n",
       " 152781 2018-05-24 00:00:00          8.0\n",
       " 152782 2018-05-24 04:00:00         24.0\n",
       " 152783 2018-05-24 08:00:00        108.0\n",
       " 152784 2018-05-24 12:00:00         84.0\n",
       " 152785 2018-05-24 16:00:00        134.0\n",
       " 152786 2018-05-24 20:00:00         61.0\n",
       " 152823 2018-05-24 00:00:00         10.0\n",
       " 152824 2018-05-24 04:00:00         77.0\n",
       " 152825 2018-05-24 08:00:00        132.0\n",
       " 152826 2018-05-24 12:00:00        114.0\n",
       " 152827 2018-05-24 16:00:00        149.0\n",
       " 152828 2018-05-24 20:00:00         56.0\n",
       " 152865 2018-05-24 00:00:00         19.0\n",
       " 152866 2018-05-24 04:00:00         67.0\n",
       " 152867 2018-05-24 08:00:00        212.0\n",
       " 152868 2018-05-24 12:00:00        150.0\n",
       " 152869 2018-05-24 16:00:00        194.0\n",
       " 152870 2018-05-24 20:00:00         87.0\n",
       " 152907 2018-05-24 00:00:00         19.0\n",
       " 152908 2018-05-24 04:00:00         73.0\n",
       " 152909 2018-05-24 08:00:00        261.0\n",
       " 152910 2018-05-24 12:00:00        173.0\n",
       " 152911 2018-05-24 16:00:00        312.0\n",
       " 152912 2018-05-24 20:00:00         97.0\n",
       " 152949 2018-05-24 00:00:00         12.0\n",
       " 152950 2018-05-24 04:00:00         82.0\n",
       " 152951 2018-05-24 08:00:00        266.0\n",
       " 152952 2018-05-24 12:00:00        162.0\n",
       " 152953 2018-05-24 16:00:00        338.0\n",
       " 152954 2018-05-24 20:00:00         73.0\n",
       " ...                    ...          ...\n",
       " 153201 2018-05-24 00:00:00        169.0\n",
       " 153202 2018-05-24 04:00:00        776.0\n",
       " 153203 2018-05-24 08:00:00       1533.0\n",
       " 153204 2018-05-24 12:00:00       1151.0\n",
       " 153205 2018-05-24 16:00:00       2502.0\n",
       " 153206 2018-05-24 20:00:00       1192.0\n",
       " 153243 2018-05-24 00:00:00        201.0\n",
       " 153244 2018-05-24 04:00:00        675.0\n",
       " 153245 2018-05-24 08:00:00       1569.0\n",
       " 153246 2018-05-24 12:00:00       1456.0\n",
       " 153247 2018-05-24 16:00:00       2826.0\n",
       " 153248 2018-05-24 20:00:00       1560.0\n",
       " 153284 2018-05-24 00:00:00        263.0\n",
       " 153285 2018-05-24 04:00:00        576.0\n",
       " 153286 2018-05-24 08:00:00       1654.0\n",
       " 153287 2018-05-24 12:00:00       1770.0\n",
       " 153288 2018-05-24 16:00:00       3110.0\n",
       " 153289 2018-05-24 20:00:00       2087.0\n",
       " 153410 2018-05-24 00:00:00        232.0\n",
       " 153411 2018-05-24 04:00:00        101.0\n",
       " 153412 2018-05-24 08:00:00        743.0\n",
       " 153413 2018-05-24 12:00:00        921.0\n",
       " 153452 2018-05-24 00:00:00        159.0\n",
       " 153453 2018-05-24 04:00:00         53.0\n",
       " 153454 2018-05-24 08:00:00        537.0\n",
       " 153455 2018-05-24 12:00:00        765.0\n",
       " 153494 2018-05-24 00:00:00        108.0\n",
       " 153495 2018-05-24 04:00:00         57.0\n",
       " 153496 2018-05-24 08:00:00        538.0\n",
       " 153497 2018-05-24 12:00:00        703.0\n",
       " \n",
       " [90 rows x 2 columns],                   DATETIME  ENTRY_DIFFS\n",
       " 152787 2018-05-25 00:00:00          3.0\n",
       " 152788 2018-05-25 04:00:00         26.0\n",
       " 152789 2018-05-25 08:00:00         78.0\n",
       " 152790 2018-05-25 12:00:00        131.0\n",
       " 152791 2018-05-25 16:00:00        178.0\n",
       " 152829 2018-05-25 00:00:00         13.0\n",
       " 152830 2018-05-25 04:00:00         39.0\n",
       " 152831 2018-05-25 08:00:00        103.0\n",
       " 152832 2018-05-25 12:00:00        172.0\n",
       " 152833 2018-05-25 16:00:00        184.0\n",
       " 152871 2018-05-25 00:00:00         17.0\n",
       " 152872 2018-05-25 04:00:00         69.0\n",
       " 152873 2018-05-25 08:00:00        164.0\n",
       " 152874 2018-05-25 12:00:00        196.0\n",
       " 152875 2018-05-25 16:00:00        242.0\n",
       " 152913 2018-05-25 00:00:00         21.0\n",
       " 152914 2018-05-25 04:00:00         70.0\n",
       " 152915 2018-05-25 08:00:00        183.0\n",
       " 152916 2018-05-25 12:00:00        281.0\n",
       " 152917 2018-05-25 16:00:00        341.0\n",
       " 152955 2018-05-25 00:00:00         12.0\n",
       " 152956 2018-05-25 04:00:00         68.0\n",
       " 152957 2018-05-25 08:00:00        233.0\n",
       " 152958 2018-05-25 12:00:00        254.0\n",
       " 152959 2018-05-25 16:00:00        324.0\n",
       " 152997 2018-05-25 00:00:00         50.0\n",
       " 152998 2018-05-25 04:00:00        111.0\n",
       " 152999 2018-05-25 08:00:00        381.0\n",
       " 153000 2018-05-25 12:00:00        526.0\n",
       " 153001 2018-05-25 16:00:00        623.0\n",
       " ...                    ...          ...\n",
       " 153081 2018-05-25 00:00:00         37.0\n",
       " 153082 2018-05-25 04:00:00        173.0\n",
       " 153083 2018-05-25 08:00:00        520.0\n",
       " 153084 2018-05-25 12:00:00        611.0\n",
       " 153085 2018-05-25 16:00:00        772.0\n",
       " 153123 2018-05-25 00:00:00        101.0\n",
       " 153124 2018-05-25 04:00:00        402.0\n",
       " 153125 2018-05-25 08:00:00       1004.0\n",
       " 153126 2018-05-25 12:00:00       1166.0\n",
       " 153127 2018-05-25 16:00:00       1245.0\n",
       " 153165 2018-05-25 00:00:00        135.0\n",
       " 153166 2018-05-25 04:00:00        527.0\n",
       " 153167 2018-05-25 08:00:00       1127.0\n",
       " 153168 2018-05-25 12:00:00       1312.0\n",
       " 153169 2018-05-25 16:00:00       1364.0\n",
       " 153207 2018-05-25 00:00:00        242.0\n",
       " 153208 2018-05-25 04:00:00        693.0\n",
       " 153209 2018-05-25 08:00:00       1535.0\n",
       " 153210 2018-05-25 12:00:00       1911.0\n",
       " 153211 2018-05-25 16:00:00       1954.0\n",
       " 153249 2018-05-25 00:00:00        359.0\n",
       " 153250 2018-05-25 04:00:00        647.0\n",
       " 153251 2018-05-25 08:00:00       1783.0\n",
       " 153252 2018-05-25 12:00:00       2145.0\n",
       " 153253 2018-05-25 16:00:00       2398.0\n",
       " 153290 2018-05-25 00:00:00        490.0\n",
       " 153291 2018-05-25 04:00:00        427.0\n",
       " 153292 2018-05-25 08:00:00       1939.0\n",
       " 153293 2018-05-25 12:00:00       2576.0\n",
       " 153294 2018-05-25 16:00:00       2775.0\n",
       " \n",
       " [65 rows x 2 columns], Empty DataFrame\n",
       " Columns: [DATETIME, ENTRY_DIFFS]\n",
       " Index: []]"
      ]
     },
     "execution_count": 30,
     "metadata": {},
     "output_type": "execute_result"
    }
   ],
   "source": [
    "gc_hmdata[:20]"
   ]
  },
  {
   "cell_type": "code",
   "execution_count": null,
   "metadata": {},
   "outputs": [],
   "source": [
    "dum = "
   ]
  },
  {
   "cell_type": "code",
   "execution_count": null,
   "metadata": {},
   "outputs": [],
   "source": []
  }
 ],
 "metadata": {
  "kernelspec": {
   "display_name": "Python 3",
   "language": "python",
   "name": "python3"
  },
  "language_info": {
   "codemirror_mode": {
    "name": "ipython",
    "version": 3
   },
   "file_extension": ".py",
   "mimetype": "text/x-python",
   "name": "python",
   "nbconvert_exporter": "python",
   "pygments_lexer": "ipython3",
   "version": "3.5.5"
  }
 },
 "nbformat": 4,
 "nbformat_minor": 2
}
