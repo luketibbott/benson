{
 "cells": [
  {
   "cell_type": "code",
   "execution_count": null,
   "metadata": {},
   "outputs": [],
   "source": [
    "# This is an example snippet!\n",
    "# To create your own, add a new snippet block to the\n",
    "# snippets.json file in your jupyter nbextensions directory:\n",
    "# /nbextensions/snippets/snippets.json\n",
    "import this"
   ]
  },
  {
   "cell_type": "code",
   "execution_count": 1,
   "metadata": {},
   "outputs": [],
   "source": [
    "import pandas as pd\n",
    "import random\n",
    "import itertools"
   ]
  },
  {
   "cell_type": "markdown",
   "metadata": {},
   "source": [
    "Downloaded data from: http://web.mta.info/developers/turnstile.html\n",
    "\n",
    "Documentations at: http://web.mta.info/developers/resources/nyct/turnstile/ts_Field_Description.txt\n",
    "\n",
    "Map of the MTA system: http://web.mta.info/maps/submap.html"
   ]
  },
  {
   "cell_type": "code",
   "execution_count": 2,
   "metadata": {},
   "outputs": [],
   "source": [
    "df = pd.read_csv('turnstile_May26.txt')"
   ]
  },
  {
   "cell_type": "code",
   "execution_count": 3,
   "metadata": {},
   "outputs": [
    {
     "data": {
      "text/html": [
       "<div>\n",
       "<style scoped>\n",
       "    .dataframe tbody tr th:only-of-type {\n",
       "        vertical-align: middle;\n",
       "    }\n",
       "\n",
       "    .dataframe tbody tr th {\n",
       "        vertical-align: top;\n",
       "    }\n",
       "\n",
       "    .dataframe thead th {\n",
       "        text-align: right;\n",
       "    }\n",
       "</style>\n",
       "<table border=\"1\" class=\"dataframe\">\n",
       "  <thead>\n",
       "    <tr style=\"text-align: right;\">\n",
       "      <th></th>\n",
       "      <th>C/A</th>\n",
       "      <th>UNIT</th>\n",
       "      <th>SCP</th>\n",
       "      <th>STATION</th>\n",
       "      <th>LINENAME</th>\n",
       "      <th>DIVISION</th>\n",
       "      <th>DATE</th>\n",
       "      <th>TIME</th>\n",
       "      <th>DESC</th>\n",
       "      <th>ENTRIES</th>\n",
       "      <th>EXITS</th>\n",
       "    </tr>\n",
       "  </thead>\n",
       "  <tbody>\n",
       "    <tr>\n",
       "      <th>0</th>\n",
       "      <td>A002</td>\n",
       "      <td>R051</td>\n",
       "      <td>02-00-00</td>\n",
       "      <td>59 ST</td>\n",
       "      <td>NQR456W</td>\n",
       "      <td>BMT</td>\n",
       "      <td>05/19/2018</td>\n",
       "      <td>00:00:00</td>\n",
       "      <td>REGULAR</td>\n",
       "      <td>6625470</td>\n",
       "      <td>2245312</td>\n",
       "    </tr>\n",
       "    <tr>\n",
       "      <th>1</th>\n",
       "      <td>A002</td>\n",
       "      <td>R051</td>\n",
       "      <td>02-00-00</td>\n",
       "      <td>59 ST</td>\n",
       "      <td>NQR456W</td>\n",
       "      <td>BMT</td>\n",
       "      <td>05/19/2018</td>\n",
       "      <td>04:00:00</td>\n",
       "      <td>REGULAR</td>\n",
       "      <td>6625494</td>\n",
       "      <td>2245314</td>\n",
       "    </tr>\n",
       "    <tr>\n",
       "      <th>2</th>\n",
       "      <td>A002</td>\n",
       "      <td>R051</td>\n",
       "      <td>02-00-00</td>\n",
       "      <td>59 ST</td>\n",
       "      <td>NQR456W</td>\n",
       "      <td>BMT</td>\n",
       "      <td>05/19/2018</td>\n",
       "      <td>08:00:00</td>\n",
       "      <td>REGULAR</td>\n",
       "      <td>6625514</td>\n",
       "      <td>2245338</td>\n",
       "    </tr>\n",
       "    <tr>\n",
       "      <th>3</th>\n",
       "      <td>A002</td>\n",
       "      <td>R051</td>\n",
       "      <td>02-00-00</td>\n",
       "      <td>59 ST</td>\n",
       "      <td>NQR456W</td>\n",
       "      <td>BMT</td>\n",
       "      <td>05/19/2018</td>\n",
       "      <td>12:00:00</td>\n",
       "      <td>REGULAR</td>\n",
       "      <td>6625595</td>\n",
       "      <td>2245415</td>\n",
       "    </tr>\n",
       "    <tr>\n",
       "      <th>4</th>\n",
       "      <td>A002</td>\n",
       "      <td>R051</td>\n",
       "      <td>02-00-00</td>\n",
       "      <td>59 ST</td>\n",
       "      <td>NQR456W</td>\n",
       "      <td>BMT</td>\n",
       "      <td>05/19/2018</td>\n",
       "      <td>16:00:00</td>\n",
       "      <td>REGULAR</td>\n",
       "      <td>6625791</td>\n",
       "      <td>2245481</td>\n",
       "    </tr>\n",
       "  </tbody>\n",
       "</table>\n",
       "</div>"
      ],
      "text/plain": [
       "    C/A  UNIT       SCP STATION LINENAME DIVISION        DATE      TIME  \\\n",
       "0  A002  R051  02-00-00   59 ST  NQR456W      BMT  05/19/2018  00:00:00   \n",
       "1  A002  R051  02-00-00   59 ST  NQR456W      BMT  05/19/2018  04:00:00   \n",
       "2  A002  R051  02-00-00   59 ST  NQR456W      BMT  05/19/2018  08:00:00   \n",
       "3  A002  R051  02-00-00   59 ST  NQR456W      BMT  05/19/2018  12:00:00   \n",
       "4  A002  R051  02-00-00   59 ST  NQR456W      BMT  05/19/2018  16:00:00   \n",
       "\n",
       "      DESC  ENTRIES  \\\n",
       "0  REGULAR  6625470   \n",
       "1  REGULAR  6625494   \n",
       "2  REGULAR  6625514   \n",
       "3  REGULAR  6625595   \n",
       "4  REGULAR  6625791   \n",
       "\n",
       "   EXITS                                                                 \n",
       "0                                            2245312                     \n",
       "1                                            2245314                     \n",
       "2                                            2245338                     \n",
       "3                                            2245415                     \n",
       "4                                            2245481                     "
      ]
     },
     "execution_count": 3,
     "metadata": {},
     "output_type": "execute_result"
    }
   ],
   "source": [
    "df.head()"
   ]
  },
  {
   "cell_type": "markdown",
   "metadata": {},
   "source": [
    "Fix 'EXITS' column name (it has many spaces at the end of it)"
   ]
  },
  {
   "cell_type": "code",
   "execution_count": 4,
   "metadata": {},
   "outputs": [],
   "source": [
    "# old_exit_name = df.columns[-1]\n",
    "df.rename(columns={df.columns[-1]: 'EXITS'}, inplace = True)"
   ]
  },
  {
   "cell_type": "code",
   "execution_count": 5,
   "metadata": {},
   "outputs": [],
   "source": [
    "backup_df = df.copy()"
   ]
  },
  {
   "cell_type": "code",
   "execution_count": 4,
   "metadata": {},
   "outputs": [],
   "source": [
    "# df.DATE = pd.to_datetime(df.DATE)"
   ]
  },
  {
   "cell_type": "code",
   "execution_count": 6,
   "metadata": {},
   "outputs": [],
   "source": [
    "df['DATETIME'] = pd.to_datetime(df.DATE + ' ' + df.TIME)"
   ]
  },
  {
   "cell_type": "code",
   "execution_count": 7,
   "metadata": {},
   "outputs": [
    {
     "data": {
      "text/html": [
       "<div>\n",
       "<style scoped>\n",
       "    .dataframe tbody tr th:only-of-type {\n",
       "        vertical-align: middle;\n",
       "    }\n",
       "\n",
       "    .dataframe tbody tr th {\n",
       "        vertical-align: top;\n",
       "    }\n",
       "\n",
       "    .dataframe thead th {\n",
       "        text-align: right;\n",
       "    }\n",
       "</style>\n",
       "<table border=\"1\" class=\"dataframe\">\n",
       "  <thead>\n",
       "    <tr style=\"text-align: right;\">\n",
       "      <th></th>\n",
       "      <th>C/A</th>\n",
       "      <th>UNIT</th>\n",
       "      <th>SCP</th>\n",
       "      <th>STATION</th>\n",
       "      <th>LINENAME</th>\n",
       "      <th>DIVISION</th>\n",
       "      <th>DATE</th>\n",
       "      <th>TIME</th>\n",
       "      <th>DESC</th>\n",
       "      <th>ENTRIES</th>\n",
       "      <th>EXITS</th>\n",
       "      <th>DATETIME</th>\n",
       "    </tr>\n",
       "  </thead>\n",
       "  <tbody>\n",
       "    <tr>\n",
       "      <th>0</th>\n",
       "      <td>A002</td>\n",
       "      <td>R051</td>\n",
       "      <td>02-00-00</td>\n",
       "      <td>59 ST</td>\n",
       "      <td>NQR456W</td>\n",
       "      <td>BMT</td>\n",
       "      <td>05/19/2018</td>\n",
       "      <td>00:00:00</td>\n",
       "      <td>REGULAR</td>\n",
       "      <td>6625470</td>\n",
       "      <td>2245312</td>\n",
       "      <td>2018-05-19 00:00:00</td>\n",
       "    </tr>\n",
       "    <tr>\n",
       "      <th>1</th>\n",
       "      <td>A002</td>\n",
       "      <td>R051</td>\n",
       "      <td>02-00-00</td>\n",
       "      <td>59 ST</td>\n",
       "      <td>NQR456W</td>\n",
       "      <td>BMT</td>\n",
       "      <td>05/19/2018</td>\n",
       "      <td>04:00:00</td>\n",
       "      <td>REGULAR</td>\n",
       "      <td>6625494</td>\n",
       "      <td>2245314</td>\n",
       "      <td>2018-05-19 04:00:00</td>\n",
       "    </tr>\n",
       "    <tr>\n",
       "      <th>2</th>\n",
       "      <td>A002</td>\n",
       "      <td>R051</td>\n",
       "      <td>02-00-00</td>\n",
       "      <td>59 ST</td>\n",
       "      <td>NQR456W</td>\n",
       "      <td>BMT</td>\n",
       "      <td>05/19/2018</td>\n",
       "      <td>08:00:00</td>\n",
       "      <td>REGULAR</td>\n",
       "      <td>6625514</td>\n",
       "      <td>2245338</td>\n",
       "      <td>2018-05-19 08:00:00</td>\n",
       "    </tr>\n",
       "    <tr>\n",
       "      <th>3</th>\n",
       "      <td>A002</td>\n",
       "      <td>R051</td>\n",
       "      <td>02-00-00</td>\n",
       "      <td>59 ST</td>\n",
       "      <td>NQR456W</td>\n",
       "      <td>BMT</td>\n",
       "      <td>05/19/2018</td>\n",
       "      <td>12:00:00</td>\n",
       "      <td>REGULAR</td>\n",
       "      <td>6625595</td>\n",
       "      <td>2245415</td>\n",
       "      <td>2018-05-19 12:00:00</td>\n",
       "    </tr>\n",
       "    <tr>\n",
       "      <th>4</th>\n",
       "      <td>A002</td>\n",
       "      <td>R051</td>\n",
       "      <td>02-00-00</td>\n",
       "      <td>59 ST</td>\n",
       "      <td>NQR456W</td>\n",
       "      <td>BMT</td>\n",
       "      <td>05/19/2018</td>\n",
       "      <td>16:00:00</td>\n",
       "      <td>REGULAR</td>\n",
       "      <td>6625791</td>\n",
       "      <td>2245481</td>\n",
       "      <td>2018-05-19 16:00:00</td>\n",
       "    </tr>\n",
       "  </tbody>\n",
       "</table>\n",
       "</div>"
      ],
      "text/plain": [
       "    C/A  UNIT       SCP STATION LINENAME DIVISION        DATE      TIME  \\\n",
       "0  A002  R051  02-00-00   59 ST  NQR456W      BMT  05/19/2018  00:00:00   \n",
       "1  A002  R051  02-00-00   59 ST  NQR456W      BMT  05/19/2018  04:00:00   \n",
       "2  A002  R051  02-00-00   59 ST  NQR456W      BMT  05/19/2018  08:00:00   \n",
       "3  A002  R051  02-00-00   59 ST  NQR456W      BMT  05/19/2018  12:00:00   \n",
       "4  A002  R051  02-00-00   59 ST  NQR456W      BMT  05/19/2018  16:00:00   \n",
       "\n",
       "      DESC  ENTRIES    EXITS            DATETIME  \n",
       "0  REGULAR  6625470  2245312 2018-05-19 00:00:00  \n",
       "1  REGULAR  6625494  2245314 2018-05-19 04:00:00  \n",
       "2  REGULAR  6625514  2245338 2018-05-19 08:00:00  \n",
       "3  REGULAR  6625595  2245415 2018-05-19 12:00:00  \n",
       "4  REGULAR  6625791  2245481 2018-05-19 16:00:00  "
      ]
     },
     "execution_count": 7,
     "metadata": {},
     "output_type": "execute_result"
    }
   ],
   "source": [
    "df.head()"
   ]
  },
  {
   "cell_type": "markdown",
   "metadata": {},
   "source": [
    "Make list of columns which we'll use at the key (i.e. the first 4) and a list of the rest."
   ]
  },
  {
   "cell_type": "code",
   "execution_count": 8,
   "metadata": {},
   "outputs": [
    {
     "data": {
      "text/plain": [
       "['C/A', 'UNIT', 'SCP', 'STATION']"
      ]
     },
     "execution_count": 8,
     "metadata": {},
     "output_type": "execute_result"
    }
   ],
   "source": [
    "key_cols = list(df.columns[:4])\n",
    "key_cols"
   ]
  },
  {
   "cell_type": "code",
   "execution_count": 9,
   "metadata": {},
   "outputs": [
    {
     "data": {
      "text/plain": [
       "['LINENAME',\n",
       " 'DIVISION',\n",
       " 'DATE',\n",
       " 'TIME',\n",
       " 'DESC',\n",
       " 'ENTRIES',\n",
       " 'EXITS',\n",
       " 'DATETIME']"
      ]
     },
     "execution_count": 9,
     "metadata": {},
     "output_type": "execute_result"
    }
   ],
   "source": [
    "other_cols = list(df.columns[4:])\n",
    "other_cols"
   ]
  },
  {
   "cell_type": "markdown",
   "metadata": {},
   "source": [
    "Create dictionary, using 4-column key:"
   ]
  },
  {
   "cell_type": "code",
   "execution_count": 23,
   "metadata": {},
   "outputs": [],
   "source": [
    "dct = df.groupby(key_cols)[other_cols].apply(lambda x: list(x.values)).to_dict()"
   ]
  },
  {
   "cell_type": "code",
   "execution_count": 37,
   "metadata": {},
   "outputs": [],
   "source": [
    "grp1 = df.groupby(key_cols + ['DATE'])['ENTRIES'].sum().reset_index()\n",
    "grp2 = df.groupby(key_cols + ['DATETIME'])['ENTRIES'].sum().reset_index()"
   ]
  },
  {
   "cell_type": "code",
   "execution_count": 38,
   "metadata": {},
   "outputs": [
    {
     "data": {
      "text/html": [
       "<div>\n",
       "<style scoped>\n",
       "    .dataframe tbody tr th:only-of-type {\n",
       "        vertical-align: middle;\n",
       "    }\n",
       "\n",
       "    .dataframe tbody tr th {\n",
       "        vertical-align: top;\n",
       "    }\n",
       "\n",
       "    .dataframe thead th {\n",
       "        text-align: right;\n",
       "    }\n",
       "</style>\n",
       "<table border=\"1\" class=\"dataframe\">\n",
       "  <thead>\n",
       "    <tr style=\"text-align: right;\">\n",
       "      <th></th>\n",
       "      <th>C/A</th>\n",
       "      <th>UNIT</th>\n",
       "      <th>SCP</th>\n",
       "      <th>STATION</th>\n",
       "      <th>DATE</th>\n",
       "      <th>ENTRIES</th>\n",
       "    </tr>\n",
       "  </thead>\n",
       "  <tbody>\n",
       "    <tr>\n",
       "      <th>0</th>\n",
       "      <td>A002</td>\n",
       "      <td>R051</td>\n",
       "      <td>02-00-00</td>\n",
       "      <td>59 ST</td>\n",
       "      <td>05/19/2018</td>\n",
       "      <td>39753882</td>\n",
       "    </tr>\n",
       "    <tr>\n",
       "      <th>1</th>\n",
       "      <td>A002</td>\n",
       "      <td>R051</td>\n",
       "      <td>02-00-00</td>\n",
       "      <td>59 ST</td>\n",
       "      <td>05/20/2018</td>\n",
       "      <td>39757638</td>\n",
       "    </tr>\n",
       "    <tr>\n",
       "      <th>2</th>\n",
       "      <td>A002</td>\n",
       "      <td>R051</td>\n",
       "      <td>02-00-00</td>\n",
       "      <td>59 ST</td>\n",
       "      <td>05/21/2018</td>\n",
       "      <td>39761889</td>\n",
       "    </tr>\n",
       "    <tr>\n",
       "      <th>3</th>\n",
       "      <td>A002</td>\n",
       "      <td>R051</td>\n",
       "      <td>02-00-00</td>\n",
       "      <td>59 ST</td>\n",
       "      <td>05/22/2018</td>\n",
       "      <td>39770555</td>\n",
       "    </tr>\n",
       "    <tr>\n",
       "      <th>4</th>\n",
       "      <td>A002</td>\n",
       "      <td>R051</td>\n",
       "      <td>02-00-00</td>\n",
       "      <td>59 ST</td>\n",
       "      <td>05/23/2018</td>\n",
       "      <td>39779286</td>\n",
       "    </tr>\n",
       "  </tbody>\n",
       "</table>\n",
       "</div>"
      ],
      "text/plain": [
       "    C/A  UNIT       SCP STATION        DATE   ENTRIES\n",
       "0  A002  R051  02-00-00   59 ST  05/19/2018  39753882\n",
       "1  A002  R051  02-00-00   59 ST  05/20/2018  39757638\n",
       "2  A002  R051  02-00-00   59 ST  05/21/2018  39761889\n",
       "3  A002  R051  02-00-00   59 ST  05/22/2018  39770555\n",
       "4  A002  R051  02-00-00   59 ST  05/23/2018  39779286"
      ]
     },
     "execution_count": 38,
     "metadata": {},
     "output_type": "execute_result"
    }
   ],
   "source": [
    "grp1.head()"
   ]
  },
  {
   "cell_type": "code",
   "execution_count": 33,
   "metadata": {},
   "outputs": [],
   "source": [
    "dct = df.groupby(key_cols).apply(lambda x: list(x.values)).to_dict()"
   ]
  },
  {
   "cell_type": "code",
   "execution_count": 36,
   "metadata": {},
   "outputs": [
    {
     "data": {
      "text/plain": [
       "[<matplotlib.lines.Line2D at 0x11d18e5c0>]"
      ]
     },
     "execution_count": 36,
     "metadata": {},
     "output_type": "execute_result"
    },
    {
     "data": {
      "image/png": "[encoded data removed]",
      "text/plain": [
       "<Figure size 432x288 with 1 Axes>"
      ]
     },
     "metadata": {
      "needs_background": "light"
     },
     "output_type": "display_data"
    }
   ],
   "source": [
    "data = grp1[:7].values\n",
    "plt.plot(data)"
   ]
  },
  {
   "cell_type": "code",
   "execution_count": 12,
   "metadata": {},
   "outputs": [],
   "source": [
    "# df_grp = df.groupby(key_cols)[other_cols].apply(lambda x: list(x.values))"
   ]
  },
  {
   "cell_type": "code",
   "execution_count": 20,
   "metadata": {},
   "outputs": [],
   "source": [
    "def dict_glance(d, n):\n",
    "    '''Generates \"glance\" of n items (key: value pairs) of dictionary d.\n",
    "    If value is list, returns each item of list on new line'''\n",
    "    for i in range(n):\n",
    "        rand_key = random.choice(list(d.keys()))\n",
    "        print (rand_key)\n",
    "        print('\\n'.join('%s' % v for v in d[rand_key]))"
   ]
  },
  {
   "cell_type": "code",
   "execution_count": 25,
   "metadata": {},
   "outputs": [],
   "source": [
    "def dict_rand(d):\n",
    "    '''Generates a list of a random (key: value pairs) of dictionary d.'''\n",
    "    rand_key = random.choice(list(d.keys()))\n",
    "    print (rand_key)\n",
    "#     print('\\n'.join('%s' % v for v in d[rand_key]))\n",
    "    return [rand_key, d[rand_key]]"
   ]
  },
  {
   "cell_type": "code",
   "execution_count": 11,
   "metadata": {
    "collapsed": true
   },
   "outputs": [
    {
     "name": "stdout",
     "output_type": "stream",
     "text": [
      "('R118', 'R343', '01-00-02', 'FRANKLIN ST')\n",
      "['1' 'IRT' '05/19/2018' '01:00:00' 'REGULAR' 402389 757439]\n",
      "['1' 'IRT' '05/19/2018' '05:00:00' 'REGULAR' 402390 757442]\n",
      "['1' 'IRT' '05/19/2018' '09:00:00' 'REGULAR' 402393 757482]\n",
      "['1' 'IRT' '05/19/2018' '13:00:00' 'REGULAR' 402410 757558]\n",
      "['1' 'IRT' '05/19/2018' '17:00:00' 'REGULAR' 402430 757614]\n",
      "['1' 'IRT' '05/19/2018' '21:00:00' 'REGULAR' 402445 757670]\n",
      "['1' 'IRT' '05/20/2018' '01:00:00' 'REGULAR' 402459 757692]\n",
      "['1' 'IRT' '05/20/2018' '05:00:00' 'REGULAR' 402460 757693]\n",
      "['1' 'IRT' '05/20/2018' '09:00:00' 'REGULAR' 402462 757719]\n",
      "['1' 'IRT' '05/20/2018' '13:00:00' 'REGULAR' 402479 757802]\n",
      "['1' 'IRT' '05/20/2018' '17:00:00' 'REGULAR' 402509 757875]\n",
      "['1' 'IRT' '05/20/2018' '21:00:00' 'REGULAR' 402531 757921]\n",
      "['1' 'IRT' '05/21/2018' '01:00:00' 'REGULAR' 402534 757930]\n",
      "['1' 'IRT' '05/21/2018' '05:00:00' 'REGULAR' 402534 757932]\n",
      "['1' 'IRT' '05/21/2018' '09:00:00' 'REGULAR' 402566 758057]\n",
      "['1' 'IRT' '05/21/2018' '13:00:00' 'REGULAR' 402607 758183]\n",
      "['1' 'IRT' '05/21/2018' '17:00:00' 'REGULAR' 402699 758283]\n",
      "['1' 'IRT' '05/21/2018' '21:00:00' 'REGULAR' 402807 758376]\n",
      "['1' 'IRT' '05/22/2018' '01:00:00' 'REGULAR' 402827 758389]\n",
      "['1' 'IRT' '05/22/2018' '05:00:00' 'REGULAR' 402828 758390]\n",
      "['1' 'IRT' '05/22/2018' '09:00:00' 'REGULAR' 402857 758539]\n",
      "['1' 'IRT' '05/22/2018' '13:00:00' 'REGULAR' 402887 758678]\n",
      "['1' 'IRT' '05/22/2018' '17:00:00' 'REGULAR' 402990 758765]\n",
      "['1' 'IRT' '05/22/2018' '21:00:00' 'REGULAR' 403133 758853]\n",
      "['1' 'IRT' '05/23/2018' '01:00:00' 'REGULAR' 403150 758880]\n",
      "['1' 'IRT' '05/23/2018' '05:00:00' 'REGULAR' 403152 758880]\n",
      "['1' 'IRT' '05/23/2018' '09:00:00' 'REGULAR' 403177 759013]\n",
      "['1' 'IRT' '05/23/2018' '13:00:00' 'REGULAR' 403215 759128]\n",
      "['1' 'IRT' '05/23/2018' '17:00:00' 'REGULAR' 403319 759214]\n",
      "['1' 'IRT' '05/23/2018' '21:00:00' 'REGULAR' 403437 759309]\n",
      "['1' 'IRT' '05/24/2018' '01:00:00' 'REGULAR' 403458 759329]\n",
      "['1' 'IRT' '05/24/2018' '05:00:00' 'REGULAR' 403458 759330]\n",
      "['1' 'IRT' '05/24/2018' '09:00:00' 'REGULAR' 403482 759471]\n",
      "['1' 'IRT' '05/24/2018' '13:00:00' 'REGULAR' 403523 759577]\n",
      "['1' 'IRT' '05/24/2018' '17:00:00' 'REGULAR' 403639 759659]\n",
      "['1' 'IRT' '05/24/2018' '21:00:00' 'REGULAR' 403748 759764]\n",
      "['1' 'IRT' '05/25/2018' '01:00:00' 'REGULAR' 403771 759781]\n",
      "['1' 'IRT' '05/25/2018' '05:00:00' 'REGULAR' 403775 759782]\n",
      "['1' 'IRT' '05/25/2018' '09:00:00' 'REGULAR' 403786 759905]\n",
      "['1' 'IRT' '05/25/2018' '13:00:00' 'REGULAR' 403830 760010]\n",
      "['1' 'IRT' '05/25/2018' '17:00:00' 'REGULAR' 403927 760110]\n",
      "['1' 'IRT' '05/25/2018' '21:00:00' 'REGULAR' 403979 760158]\n",
      "('N007A', 'R174', '00-00-01', '181 ST')\n",
      "['A' 'IND' '05/19/2018' '01:00:00' 'REGULAR' 13964597 8063833]\n",
      "['A' 'IND' '05/19/2018' '05:00:00' 'REGULAR' 13964603 8063837]\n",
      "['A' 'IND' '05/19/2018' '09:00:00' 'REGULAR' 13964605 8063841]\n",
      "['A' 'IND' '05/19/2018' '13:00:00' 'REGULAR' 13964605 8063841]\n",
      "['A' 'IND' '05/19/2018' '17:00:00' 'REGULAR' 13964605 8063841]\n",
      "['A' 'IND' '05/19/2018' '21:00:00' 'REGULAR' 13964605 8063841]\n",
      "['A' 'IND' '05/20/2018' '01:00:00' 'REGULAR' 13964605 8063841]\n",
      "['A' 'IND' '05/20/2018' '05:00:00' 'REGULAR' 13964605 8063841]\n",
      "['A' 'IND' '05/20/2018' '09:00:00' 'REGULAR' 13964605 8063841]\n",
      "['A' 'IND' '05/20/2018' '13:00:00' 'REGULAR' 13964605 8063841]\n",
      "['A' 'IND' '05/20/2018' '17:00:00' 'REGULAR' 13964605 8063841]\n",
      "['A' 'IND' '05/20/2018' '21:00:00' 'REGULAR' 13964605 8063841]\n",
      "['A' 'IND' '05/21/2018' '01:00:00' 'REGULAR' 13964605 8063841]\n",
      "['A' 'IND' '05/21/2018' '05:00:00' 'REGULAR' 13964606 8063841]\n",
      "['A' 'IND' '05/21/2018' '09:00:00' 'REGULAR' 13965388 8063880]\n",
      "['A' 'IND' '05/21/2018' '13:00:00' 'REGULAR' 13965885 8063974]\n",
      "['A' 'IND' '05/21/2018' '17:00:00' 'REGULAR' 13966261 8064202]\n",
      "['A' 'IND' '05/21/2018' '21:00:00' 'REGULAR' 13966494 8064823]\n",
      "['A' 'IND' '05/22/2018' '01:00:00' 'REGULAR' 13966509 8064889]\n",
      "['A' 'IND' '05/22/2018' '05:00:00' 'REGULAR' 13966510 8064891]\n",
      "['A' 'IND' '05/22/2018' '09:00:00' 'REGULAR' 13967470 8064923]\n",
      "['A' 'IND' '05/22/2018' '13:00:00' 'REGULAR' 13968011 8065027]\n",
      "['A' 'IND' '05/22/2018' '17:00:00' 'REGULAR' 13968436 8065313]\n",
      "['A' 'IND' '05/22/2018' '21:00:00' 'REGULAR' 13968702 8066000]\n",
      "['A' 'IND' '05/23/2018' '01:00:00' 'REGULAR' 13968715 8066086]\n",
      "['A' 'IND' '05/23/2018' '05:00:00' 'REGULAR' 13968717 8066089]\n",
      "['A' 'IND' '05/23/2018' '09:00:00' 'REGULAR' 13969660 8066117]\n",
      "['A' 'IND' '05/23/2018' '13:00:00' 'REGULAR' 13970264 8066197]\n",
      "['A' 'IND' '05/23/2018' '17:00:00' 'REGULAR' 13970659 8066513]\n",
      "['A' 'IND' '05/23/2018' '21:00:00' 'REGULAR' 13970942 8067161]\n",
      "['A' 'IND' '05/24/2018' '01:00:00' 'REGULAR' 13970953 8067278]\n",
      "['A' 'IND' '05/24/2018' '05:00:00' 'REGULAR' 13970954 8067286]\n",
      "['A' 'IND' '05/24/2018' '09:00:00' 'REGULAR' 13971880 8067323]\n",
      "['A' 'IND' '05/24/2018' '13:00:00' 'REGULAR' 13972458 8067403]\n",
      "['A' 'IND' '05/24/2018' '17:00:00' 'REGULAR' 13972891 8067702]\n",
      "['A' 'IND' '05/24/2018' '21:00:00' 'REGULAR' 13973189 8068359]\n",
      "['A' 'IND' '05/25/2018' '01:00:00' 'REGULAR' 13973198 8068465]\n",
      "['A' 'IND' '05/25/2018' '05:00:00' 'REGULAR' 13973201 8068468]\n",
      "['A' 'IND' '05/25/2018' '09:00:00' 'REGULAR' 13974006 8068510]\n",
      "['A' 'IND' '05/25/2018' '13:00:00' 'REGULAR' 13974518 8068590]\n",
      "['A' 'IND' '05/25/2018' '17:00:00' 'REGULAR' 13974944 8068986]\n",
      "['A' 'IND' '05/25/2018' '21:00:00' 'REGULAR' 13975222 8069422]\n"
     ]
    }
   ],
   "source": [
    "dict_glance(dct, 2)"
   ]
  },
  {
   "cell_type": "code",
   "execution_count": 26,
   "metadata": {},
   "outputs": [
    {
     "name": "stdout",
     "output_type": "stream",
     "text": [
      "('J020', 'R433', '00-00-00', 'ALABAMA AV')\n"
     ]
    }
   ],
   "source": [
    "dum = dict_rand(dct)"
   ]
  },
  {
   "cell_type": "code",
   "execution_count": 30,
   "metadata": {},
   "outputs": [
    {
     "data": {
      "text/plain": [
       "array(['J', 'BMT', '05/19/2018', '05:00:00', 'REGULAR', 1948607, 1589550,\n",
       "       Timestamp('2018-05-19 05:00:00')], dtype=object)"
      ]
     },
     "execution_count": 30,
     "metadata": {},
     "output_type": "execute_result"
    }
   ],
   "source": [
    "dum[1][1]"
   ]
  },
  {
   "cell_type": "code",
   "execution_count": null,
   "metadata": {},
   "outputs": [],
   "source": []
  },
  {
   "cell_type": "code",
   "execution_count": null,
   "metadata": {},
   "outputs": [],
   "source": []
  },
  {
   "cell_type": "code",
   "execution_count": 26,
   "metadata": {},
   "outputs": [
    {
     "data": {
      "text/plain": [
       "[array(['6', 'IRT', '05/19/2018', '00:00:00', 'REGULAR', 3087368, 3655713,\n",
       "        Timestamp('2018-05-19 00:00:00')], dtype=object),\n",
       " array(['6', 'IRT', '05/19/2018', '04:00:00', 'REGULAR', 3087373, 3655731,\n",
       "        Timestamp('2018-05-19 04:00:00')], dtype=object),\n",
       " array(['6', 'IRT', '05/19/2018', '08:00:00', 'REGULAR', 3087400, 3655755,\n",
       "        Timestamp('2018-05-19 08:00:00')], dtype=object),\n",
       " array(['6', 'IRT', '05/19/2018', '12:00:00', 'REGULAR', 3087434, 3655826,\n",
       "        Timestamp('2018-05-19 12:00:00')], dtype=object),\n",
       " array(['6', 'IRT', '05/19/2018', '16:00:00', 'REGULAR', 3087474, 3655891,\n",
       "        Timestamp('2018-05-19 16:00:00')], dtype=object),\n",
       " array(['6', 'IRT', '05/19/2018', '20:00:00', 'REGULAR', 3087503, 3655995,\n",
       "        Timestamp('2018-05-19 20:00:00')], dtype=object),\n",
       " array(['6', 'IRT', '05/20/2018', '00:00:00', 'REGULAR', 3087530, 3656035,\n",
       "        Timestamp('2018-05-20 00:00:00')], dtype=object),\n",
       " array(['6', 'IRT', '05/20/2018', '04:00:00', 'REGULAR', 3087534, 3656053,\n",
       "        Timestamp('2018-05-20 04:00:00')], dtype=object),\n",
       " array(['6', 'IRT', '05/20/2018', '08:00:00', 'REGULAR', 3087551, 3656067,\n",
       "        Timestamp('2018-05-20 08:00:00')], dtype=object),\n",
       " array(['6', 'IRT', '05/20/2018', '12:00:00', 'REGULAR', 3087584, 3656130,\n",
       "        Timestamp('2018-05-20 12:00:00')], dtype=object),\n",
       " array(['6', 'IRT', '05/20/2018', '16:00:00', 'REGULAR', 3087622, 3656210,\n",
       "        Timestamp('2018-05-20 16:00:00')], dtype=object),\n",
       " array(['6', 'IRT', '05/20/2018', '20:00:00', 'REGULAR', 3087661, 3656285,\n",
       "        Timestamp('2018-05-20 20:00:00')], dtype=object),\n",
       " array(['6', 'IRT', '05/21/2018', '00:00:00', 'REGULAR', 3087689, 3656329,\n",
       "        Timestamp('2018-05-21 00:00:00')], dtype=object),\n",
       " array(['6', 'IRT', '05/21/2018', '04:00:00', 'REGULAR', 3087692, 3656336,\n",
       "        Timestamp('2018-05-21 04:00:00')], dtype=object),\n",
       " array(['6', 'IRT', '05/21/2018', '08:00:00', 'REGULAR', 3087920, 3656406,\n",
       "        Timestamp('2018-05-21 08:00:00')], dtype=object),\n",
       " array(['6', 'IRT', '05/21/2018', '12:00:00', 'REGULAR', 3088045, 3656517,\n",
       "        Timestamp('2018-05-21 12:00:00')], dtype=object),\n",
       " array(['6', 'IRT', '05/21/2018', '16:00:00', 'REGULAR', 3088122, 3656628,\n",
       "        Timestamp('2018-05-21 16:00:00')], dtype=object),\n",
       " array(['6', 'IRT', '05/21/2018', '20:00:00', 'REGULAR', 3088184, 3656881,\n",
       "        Timestamp('2018-05-21 20:00:00')], dtype=object),\n",
       " array(['6', 'IRT', '05/22/2018', '00:00:00', 'REGULAR', 3088207, 3656958,\n",
       "        Timestamp('2018-05-22 00:00:00')], dtype=object),\n",
       " array(['6', 'IRT', '05/22/2018', '04:00:00', 'REGULAR', 3088213, 3656973,\n",
       "        Timestamp('2018-05-22 04:00:00')], dtype=object),\n",
       " array(['6', 'IRT', '05/22/2018', '08:00:00', 'REGULAR', 3088454, 3657057,\n",
       "        Timestamp('2018-05-22 08:00:00')], dtype=object),\n",
       " array(['6', 'IRT', '05/22/2018', '12:00:00', 'REGULAR', 3088576, 3657147,\n",
       "        Timestamp('2018-05-22 12:00:00')], dtype=object),\n",
       " array(['6', 'IRT', '05/22/2018', '16:00:00', 'REGULAR', 3088643, 3657264,\n",
       "        Timestamp('2018-05-22 16:00:00')], dtype=object),\n",
       " array(['6', 'IRT', '05/22/2018', '20:00:00', 'REGULAR', 3088677, 3657499,\n",
       "        Timestamp('2018-05-22 20:00:00')], dtype=object),\n",
       " array(['6', 'IRT', '05/23/2018', '00:00:00', 'REGULAR', 3088694, 3657577,\n",
       "        Timestamp('2018-05-23 00:00:00')], dtype=object),\n",
       " array(['6', 'IRT', '05/23/2018', '04:00:00', 'REGULAR', 3088700, 3657588,\n",
       "        Timestamp('2018-05-23 04:00:00')], dtype=object),\n",
       " array(['6', 'IRT', '05/23/2018', '08:00:00', 'REGULAR', 3088931, 3657652,\n",
       "        Timestamp('2018-05-23 08:00:00')], dtype=object),\n",
       " array(['6', 'IRT', '05/23/2018', '12:00:00', 'REGULAR', 3089050, 3657742,\n",
       "        Timestamp('2018-05-23 12:00:00')], dtype=object),\n",
       " array(['6', 'IRT', '05/23/2018', '16:00:00', 'REGULAR', 3089119, 3657855,\n",
       "        Timestamp('2018-05-23 16:00:00')], dtype=object),\n",
       " array(['6', 'IRT', '05/23/2018', '20:00:00', 'REGULAR', 3089158, 3658086,\n",
       "        Timestamp('2018-05-23 20:00:00')], dtype=object),\n",
       " array(['6', 'IRT', '05/24/2018', '00:00:00', 'REGULAR', 3089186, 3658179,\n",
       "        Timestamp('2018-05-24 00:00:00')], dtype=object),\n",
       " array(['6', 'IRT', '05/24/2018', '04:00:00', 'REGULAR', 3089193, 3658197,\n",
       "        Timestamp('2018-05-24 04:00:00')], dtype=object),\n",
       " array(['6', 'IRT', '05/24/2018', '08:00:00', 'REGULAR', 3089423, 3658270,\n",
       "        Timestamp('2018-05-24 08:00:00')], dtype=object),\n",
       " array(['6', 'IRT', '05/24/2018', '12:00:00', 'REGULAR', 3089539, 3658355,\n",
       "        Timestamp('2018-05-24 12:00:00')], dtype=object),\n",
       " array(['6', 'IRT', '05/24/2018', '16:00:00', 'REGULAR', 3089601, 3658469,\n",
       "        Timestamp('2018-05-24 16:00:00')], dtype=object),\n",
       " array(['6', 'IRT', '05/24/2018', '20:00:00', 'REGULAR', 3089654, 3658727,\n",
       "        Timestamp('2018-05-24 20:00:00')], dtype=object),\n",
       " array(['6', 'IRT', '05/25/2018', '00:00:00', 'REGULAR', 3089685, 3658827,\n",
       "        Timestamp('2018-05-25 00:00:00')], dtype=object),\n",
       " array(['6', 'IRT', '05/25/2018', '04:00:00', 'REGULAR', 3089689, 3658839,\n",
       "        Timestamp('2018-05-25 04:00:00')], dtype=object),\n",
       " array(['6', 'IRT', '05/25/2018', '08:00:00', 'REGULAR', 3089877, 3658908,\n",
       "        Timestamp('2018-05-25 08:00:00')], dtype=object),\n",
       " array(['6', 'IRT', '05/25/2018', '12:00:00', 'REGULAR', 3089977, 3659008,\n",
       "        Timestamp('2018-05-25 12:00:00')], dtype=object),\n",
       " array(['6', 'IRT', '05/25/2018', '16:00:00', 'REGULAR', 3090038, 3659160,\n",
       "        Timestamp('2018-05-25 16:00:00')], dtype=object),\n",
       " array(['6', 'IRT', '05/25/2018', '20:00:00', 'REGULAR', 3090092, 3659396,\n",
       "        Timestamp('2018-05-25 20:00:00')], dtype=object)]"
      ]
     },
     "execution_count": 26,
     "metadata": {},
     "output_type": "execute_result"
    }
   ],
   "source": [
    "rand_key = random.choice(list(dct.keys()))\n",
    "data = dct[rand_key]\n",
    "data"
   ]
  },
  {
   "cell_type": "code",
   "execution_count": 27,
   "metadata": {},
   "outputs": [
    {
     "data": {
      "text/plain": [
       "array(['6', 'IRT', '05/19/2018', '04:00:00', 'REGULAR', 3087373, 3655731,\n",
       "       Timestamp('2018-05-19 04:00:00')], dtype=object)"
      ]
     },
     "execution_count": 27,
     "metadata": {},
     "output_type": "execute_result"
    }
   ],
   "source": [
    "data[1]"
   ]
  },
  {
   "cell_type": "code",
   "execution_count": null,
   "metadata": {},
   "outputs": [],
   "source": []
  },
  {
   "cell_type": "code",
   "execution_count": null,
   "metadata": {},
   "outputs": [],
   "source": [
    "aa"
   ]
  },
  {
   "cell_type": "code",
   "execution_count": null,
   "metadata": {},
   "outputs": [],
   "source": [
    "plt.plota\n"
   ]
  },
  {
   "cell_type": "markdown",
   "metadata": {},
   "source": [
    "### To Do Next:"
   ]
  },
  {
   "cell_type": "markdown",
   "metadata": {},
   "source": [
    "Check for null or '0' entries in Entrance & Exit. (See above entries for ('R523', 'R147', '00-05-00', '61 ST WOODSIDE') key -- all entrances are 3429 +/- 1, and all Exits are 0. \n",
    "\n",
    "Is there a way to get list of defunct stations?\n",
    "Or do, we not care -- will just ignore / exlude these stations from consideration."
   ]
  },
  {
   "cell_type": "markdown",
   "metadata": {},
   "source": [
    "Create new column of date-time"
   ]
  },
  {
   "cell_type": "code",
   "execution_count": null,
   "metadata": {},
   "outputs": [],
   "source": [
    "df"
   ]
  }
 ],
 "metadata": {
  "kernelspec": {
   "display_name": "Python 3",
   "language": "python",
   "name": "python3"
  },
  "language_info": {
   "codemirror_mode": {
    "name": "ipython",
    "version": 3
   },
   "file_extension": ".py",
   "mimetype": "text/x-python",
   "name": "python",
   "nbconvert_exporter": "python",
   "pygments_lexer": "ipython3",
   "version": "3.5.5"
  }
 },
 "nbformat": 4,
 "nbformat_minor": 2
}
