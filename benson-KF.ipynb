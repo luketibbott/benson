{
 "cells": [
  {
   "cell_type": "code",
   "execution_count": 1,
   "metadata": {},
   "outputs": [],
   "source": [
    "import pandas as pd\n",
    "import random\n",
    "import itertools\n",
    "import datetime as dt\n",
    "import matplotlib.pyplot as plt"
   ]
  },
  {
   "cell_type": "markdown",
   "metadata": {},
   "source": [
    "Downloaded data from: http://web.mta.info/developers/turnstile.html\n",
    "\n",
    "Documentations at: http://web.mta.info/developers/resources/nyct/turnstile/ts_Field_Description.txt\n",
    "\n",
    "Map of the MTA system: http://web.mta.info/maps/submap.html"
   ]
  },
  {
   "cell_type": "code",
   "execution_count": 2,
   "metadata": {},
   "outputs": [],
   "source": [
    "df = pd.read_csv('turnstile_May26.txt')"
   ]
  },
  {
   "cell_type": "markdown",
   "metadata": {},
   "source": [
    "Fix 'EXITS' column name (it has many spaces at the end of it)"
   ]
  },
  {
   "cell_type": "code",
   "execution_count": 3,
   "metadata": {},
   "outputs": [],
   "source": [
    "# old_exit_name = df.columns[-1]\n",
    "df.rename(columns={df.columns[-1]: 'EXITS'}, inplace = True)"
   ]
  },
  {
   "cell_type": "code",
   "execution_count": 4,
   "metadata": {},
   "outputs": [],
   "source": [
    "backup_df = df.copy()"
   ]
  },
  {
   "cell_type": "code",
   "execution_count": 5,
   "metadata": {},
   "outputs": [],
   "source": [
    "df['DATETIME'] = pd.to_datetime(df.DATE + ' ' + df.TIME)\n",
    "df['DATE'] = pd.to_datetime(df['DATE'])"
   ]
  },
  {
   "cell_type": "code",
   "execution_count": 6,
   "metadata": {},
   "outputs": [],
   "source": [
    "df['STATION_KEY'] = df['C/A'] + ' ' + df['UNIT'] + ' ' + df['STATION']"
   ]
  },
  {
   "cell_type": "code",
   "execution_count": 34,
   "metadata": {},
   "outputs": [],
   "source": [
    "cols_to_drop = ['C/A','UNIT','STATION']"
   ]
  },
  {
   "cell_type": "code",
   "execution_count": 36,
   "metadata": {},
   "outputs": [],
   "source": [
    "df.drop(cols_to_drop, axis=1, inplace=True)"
   ]
  },
  {
   "cell_type": "markdown",
   "metadata": {},
   "source": [
    "Group by Station Key, then compute difference between 'ENTRIES'"
   ]
  },
  {
   "cell_type": "code",
   "execution_count": 21,
   "metadata": {
    "collapsed": true
   },
   "outputs": [
    {
     "ename": "AttributeError",
     "evalue": "'DataFrame' object has no attribute 'sort'",
     "output_type": "error",
     "traceback": [
      "\u001b[0;31m---------------------------------------------------------------------------\u001b[0m",
      "\u001b[0;31mAttributeError\u001b[0m                            Traceback (most recent call last)",
      "\u001b[0;32m<ipython-input-21-d26b938fb560>\u001b[0m in \u001b[0;36m<module>\u001b[0;34m()\u001b[0m\n\u001b[0;32m----> 1\u001b[0;31m \u001b[0mdf\u001b[0m\u001b[0;34m.\u001b[0m\u001b[0msort\u001b[0m\u001b[0;34m(\u001b[0m\u001b[0;34m[\u001b[0m\u001b[0;34m'STATION_KEY'\u001b[0m\u001b[0;34m,\u001b[0m \u001b[0;34m'SCP'\u001b[0m\u001b[0;34m,\u001b[0m \u001b[0;34m'DATETIME'\u001b[0m\u001b[0;34m]\u001b[0m\u001b[0;34m,\u001b[0m \u001b[0minplace\u001b[0m\u001b[0;34m=\u001b[0m\u001b[0;32mTrue\u001b[0m\u001b[0;34m)\u001b[0m\u001b[0;34m\u001b[0m\u001b[0m\n\u001b[0m",
      "\u001b[0;32m~/anaconda3/lib/python3.5/site-packages/pandas/core/generic.py\u001b[0m in \u001b[0;36m__getattr__\u001b[0;34m(self, name)\u001b[0m\n\u001b[1;32m   4374\u001b[0m             \u001b[0;32mif\u001b[0m \u001b[0mself\u001b[0m\u001b[0;34m.\u001b[0m\u001b[0m_info_axis\u001b[0m\u001b[0;34m.\u001b[0m\u001b[0m_can_hold_identifiers_and_holds_name\u001b[0m\u001b[0;34m(\u001b[0m\u001b[0mname\u001b[0m\u001b[0;34m)\u001b[0m\u001b[0;34m:\u001b[0m\u001b[0;34m\u001b[0m\u001b[0m\n\u001b[1;32m   4375\u001b[0m                 \u001b[0;32mreturn\u001b[0m \u001b[0mself\u001b[0m\u001b[0;34m[\u001b[0m\u001b[0mname\u001b[0m\u001b[0;34m]\u001b[0m\u001b[0;34m\u001b[0m\u001b[0m\n\u001b[0;32m-> 4376\u001b[0;31m             \u001b[0;32mreturn\u001b[0m \u001b[0mobject\u001b[0m\u001b[0;34m.\u001b[0m\u001b[0m__getattribute__\u001b[0m\u001b[0;34m(\u001b[0m\u001b[0mself\u001b[0m\u001b[0;34m,\u001b[0m \u001b[0mname\u001b[0m\u001b[0;34m)\u001b[0m\u001b[0;34m\u001b[0m\u001b[0m\n\u001b[0m\u001b[1;32m   4377\u001b[0m \u001b[0;34m\u001b[0m\u001b[0m\n\u001b[1;32m   4378\u001b[0m     \u001b[0;32mdef\u001b[0m \u001b[0m__setattr__\u001b[0m\u001b[0;34m(\u001b[0m\u001b[0mself\u001b[0m\u001b[0;34m,\u001b[0m \u001b[0mname\u001b[0m\u001b[0;34m,\u001b[0m \u001b[0mvalue\u001b[0m\u001b[0;34m)\u001b[0m\u001b[0;34m:\u001b[0m\u001b[0;34m\u001b[0m\u001b[0m\n",
      "\u001b[0;31mAttributeError\u001b[0m: 'DataFrame' object has no attribute 'sort'"
     ]
    }
   ],
   "source": [
    "# Don't think we need to do this, but kept code here just in case\n",
    "# df.sort_values(['STATION_KEY', 'SCP', 'DATETIME'], inplace=True)"
   ]
  },
  {
   "cell_type": "code",
   "execution_count": 38,
   "metadata": {},
   "outputs": [],
   "source": [
    "df['ENTRY_DIFFS'] = df.groupby(['STATION_KEY','SCP'])['ENTRIES'].diff()"
   ]
  },
  {
   "cell_type": "code",
   "execution_count": 40,
   "metadata": {},
   "outputs": [],
   "source": [
    "grp1 = df.groupby(['STATION_KEY', 'DATE'])['ENTRY_DIFFS'].sum().reset_index()"
   ]
  },
  {
   "cell_type": "code",
   "execution_count": 52,
   "metadata": {},
   "outputs": [
    {
     "data": {
      "text/html": [
       "<div>\n",
       "<style scoped>\n",
       "    .dataframe tbody tr th:only-of-type {\n",
       "        vertical-align: middle;\n",
       "    }\n",
       "\n",
       "    .dataframe tbody tr th {\n",
       "        vertical-align: top;\n",
       "    }\n",
       "\n",
       "    .dataframe thead th {\n",
       "        text-align: right;\n",
       "    }\n",
       "</style>\n",
       "<table border=\"1\" class=\"dataframe\">\n",
       "  <thead>\n",
       "    <tr style=\"text-align: right;\">\n",
       "      <th></th>\n",
       "      <th>STATION_KEY</th>\n",
       "      <th>DATE</th>\n",
       "      <th>ENTRY_DIFFS</th>\n",
       "    </tr>\n",
       "  </thead>\n",
       "  <tbody>\n",
       "    <tr>\n",
       "      <th>0</th>\n",
       "      <td>A002 R051 59 ST</td>\n",
       "      <td>2018-05-19</td>\n",
       "      <td>5499.0</td>\n",
       "    </tr>\n",
       "    <tr>\n",
       "      <th>1</th>\n",
       "      <td>A002 R051 59 ST</td>\n",
       "      <td>2018-05-20</td>\n",
       "      <td>5969.0</td>\n",
       "    </tr>\n",
       "    <tr>\n",
       "      <th>2</th>\n",
       "      <td>A002 R051 59 ST</td>\n",
       "      <td>2018-05-21</td>\n",
       "      <td>12384.0</td>\n",
       "    </tr>\n",
       "    <tr>\n",
       "      <th>3</th>\n",
       "      <td>A002 R051 59 ST</td>\n",
       "      <td>2018-05-22</td>\n",
       "      <td>13599.0</td>\n",
       "    </tr>\n",
       "    <tr>\n",
       "      <th>4</th>\n",
       "      <td>A002 R051 59 ST</td>\n",
       "      <td>2018-05-23</td>\n",
       "      <td>14007.0</td>\n",
       "    </tr>\n",
       "    <tr>\n",
       "      <th>5</th>\n",
       "      <td>A002 R051 59 ST</td>\n",
       "      <td>2018-05-24</td>\n",
       "      <td>13899.0</td>\n",
       "    </tr>\n",
       "    <tr>\n",
       "      <th>6</th>\n",
       "      <td>A002 R051 59 ST</td>\n",
       "      <td>2018-05-25</td>\n",
       "      <td>13283.0</td>\n",
       "    </tr>\n",
       "    <tr>\n",
       "      <th>7</th>\n",
       "      <td>A006 R079 5 AV/59 ST</td>\n",
       "      <td>2018-05-19</td>\n",
       "      <td>4889.0</td>\n",
       "    </tr>\n",
       "    <tr>\n",
       "      <th>8</th>\n",
       "      <td>A006 R079 5 AV/59 ST</td>\n",
       "      <td>2018-05-20</td>\n",
       "      <td>6055.0</td>\n",
       "    </tr>\n",
       "    <tr>\n",
       "      <th>9</th>\n",
       "      <td>A006 R079 5 AV/59 ST</td>\n",
       "      <td>2018-05-21</td>\n",
       "      <td>11838.0</td>\n",
       "    </tr>\n",
       "    <tr>\n",
       "      <th>10</th>\n",
       "      <td>A006 R079 5 AV/59 ST</td>\n",
       "      <td>2018-05-22</td>\n",
       "      <td>12413.0</td>\n",
       "    </tr>\n",
       "    <tr>\n",
       "      <th>11</th>\n",
       "      <td>A006 R079 5 AV/59 ST</td>\n",
       "      <td>2018-05-23</td>\n",
       "      <td>13089.0</td>\n",
       "    </tr>\n",
       "    <tr>\n",
       "      <th>12</th>\n",
       "      <td>A006 R079 5 AV/59 ST</td>\n",
       "      <td>2018-05-24</td>\n",
       "      <td>12680.0</td>\n",
       "    </tr>\n",
       "    <tr>\n",
       "      <th>13</th>\n",
       "      <td>A006 R079 5 AV/59 ST</td>\n",
       "      <td>2018-05-25</td>\n",
       "      <td>11373.0</td>\n",
       "    </tr>\n",
       "    <tr>\n",
       "      <th>14</th>\n",
       "      <td>A007 R079 5 AV/59 ST</td>\n",
       "      <td>2018-05-19</td>\n",
       "      <td>2833.0</td>\n",
       "    </tr>\n",
       "    <tr>\n",
       "      <th>15</th>\n",
       "      <td>A007 R079 5 AV/59 ST</td>\n",
       "      <td>2018-05-20</td>\n",
       "      <td>4335.0</td>\n",
       "    </tr>\n",
       "    <tr>\n",
       "      <th>16</th>\n",
       "      <td>A007 R079 5 AV/59 ST</td>\n",
       "      <td>2018-05-21</td>\n",
       "      <td>4748.0</td>\n",
       "    </tr>\n",
       "    <tr>\n",
       "      <th>17</th>\n",
       "      <td>A007 R079 5 AV/59 ST</td>\n",
       "      <td>2018-05-22</td>\n",
       "      <td>4141.0</td>\n",
       "    </tr>\n",
       "    <tr>\n",
       "      <th>18</th>\n",
       "      <td>A007 R079 5 AV/59 ST</td>\n",
       "      <td>2018-05-23</td>\n",
       "      <td>5282.0</td>\n",
       "    </tr>\n",
       "    <tr>\n",
       "      <th>19</th>\n",
       "      <td>A007 R079 5 AV/59 ST</td>\n",
       "      <td>2018-05-24</td>\n",
       "      <td>5171.0</td>\n",
       "    </tr>\n",
       "    <tr>\n",
       "      <th>20</th>\n",
       "      <td>A007 R079 5 AV/59 ST</td>\n",
       "      <td>2018-05-25</td>\n",
       "      <td>5215.0</td>\n",
       "    </tr>\n",
       "  </tbody>\n",
       "</table>\n",
       "</div>"
      ],
      "text/plain": [
       "             STATION_KEY       DATE  ENTRY_DIFFS\n",
       "0        A002 R051 59 ST 2018-05-19       5499.0\n",
       "1        A002 R051 59 ST 2018-05-20       5969.0\n",
       "2        A002 R051 59 ST 2018-05-21      12384.0\n",
       "3        A002 R051 59 ST 2018-05-22      13599.0\n",
       "4        A002 R051 59 ST 2018-05-23      14007.0\n",
       "5        A002 R051 59 ST 2018-05-24      13899.0\n",
       "6        A002 R051 59 ST 2018-05-25      13283.0\n",
       "7   A006 R079 5 AV/59 ST 2018-05-19       4889.0\n",
       "8   A006 R079 5 AV/59 ST 2018-05-20       6055.0\n",
       "9   A006 R079 5 AV/59 ST 2018-05-21      11838.0\n",
       "10  A006 R079 5 AV/59 ST 2018-05-22      12413.0\n",
       "11  A006 R079 5 AV/59 ST 2018-05-23      13089.0\n",
       "12  A006 R079 5 AV/59 ST 2018-05-24      12680.0\n",
       "13  A006 R079 5 AV/59 ST 2018-05-25      11373.0\n",
       "14  A007 R079 5 AV/59 ST 2018-05-19       2833.0\n",
       "15  A007 R079 5 AV/59 ST 2018-05-20       4335.0\n",
       "16  A007 R079 5 AV/59 ST 2018-05-21       4748.0\n",
       "17  A007 R079 5 AV/59 ST 2018-05-22       4141.0\n",
       "18  A007 R079 5 AV/59 ST 2018-05-23       5282.0\n",
       "19  A007 R079 5 AV/59 ST 2018-05-24       5171.0\n",
       "20  A007 R079 5 AV/59 ST 2018-05-25       5215.0"
      ]
     },
     "execution_count": 52,
     "metadata": {},
     "output_type": "execute_result"
    }
   ],
   "source": [
    "grp1.head(21)"
   ]
  },
  {
   "cell_type": "code",
   "execution_count": 54,
   "metadata": {},
   "outputs": [],
   "source": [
    "def station_day(st_loc, day_loc):\n",
    "    '''Given station index and date index from grp1 dataframe,\n",
    "    returns all entries from original data frame for this station & date'''\n",
    "    s = grp1.loc[st_loc, 'STATION_KEY']\n",
    "    t = grp1.loc[day_loc, 'DATE']\n",
    "    return df[(df['DATE'] == t) & (df['STATION_KEY'] == s)]\n"
   ]
  },
  {
   "cell_type": "code",
   "execution_count": 57,
   "metadata": {},
   "outputs": [
    {
     "data": {
      "text/html": [
       "<div>\n",
       "<style scoped>\n",
       "    .dataframe tbody tr th:only-of-type {\n",
       "        vertical-align: middle;\n",
       "    }\n",
       "\n",
       "    .dataframe tbody tr th {\n",
       "        vertical-align: top;\n",
       "    }\n",
       "\n",
       "    .dataframe thead th {\n",
       "        text-align: right;\n",
       "    }\n",
       "</style>\n",
       "<table border=\"1\" class=\"dataframe\">\n",
       "  <thead>\n",
       "    <tr style=\"text-align: right;\">\n",
       "      <th></th>\n",
       "      <th>SCP</th>\n",
       "      <th>LINENAME</th>\n",
       "      <th>DIVISION</th>\n",
       "      <th>DATE</th>\n",
       "      <th>TIME</th>\n",
       "      <th>DESC</th>\n",
       "      <th>ENTRIES</th>\n",
       "      <th>DATETIME</th>\n",
       "      <th>STATION_KEY</th>\n",
       "      <th>ENTRY_DIFFS</th>\n",
       "    </tr>\n",
       "  </thead>\n",
       "  <tbody>\n",
       "    <tr>\n",
       "      <th>0</th>\n",
       "      <td>02-00-00</td>\n",
       "      <td>NQR456W</td>\n",
       "      <td>BMT</td>\n",
       "      <td>2018-05-19</td>\n",
       "      <td>00:00:00</td>\n",
       "      <td>REGULAR</td>\n",
       "      <td>6625470</td>\n",
       "      <td>2018-05-19 00:00:00</td>\n",
       "      <td>A002 R051 59 ST</td>\n",
       "      <td>NaN</td>\n",
       "    </tr>\n",
       "    <tr>\n",
       "      <th>1</th>\n",
       "      <td>02-00-00</td>\n",
       "      <td>NQR456W</td>\n",
       "      <td>BMT</td>\n",
       "      <td>2018-05-19</td>\n",
       "      <td>04:00:00</td>\n",
       "      <td>REGULAR</td>\n",
       "      <td>6625494</td>\n",
       "      <td>2018-05-19 04:00:00</td>\n",
       "      <td>A002 R051 59 ST</td>\n",
       "      <td>24.0</td>\n",
       "    </tr>\n",
       "    <tr>\n",
       "      <th>2</th>\n",
       "      <td>02-00-00</td>\n",
       "      <td>NQR456W</td>\n",
       "      <td>BMT</td>\n",
       "      <td>2018-05-19</td>\n",
       "      <td>08:00:00</td>\n",
       "      <td>REGULAR</td>\n",
       "      <td>6625514</td>\n",
       "      <td>2018-05-19 08:00:00</td>\n",
       "      <td>A002 R051 59 ST</td>\n",
       "      <td>20.0</td>\n",
       "    </tr>\n",
       "    <tr>\n",
       "      <th>3</th>\n",
       "      <td>02-00-00</td>\n",
       "      <td>NQR456W</td>\n",
       "      <td>BMT</td>\n",
       "      <td>2018-05-19</td>\n",
       "      <td>12:00:00</td>\n",
       "      <td>REGULAR</td>\n",
       "      <td>6625595</td>\n",
       "      <td>2018-05-19 12:00:00</td>\n",
       "      <td>A002 R051 59 ST</td>\n",
       "      <td>81.0</td>\n",
       "    </tr>\n",
       "    <tr>\n",
       "      <th>4</th>\n",
       "      <td>02-00-00</td>\n",
       "      <td>NQR456W</td>\n",
       "      <td>BMT</td>\n",
       "      <td>2018-05-19</td>\n",
       "      <td>16:00:00</td>\n",
       "      <td>REGULAR</td>\n",
       "      <td>6625791</td>\n",
       "      <td>2018-05-19 16:00:00</td>\n",
       "      <td>A002 R051 59 ST</td>\n",
       "      <td>196.0</td>\n",
       "    </tr>\n",
       "  </tbody>\n",
       "</table>\n",
       "</div>"
      ],
      "text/plain": [
       "        SCP LINENAME DIVISION       DATE      TIME     DESC  ENTRIES  \\\n",
       "0  02-00-00  NQR456W      BMT 2018-05-19  00:00:00  REGULAR  6625470   \n",
       "1  02-00-00  NQR456W      BMT 2018-05-19  04:00:00  REGULAR  6625494   \n",
       "2  02-00-00  NQR456W      BMT 2018-05-19  08:00:00  REGULAR  6625514   \n",
       "3  02-00-00  NQR456W      BMT 2018-05-19  12:00:00  REGULAR  6625595   \n",
       "4  02-00-00  NQR456W      BMT 2018-05-19  16:00:00  REGULAR  6625791   \n",
       "\n",
       "             DATETIME      STATION_KEY  ENTRY_DIFFS  \n",
       "0 2018-05-19 00:00:00  A002 R051 59 ST          NaN  \n",
       "1 2018-05-19 04:00:00  A002 R051 59 ST         24.0  \n",
       "2 2018-05-19 08:00:00  A002 R051 59 ST         20.0  \n",
       "3 2018-05-19 12:00:00  A002 R051 59 ST         81.0  \n",
       "4 2018-05-19 16:00:00  A002 R051 59 ST        196.0  "
      ]
     },
     "execution_count": 57,
     "metadata": {},
     "output_type": "execute_result"
    }
   ],
   "source": [
    "station_day(0,0).head()"
   ]
  },
  {
   "cell_type": "markdown",
   "metadata": {},
   "source": [
    "**Still need to clean up 'ENTRY_DIFFS'**\n",
    "\n",
    "There are some large negative and positive values still, but majority are reasonable"
   ]
  },
  {
   "cell_type": "code",
   "execution_count": 58,
   "metadata": {},
   "outputs": [
    {
     "data": {
      "text/plain": [
       "count    1.934710e+05\n",
       "mean     1.511019e+03\n",
       "std      6.671350e+06\n",
       "min     -2.066081e+09\n",
       "25%      9.000000e+00\n",
       "50%      7.500000e+01\n",
       "75%      2.500000e+02\n",
       "max      2.066520e+09\n",
       "Name: ENTRY_DIFFS, dtype: float64"
      ]
     },
     "execution_count": 58,
     "metadata": {},
     "output_type": "execute_result"
    }
   ],
   "source": [
    "df['ENTRY_DIFFS'].describe()"
   ]
  },
  {
   "cell_type": "code",
   "execution_count": 59,
   "metadata": {},
   "outputs": [
    {
     "data": {
      "text/plain": [
       "(array([  1.00000000e+00,   0.00000000e+00,   0.00000000e+00,\n",
       "          0.00000000e+00,   1.93460000e+05,   9.00000000e+00,\n",
       "          0.00000000e+00,   0.00000000e+00,   0.00000000e+00,\n",
       "          1.00000000e+00]),\n",
       " array([ -2.06608118e+09,  -1.65282109e+09,  -1.23956101e+09,\n",
       "         -8.26300924e+08,  -4.13040839e+08,   2.19246500e+05,\n",
       "          4.13479332e+08,   8.26739417e+08,   1.23999950e+09,\n",
       "          1.65325959e+09,   2.06651967e+09]),\n",
       " <a list of 10 Patch objects>)"
      ]
     },
     "execution_count": 59,
     "metadata": {},
     "output_type": "execute_result"
    },
    {
     "data": {
      "image/png": "[encoded data removed]",
      "text/plain": [
       "<Figure size 432x288 with 1 Axes>"
      ]
     },
     "metadata": {
      "needs_background": "light"
     },
     "output_type": "display_data"
    }
   ],
   "source": [
    "plt.hist(df['ENTRY_DIFFS'].dropna())"
   ]
  },
  {
   "cell_type": "markdown",
   "metadata": {},
   "source": [
    "Inspect largest outliers more closely:"
   ]
  },
  {
   "cell_type": "code",
   "execution_count": 63,
   "metadata": {},
   "outputs": [
    {
     "data": {
      "text/html": [
       "<div>\n",
       "<style scoped>\n",
       "    .dataframe tbody tr th:only-of-type {\n",
       "        vertical-align: middle;\n",
       "    }\n",
       "\n",
       "    .dataframe tbody tr th {\n",
       "        vertical-align: top;\n",
       "    }\n",
       "\n",
       "    .dataframe thead th {\n",
       "        text-align: right;\n",
       "    }\n",
       "</style>\n",
       "<table border=\"1\" class=\"dataframe\">\n",
       "  <thead>\n",
       "    <tr style=\"text-align: right;\">\n",
       "      <th></th>\n",
       "      <th>SCP</th>\n",
       "      <th>LINENAME</th>\n",
       "      <th>DIVISION</th>\n",
       "      <th>DATE</th>\n",
       "      <th>TIME</th>\n",
       "      <th>DESC</th>\n",
       "      <th>ENTRIES</th>\n",
       "      <th>DATETIME</th>\n",
       "      <th>STATION_KEY</th>\n",
       "      <th>ENTRY_DIFFS</th>\n",
       "    </tr>\n",
       "  </thead>\n",
       "  <tbody>\n",
       "    <tr>\n",
       "      <th>88545</th>\n",
       "      <td>02-00-04</td>\n",
       "      <td>EMG</td>\n",
       "      <td>IND</td>\n",
       "      <td>2018-05-22</td>\n",
       "      <td>12:00:00</td>\n",
       "      <td>REGULAR</td>\n",
       "      <td>1349914</td>\n",
       "      <td>2018-05-22 12:00:00</td>\n",
       "      <td>N400A R359 COURT SQ</td>\n",
       "      <td>-2.066081e+09</td>\n",
       "    </tr>\n",
       "    <tr>\n",
       "      <th>30803</th>\n",
       "      <td>00-00-00</td>\n",
       "      <td>L</td>\n",
       "      <td>BMT</td>\n",
       "      <td>2018-05-20</td>\n",
       "      <td>12:00:00</td>\n",
       "      <td>REGULAR</td>\n",
       "      <td>353</td>\n",
       "      <td>2018-05-20 12:00:00</td>\n",
       "      <td>H009 R235 BEDFORD AV</td>\n",
       "      <td>-4.451601e+06</td>\n",
       "    </tr>\n",
       "    <tr>\n",
       "      <th>161118</th>\n",
       "      <td>00-00-00</td>\n",
       "      <td>245</td>\n",
       "      <td>IRT</td>\n",
       "      <td>2018-05-20</td>\n",
       "      <td>08:00:00</td>\n",
       "      <td>RECOVR AUD</td>\n",
       "      <td>7</td>\n",
       "      <td>2018-05-20 08:00:00</td>\n",
       "      <td>R261 R205 149/GRAND CONC</td>\n",
       "      <td>-2.430944e+06</td>\n",
       "    </tr>\n",
       "    <tr>\n",
       "      <th>152677</th>\n",
       "      <td>01-00-02</td>\n",
       "      <td>4567S</td>\n",
       "      <td>IRT</td>\n",
       "      <td>2018-05-20</td>\n",
       "      <td>17:00:00</td>\n",
       "      <td>REGULAR</td>\n",
       "      <td>126</td>\n",
       "      <td>2018-05-20 17:00:00</td>\n",
       "      <td>R237B R047 GRD CNTRL-42 ST</td>\n",
       "      <td>-2.381153e+06</td>\n",
       "    </tr>\n",
       "    <tr>\n",
       "      <th>28887</th>\n",
       "      <td>02-00-03</td>\n",
       "      <td>DFNQ</td>\n",
       "      <td>BMT</td>\n",
       "      <td>2018-05-24</td>\n",
       "      <td>13:00:00</td>\n",
       "      <td>REGULAR</td>\n",
       "      <td>134</td>\n",
       "      <td>2018-05-24 13:00:00</td>\n",
       "      <td>G009 R151 CONEY IS-STILLW</td>\n",
       "      <td>-1.948933e+06</td>\n",
       "    </tr>\n",
       "  </tbody>\n",
       "</table>\n",
       "</div>"
      ],
      "text/plain": [
       "             SCP LINENAME DIVISION       DATE      TIME        DESC  ENTRIES  \\\n",
       "88545   02-00-04      EMG      IND 2018-05-22  12:00:00     REGULAR  1349914   \n",
       "30803   00-00-00        L      BMT 2018-05-20  12:00:00     REGULAR      353   \n",
       "161118  00-00-00      245      IRT 2018-05-20  08:00:00  RECOVR AUD        7   \n",
       "152677  01-00-02    4567S      IRT 2018-05-20  17:00:00     REGULAR      126   \n",
       "28887   02-00-03     DFNQ      BMT 2018-05-24  13:00:00     REGULAR      134   \n",
       "\n",
       "                  DATETIME                 STATION_KEY   ENTRY_DIFFS  \n",
       "88545  2018-05-22 12:00:00         N400A R359 COURT SQ -2.066081e+09  \n",
       "30803  2018-05-20 12:00:00        H009 R235 BEDFORD AV -4.451601e+06  \n",
       "161118 2018-05-20 08:00:00    R261 R205 149/GRAND CONC -2.430944e+06  \n",
       "152677 2018-05-20 17:00:00  R237B R047 GRD CNTRL-42 ST -2.381153e+06  \n",
       "28887  2018-05-24 13:00:00   G009 R151 CONEY IS-STILLW -1.948933e+06  "
      ]
     },
     "execution_count": 63,
     "metadata": {},
     "output_type": "execute_result"
    }
   ],
   "source": [
    "df.sort_values('ENTRY_DIFFS').head()"
   ]
  },
  {
   "cell_type": "code",
   "execution_count": 47,
   "metadata": {},
   "outputs": [
    {
     "data": {
      "text/html": [
       "<div>\n",
       "<style scoped>\n",
       "    .dataframe tbody tr th:only-of-type {\n",
       "        vertical-align: middle;\n",
       "    }\n",
       "\n",
       "    .dataframe tbody tr th {\n",
       "        vertical-align: top;\n",
       "    }\n",
       "\n",
       "    .dataframe thead th {\n",
       "        text-align: right;\n",
       "    }\n",
       "</style>\n",
       "<table border=\"1\" class=\"dataframe\">\n",
       "  <thead>\n",
       "    <tr style=\"text-align: right;\">\n",
       "      <th></th>\n",
       "      <th>SCP</th>\n",
       "      <th>LINENAME</th>\n",
       "      <th>DIVISION</th>\n",
       "      <th>DATE</th>\n",
       "      <th>TIME</th>\n",
       "      <th>DESC</th>\n",
       "      <th>ENTRIES</th>\n",
       "      <th>DATETIME</th>\n",
       "      <th>STATION_KEY</th>\n",
       "      <th>ENTRY_DIFFS</th>\n",
       "    </tr>\n",
       "  </thead>\n",
       "  <tbody>\n",
       "    <tr>\n",
       "      <th>88540</th>\n",
       "      <td>02-00-04</td>\n",
       "      <td>EMG</td>\n",
       "      <td>IND</td>\n",
       "      <td>2018-05-21</td>\n",
       "      <td>12:00:00</td>\n",
       "      <td>RECOVR AUD</td>\n",
       "      <td>2067432808</td>\n",
       "      <td>2018-05-21 12:00:00</td>\n",
       "      <td>N400A R359 COURT SQ</td>\n",
       "      <td>-4.750000e+02</td>\n",
       "    </tr>\n",
       "    <tr>\n",
       "      <th>88541</th>\n",
       "      <td>02-00-04</td>\n",
       "      <td>EMG</td>\n",
       "      <td>IND</td>\n",
       "      <td>2018-05-21</td>\n",
       "      <td>16:00:00</td>\n",
       "      <td>RECOVR AUD</td>\n",
       "      <td>2067432493</td>\n",
       "      <td>2018-05-21 16:00:00</td>\n",
       "      <td>N400A R359 COURT SQ</td>\n",
       "      <td>-3.150000e+02</td>\n",
       "    </tr>\n",
       "    <tr>\n",
       "      <th>88542</th>\n",
       "      <td>02-00-04</td>\n",
       "      <td>EMG</td>\n",
       "      <td>IND</td>\n",
       "      <td>2018-05-21</td>\n",
       "      <td>20:00:00</td>\n",
       "      <td>REGULAR</td>\n",
       "      <td>2067431152</td>\n",
       "      <td>2018-05-21 20:00:00</td>\n",
       "      <td>N400A R359 COURT SQ</td>\n",
       "      <td>-1.341000e+03</td>\n",
       "    </tr>\n",
       "    <tr>\n",
       "      <th>88543</th>\n",
       "      <td>02-00-04</td>\n",
       "      <td>EMG</td>\n",
       "      <td>IND</td>\n",
       "      <td>2018-05-22</td>\n",
       "      <td>00:00:00</td>\n",
       "      <td>REGULAR</td>\n",
       "      <td>2067431097</td>\n",
       "      <td>2018-05-22 00:00:00</td>\n",
       "      <td>N400A R359 COURT SQ</td>\n",
       "      <td>-5.500000e+01</td>\n",
       "    </tr>\n",
       "    <tr>\n",
       "      <th>88544</th>\n",
       "      <td>02-00-04</td>\n",
       "      <td>EMG</td>\n",
       "      <td>IND</td>\n",
       "      <td>2018-05-22</td>\n",
       "      <td>04:00:00</td>\n",
       "      <td>REGULAR</td>\n",
       "      <td>2067431093</td>\n",
       "      <td>2018-05-22 04:00:00</td>\n",
       "      <td>N400A R359 COURT SQ</td>\n",
       "      <td>-4.000000e+00</td>\n",
       "    </tr>\n",
       "    <tr>\n",
       "      <th>88545</th>\n",
       "      <td>02-00-04</td>\n",
       "      <td>EMG</td>\n",
       "      <td>IND</td>\n",
       "      <td>2018-05-22</td>\n",
       "      <td>12:00:00</td>\n",
       "      <td>REGULAR</td>\n",
       "      <td>1349914</td>\n",
       "      <td>2018-05-22 12:00:00</td>\n",
       "      <td>N400A R359 COURT SQ</td>\n",
       "      <td>-2.066081e+09</td>\n",
       "    </tr>\n",
       "    <tr>\n",
       "      <th>88546</th>\n",
       "      <td>02-00-04</td>\n",
       "      <td>EMG</td>\n",
       "      <td>IND</td>\n",
       "      <td>2018-05-22</td>\n",
       "      <td>16:00:00</td>\n",
       "      <td>REGULAR</td>\n",
       "      <td>1350158</td>\n",
       "      <td>2018-05-22 16:00:00</td>\n",
       "      <td>N400A R359 COURT SQ</td>\n",
       "      <td>2.440000e+02</td>\n",
       "    </tr>\n",
       "    <tr>\n",
       "      <th>88547</th>\n",
       "      <td>02-00-04</td>\n",
       "      <td>EMG</td>\n",
       "      <td>IND</td>\n",
       "      <td>2018-05-22</td>\n",
       "      <td>20:00:00</td>\n",
       "      <td>REGULAR</td>\n",
       "      <td>1350973</td>\n",
       "      <td>2018-05-22 20:00:00</td>\n",
       "      <td>N400A R359 COURT SQ</td>\n",
       "      <td>8.150000e+02</td>\n",
       "    </tr>\n",
       "    <tr>\n",
       "      <th>88548</th>\n",
       "      <td>02-00-04</td>\n",
       "      <td>EMG</td>\n",
       "      <td>IND</td>\n",
       "      <td>2018-05-23</td>\n",
       "      <td>00:00:00</td>\n",
       "      <td>REGULAR</td>\n",
       "      <td>1351066</td>\n",
       "      <td>2018-05-23 00:00:00</td>\n",
       "      <td>N400A R359 COURT SQ</td>\n",
       "      <td>9.300000e+01</td>\n",
       "    </tr>\n",
       "    <tr>\n",
       "      <th>88549</th>\n",
       "      <td>02-00-04</td>\n",
       "      <td>EMG</td>\n",
       "      <td>IND</td>\n",
       "      <td>2018-05-23</td>\n",
       "      <td>04:00:00</td>\n",
       "      <td>REGULAR</td>\n",
       "      <td>1351077</td>\n",
       "      <td>2018-05-23 04:00:00</td>\n",
       "      <td>N400A R359 COURT SQ</td>\n",
       "      <td>1.100000e+01</td>\n",
       "    </tr>\n",
       "    <tr>\n",
       "      <th>88550</th>\n",
       "      <td>02-00-04</td>\n",
       "      <td>EMG</td>\n",
       "      <td>IND</td>\n",
       "      <td>2018-05-23</td>\n",
       "      <td>08:00:00</td>\n",
       "      <td>REGULAR</td>\n",
       "      <td>1351208</td>\n",
       "      <td>2018-05-23 08:00:00</td>\n",
       "      <td>N400A R359 COURT SQ</td>\n",
       "      <td>1.310000e+02</td>\n",
       "    </tr>\n",
       "  </tbody>\n",
       "</table>\n",
       "</div>"
      ],
      "text/plain": [
       "            SCP LINENAME DIVISION       DATE      TIME        DESC  \\\n",
       "88540  02-00-04      EMG      IND 2018-05-21  12:00:00  RECOVR AUD   \n",
       "88541  02-00-04      EMG      IND 2018-05-21  16:00:00  RECOVR AUD   \n",
       "88542  02-00-04      EMG      IND 2018-05-21  20:00:00     REGULAR   \n",
       "88543  02-00-04      EMG      IND 2018-05-22  00:00:00     REGULAR   \n",
       "88544  02-00-04      EMG      IND 2018-05-22  04:00:00     REGULAR   \n",
       "88545  02-00-04      EMG      IND 2018-05-22  12:00:00     REGULAR   \n",
       "88546  02-00-04      EMG      IND 2018-05-22  16:00:00     REGULAR   \n",
       "88547  02-00-04      EMG      IND 2018-05-22  20:00:00     REGULAR   \n",
       "88548  02-00-04      EMG      IND 2018-05-23  00:00:00     REGULAR   \n",
       "88549  02-00-04      EMG      IND 2018-05-23  04:00:00     REGULAR   \n",
       "88550  02-00-04      EMG      IND 2018-05-23  08:00:00     REGULAR   \n",
       "\n",
       "          ENTRIES            DATETIME          STATION_KEY   ENTRY_DIFFS  \n",
       "88540  2067432808 2018-05-21 12:00:00  N400A R359 COURT SQ -4.750000e+02  \n",
       "88541  2067432493 2018-05-21 16:00:00  N400A R359 COURT SQ -3.150000e+02  \n",
       "88542  2067431152 2018-05-21 20:00:00  N400A R359 COURT SQ -1.341000e+03  \n",
       "88543  2067431097 2018-05-22 00:00:00  N400A R359 COURT SQ -5.500000e+01  \n",
       "88544  2067431093 2018-05-22 04:00:00  N400A R359 COURT SQ -4.000000e+00  \n",
       "88545     1349914 2018-05-22 12:00:00  N400A R359 COURT SQ -2.066081e+09  \n",
       "88546     1350158 2018-05-22 16:00:00  N400A R359 COURT SQ  2.440000e+02  \n",
       "88547     1350973 2018-05-22 20:00:00  N400A R359 COURT SQ  8.150000e+02  \n",
       "88548     1351066 2018-05-23 00:00:00  N400A R359 COURT SQ  9.300000e+01  \n",
       "88549     1351077 2018-05-23 04:00:00  N400A R359 COURT SQ  1.100000e+01  \n",
       "88550     1351208 2018-05-23 08:00:00  N400A R359 COURT SQ  1.310000e+02  "
      ]
     },
     "execution_count": 47,
     "metadata": {},
     "output_type": "execute_result"
    }
   ],
   "source": [
    "df.loc[88540:88550]"
   ]
  },
  {
   "cell_type": "markdown",
   "metadata": {},
   "source": [
    "Why are there any negative values? Can we just drop them?"
   ]
  },
  {
   "cell_type": "code",
   "execution_count": 51,
   "metadata": {},
   "outputs": [
    {
     "data": {
      "text/plain": [
       "(1637, 198174)"
      ]
     },
     "execution_count": 51,
     "metadata": {},
     "output_type": "execute_result"
    }
   ],
   "source": [
    "len(df[df['ENTRY_DIFFS'] < 0]), len(df)"
   ]
  },
  {
   "cell_type": "code",
   "execution_count": null,
   "metadata": {},
   "outputs": [],
   "source": []
  },
  {
   "cell_type": "code",
   "execution_count": 68,
   "metadata": {},
   "outputs": [
    {
     "data": {
      "image/png": "[encoded data removed]",
      "text/plain": [
       "<Figure size 432x288 with 1 Axes>"
      ]
     },
     "metadata": {
      "needs_background": "light"
     },
     "output_type": "display_data"
    }
   ],
   "source": [
    "plt.boxplot(df['ENTRY_DIFFS'].dropna());"
   ]
  },
  {
   "cell_type": "code",
   "execution_count": 120,
   "metadata": {},
   "outputs": [],
   "source": [
    "clean_df = df[(df['ENTRY_DIFFS'] < 2E5) & (df['ENTRY_DIFFS'] > 0)]"
   ]
  },
  {
   "cell_type": "code",
   "execution_count": 121,
   "metadata": {},
   "outputs": [
    {
     "data": {
      "text/plain": [
       "(array([  1.25535000e+05,   2.53550000e+04,   7.47900000e+03,\n",
       "          2.27300000e+03,   8.31000000e+02,   2.89000000e+02,\n",
       "          8.10000000e+01,   5.10000000e+01,   1.50000000e+01,\n",
       "          3.00000000e+00]),\n",
       " array([  1.00000000e+00,   3.28800000e+02,   6.56600000e+02,\n",
       "          9.84400000e+02,   1.31220000e+03,   1.64000000e+03,\n",
       "          1.96780000e+03,   2.29560000e+03,   2.62340000e+03,\n",
       "          2.95120000e+03,   3.27900000e+03]),\n",
       " <a list of 10 Patch objects>)"
      ]
     },
     "execution_count": 121,
     "metadata": {},
     "output_type": "execute_result"
    },
    {
     "data": {
      "image/png": "[encoded data removed]",
      "text/plain": [
       "<Figure size 432x288 with 1 Axes>"
      ]
     },
     "metadata": {
      "needs_background": "light"
     },
     "output_type": "display_data"
    }
   ],
   "source": [
    "plt.hist(clean_df['ENTRY_DIFFS'].dropna())"
   ]
  },
  {
   "cell_type": "code",
   "execution_count": 122,
   "metadata": {},
   "outputs": [
    {
     "data": {
      "text/plain": [
       "{'boxes': [<matplotlib.lines.Line2D at 0x1272109b0>],\n",
       " 'caps': [<matplotlib.lines.Line2D at 0x127216400>,\n",
       "  <matplotlib.lines.Line2D at 0x127216828>],\n",
       " 'fliers': [<matplotlib.lines.Line2D at 0x12721c0b8>],\n",
       " 'means': [],\n",
       " 'medians': [<matplotlib.lines.Line2D at 0x127216c50>],\n",
       " 'whiskers': [<matplotlib.lines.Line2D at 0x127210b00>,\n",
       "  <matplotlib.lines.Line2D at 0x127210f98>]}"
      ]
     },
     "execution_count": 122,
     "metadata": {},
     "output_type": "execute_result"
    },
    {
     "data": {
      "image/png": "[encoded data removed]",
      "text/plain": [
       "<Figure size 432x288 with 1 Axes>"
      ]
     },
     "metadata": {
      "needs_background": "light"
     },
     "output_type": "display_data"
    }
   ],
   "source": [
    "plt.boxplot(clean_df['ENTRY_DIFFS'].dropna())"
   ]
  },
  {
   "cell_type": "code",
   "execution_count": 123,
   "metadata": {},
   "outputs": [
    {
     "data": {
      "text/html": [
       "<div>\n",
       "<style scoped>\n",
       "    .dataframe tbody tr th:only-of-type {\n",
       "        vertical-align: middle;\n",
       "    }\n",
       "\n",
       "    .dataframe tbody tr th {\n",
       "        vertical-align: top;\n",
       "    }\n",
       "\n",
       "    .dataframe thead th {\n",
       "        text-align: right;\n",
       "    }\n",
       "</style>\n",
       "<table border=\"1\" class=\"dataframe\">\n",
       "  <thead>\n",
       "    <tr style=\"text-align: right;\">\n",
       "      <th></th>\n",
       "      <th>SCP</th>\n",
       "      <th>LINENAME</th>\n",
       "      <th>DIVISION</th>\n",
       "      <th>DATE</th>\n",
       "      <th>TIME</th>\n",
       "      <th>DESC</th>\n",
       "      <th>ENTRIES</th>\n",
       "      <th>DATETIME</th>\n",
       "      <th>STATION_KEY</th>\n",
       "      <th>ENTRY_DIFFS</th>\n",
       "    </tr>\n",
       "  </thead>\n",
       "  <tbody>\n",
       "    <tr>\n",
       "      <th>177825</th>\n",
       "      <td>00-03-00</td>\n",
       "      <td>NQW</td>\n",
       "      <td>BMT</td>\n",
       "      <td>2018-05-23</td>\n",
       "      <td>12:00:00</td>\n",
       "      <td>REGULAR</td>\n",
       "      <td>37305108</td>\n",
       "      <td>2018-05-23 12:00:00</td>\n",
       "      <td>R512 R092 BROADWAY</td>\n",
       "      <td>2945.0</td>\n",
       "    </tr>\n",
       "    <tr>\n",
       "      <th>153236</th>\n",
       "      <td>00-03-03</td>\n",
       "      <td>4567S</td>\n",
       "      <td>IRT</td>\n",
       "      <td>2018-05-22</td>\n",
       "      <td>20:00:00</td>\n",
       "      <td>REGULAR</td>\n",
       "      <td>3981820</td>\n",
       "      <td>2018-05-22 20:00:00</td>\n",
       "      <td>R238 R046 GRD CNTRL-42 ST</td>\n",
       "      <td>2950.0</td>\n",
       "    </tr>\n",
       "    <tr>\n",
       "      <th>153289</th>\n",
       "      <td>00-03-04</td>\n",
       "      <td>4567S</td>\n",
       "      <td>IRT</td>\n",
       "      <td>2018-05-24</td>\n",
       "      <td>20:00:00</td>\n",
       "      <td>REGULAR</td>\n",
       "      <td>35056770</td>\n",
       "      <td>2018-05-24 20:00:00</td>\n",
       "      <td>R238 R046 GRD CNTRL-42 ST</td>\n",
       "      <td>3110.0</td>\n",
       "    </tr>\n",
       "    <tr>\n",
       "      <th>177831</th>\n",
       "      <td>00-03-00</td>\n",
       "      <td>NQW</td>\n",
       "      <td>BMT</td>\n",
       "      <td>2018-05-24</td>\n",
       "      <td>12:00:00</td>\n",
       "      <td>REGULAR</td>\n",
       "      <td>37313045</td>\n",
       "      <td>2018-05-24 12:00:00</td>\n",
       "      <td>R512 R092 BROADWAY</td>\n",
       "      <td>3184.0</td>\n",
       "    </tr>\n",
       "    <tr>\n",
       "      <th>153277</th>\n",
       "      <td>00-03-04</td>\n",
       "      <td>4567S</td>\n",
       "      <td>IRT</td>\n",
       "      <td>2018-05-22</td>\n",
       "      <td>20:00:00</td>\n",
       "      <td>REGULAR</td>\n",
       "      <td>35039938</td>\n",
       "      <td>2018-05-22 20:00:00</td>\n",
       "      <td>R238 R046 GRD CNTRL-42 ST</td>\n",
       "      <td>3279.0</td>\n",
       "    </tr>\n",
       "  </tbody>\n",
       "</table>\n",
       "</div>"
      ],
      "text/plain": [
       "             SCP LINENAME DIVISION       DATE      TIME     DESC   ENTRIES  \\\n",
       "177825  00-03-00      NQW      BMT 2018-05-23  12:00:00  REGULAR  37305108   \n",
       "153236  00-03-03    4567S      IRT 2018-05-22  20:00:00  REGULAR   3981820   \n",
       "153289  00-03-04    4567S      IRT 2018-05-24  20:00:00  REGULAR  35056770   \n",
       "177831  00-03-00      NQW      BMT 2018-05-24  12:00:00  REGULAR  37313045   \n",
       "153277  00-03-04    4567S      IRT 2018-05-22  20:00:00  REGULAR  35039938   \n",
       "\n",
       "                  DATETIME                STATION_KEY  ENTRY_DIFFS  \n",
       "177825 2018-05-23 12:00:00         R512 R092 BROADWAY       2945.0  \n",
       "153236 2018-05-22 20:00:00  R238 R046 GRD CNTRL-42 ST       2950.0  \n",
       "153289 2018-05-24 20:00:00  R238 R046 GRD CNTRL-42 ST       3110.0  \n",
       "177831 2018-05-24 12:00:00         R512 R092 BROADWAY       3184.0  \n",
       "153277 2018-05-22 20:00:00  R238 R046 GRD CNTRL-42 ST       3279.0  "
      ]
     },
     "execution_count": 123,
     "metadata": {},
     "output_type": "execute_result"
    }
   ],
   "source": [
    "clean_df.sort_values('ENTRY_DIFFS').tail()"
   ]
  },
  {
   "cell_type": "code",
   "execution_count": 111,
   "metadata": {},
   "outputs": [
    {
     "data": {
      "text/plain": [
       "'PTH03 R552 JOURNAL SQUARE'"
      ]
     },
     "execution_count": 111,
     "metadata": {},
     "output_type": "execute_result"
    }
   ],
   "source": [
    "s = clean_df.sort_values('ENTRY_DIFFS').tail(1)['STATION_KEY'].values[0]\n",
    "s"
   ]
  },
  {
   "cell_type": "code",
   "execution_count": 100,
   "metadata": {},
   "outputs": [],
   "source": [
    "def station_day2(s, d):\n",
    "    '''Given station key and date,\n",
    "    returns all entries from original data frame for this station & date'''\n",
    "    return clean_df[(clean_df['DATE'] == d) & (clean_df['STATION_KEY'] == s)]\n"
   ]
  },
  {
   "cell_type": "code",
   "execution_count": 116,
   "metadata": {},
   "outputs": [
    {
     "data": {
      "text/plain": [
       "92"
      ]
     },
     "execution_count": 116,
     "metadata": {},
     "output_type": "execute_result"
    }
   ],
   "source": [
    "df00 = station_day2(s, dt.datetime(2018,5,19))\n",
    "len(df00)"
   ]
  },
  {
   "cell_type": "code",
   "execution_count": 118,
   "metadata": {},
   "outputs": [
    {
     "data": {
      "text/plain": [
       "count        92.000000\n",
       "mean       9443.826087\n",
       "std       89371.535580\n",
       "min           2.000000\n",
       "25%          26.250000\n",
       "50%          81.500000\n",
       "75%         208.000000\n",
       "max      857347.000000\n",
       "Name: ENTRY_DIFFS, dtype: float64"
      ]
     },
     "execution_count": 118,
     "metadata": {},
     "output_type": "execute_result"
    }
   ],
   "source": [
    "df00['ENTRY_DIFFS'].describe()"
   ]
  },
  {
   "cell_type": "code",
   "execution_count": 119,
   "metadata": {},
   "outputs": [
    {
     "data": {
      "text/html": [
       "<div>\n",
       "<style scoped>\n",
       "    .dataframe tbody tr th:only-of-type {\n",
       "        vertical-align: middle;\n",
       "    }\n",
       "\n",
       "    .dataframe tbody tr th {\n",
       "        vertical-align: top;\n",
       "    }\n",
       "\n",
       "    .dataframe thead th {\n",
       "        text-align: right;\n",
       "    }\n",
       "</style>\n",
       "<table border=\"1\" class=\"dataframe\">\n",
       "  <thead>\n",
       "    <tr style=\"text-align: right;\">\n",
       "      <th></th>\n",
       "      <th>SCP</th>\n",
       "      <th>LINENAME</th>\n",
       "      <th>DIVISION</th>\n",
       "      <th>DATE</th>\n",
       "      <th>TIME</th>\n",
       "      <th>DESC</th>\n",
       "      <th>ENTRIES</th>\n",
       "      <th>DATETIME</th>\n",
       "      <th>STATION_KEY</th>\n",
       "      <th>ENTRY_DIFFS</th>\n",
       "    </tr>\n",
       "  </thead>\n",
       "  <tbody>\n",
       "    <tr>\n",
       "      <th>112387</th>\n",
       "      <td>00-00-06</td>\n",
       "      <td>1</td>\n",
       "      <td>PTH</td>\n",
       "      <td>2018-05-19</td>\n",
       "      <td>15:36:58</td>\n",
       "      <td>REGULAR</td>\n",
       "      <td>1291629</td>\n",
       "      <td>2018-05-19 15:36:58</td>\n",
       "      <td>PTH03 R552 JOURNAL SQUARE</td>\n",
       "      <td>305.0</td>\n",
       "    </tr>\n",
       "    <tr>\n",
       "      <th>112426</th>\n",
       "      <td>00-00-07</td>\n",
       "      <td>1</td>\n",
       "      <td>PTH</td>\n",
       "      <td>2018-05-19</td>\n",
       "      <td>10:02:14</td>\n",
       "      <td>REGULAR</td>\n",
       "      <td>4313167</td>\n",
       "      <td>2018-05-19 10:02:14</td>\n",
       "      <td>PTH03 R552 JOURNAL SQUARE</td>\n",
       "      <td>320.0</td>\n",
       "    </tr>\n",
       "    <tr>\n",
       "      <th>112427</th>\n",
       "      <td>00-00-07</td>\n",
       "      <td>1</td>\n",
       "      <td>PTH</td>\n",
       "      <td>2018-05-19</td>\n",
       "      <td>14:14:14</td>\n",
       "      <td>REGULAR</td>\n",
       "      <td>4313512</td>\n",
       "      <td>2018-05-19 14:14:14</td>\n",
       "      <td>PTH03 R552 JOURNAL SQUARE</td>\n",
       "      <td>345.0</td>\n",
       "    </tr>\n",
       "    <tr>\n",
       "      <th>112428</th>\n",
       "      <td>00-00-07</td>\n",
       "      <td>1</td>\n",
       "      <td>PTH</td>\n",
       "      <td>2018-05-19</td>\n",
       "      <td>18:26:14</td>\n",
       "      <td>REGULAR</td>\n",
       "      <td>4313872</td>\n",
       "      <td>2018-05-19 18:26:14</td>\n",
       "      <td>PTH03 R552 JOURNAL SQUARE</td>\n",
       "      <td>360.0</td>\n",
       "    </tr>\n",
       "    <tr>\n",
       "      <th>112466</th>\n",
       "      <td>00-00-08</td>\n",
       "      <td>1</td>\n",
       "      <td>PTH</td>\n",
       "      <td>2018-05-19</td>\n",
       "      <td>10:50:37</td>\n",
       "      <td>REGULAR</td>\n",
       "      <td>816856</td>\n",
       "      <td>2018-05-19 10:50:37</td>\n",
       "      <td>PTH03 R552 JOURNAL SQUARE</td>\n",
       "      <td>418.0</td>\n",
       "    </tr>\n",
       "    <tr>\n",
       "      <th>112467</th>\n",
       "      <td>00-00-08</td>\n",
       "      <td>1</td>\n",
       "      <td>PTH</td>\n",
       "      <td>2018-05-19</td>\n",
       "      <td>15:02:37</td>\n",
       "      <td>REGULAR</td>\n",
       "      <td>817223</td>\n",
       "      <td>2018-05-19 15:02:37</td>\n",
       "      <td>PTH03 R552 JOURNAL SQUARE</td>\n",
       "      <td>367.0</td>\n",
       "    </tr>\n",
       "    <tr>\n",
       "      <th>112506</th>\n",
       "      <td>00-00-09</td>\n",
       "      <td>1</td>\n",
       "      <td>PTH</td>\n",
       "      <td>2018-05-19</td>\n",
       "      <td>12:07:06</td>\n",
       "      <td>REGULAR</td>\n",
       "      <td>857098</td>\n",
       "      <td>2018-05-19 12:07:06</td>\n",
       "      <td>PTH03 R552 JOURNAL SQUARE</td>\n",
       "      <td>520.0</td>\n",
       "    </tr>\n",
       "    <tr>\n",
       "      <th>112508</th>\n",
       "      <td>00-00-09</td>\n",
       "      <td>1</td>\n",
       "      <td>PTH</td>\n",
       "      <td>2018-05-19</td>\n",
       "      <td>20:17:06</td>\n",
       "      <td>REGULAR</td>\n",
       "      <td>857862</td>\n",
       "      <td>2018-05-19 20:17:06</td>\n",
       "      <td>PTH03 R552 JOURNAL SQUARE</td>\n",
       "      <td>857347.0</td>\n",
       "    </tr>\n",
       "    <tr>\n",
       "      <th>112588</th>\n",
       "      <td>00-01-00</td>\n",
       "      <td>1</td>\n",
       "      <td>PTH</td>\n",
       "      <td>2018-05-19</td>\n",
       "      <td>08:52:22</td>\n",
       "      <td>REGULAR</td>\n",
       "      <td>633</td>\n",
       "      <td>2018-05-19 08:52:22</td>\n",
       "      <td>PTH03 R552 JOURNAL SQUARE</td>\n",
       "      <td>393.0</td>\n",
       "    </tr>\n",
       "    <tr>\n",
       "      <th>112590</th>\n",
       "      <td>00-01-00</td>\n",
       "      <td>1</td>\n",
       "      <td>PTH</td>\n",
       "      <td>2018-05-19</td>\n",
       "      <td>18:37:03</td>\n",
       "      <td>REGULAR</td>\n",
       "      <td>1100</td>\n",
       "      <td>2018-05-19 18:37:03</td>\n",
       "      <td>PTH03 R552 JOURNAL SQUARE</td>\n",
       "      <td>388.0</td>\n",
       "    </tr>\n",
       "    <tr>\n",
       "      <th>112629</th>\n",
       "      <td>00-01-01</td>\n",
       "      <td>1</td>\n",
       "      <td>PTH</td>\n",
       "      <td>2018-05-19</td>\n",
       "      <td>12:36:34</td>\n",
       "      <td>REGULAR</td>\n",
       "      <td>149635</td>\n",
       "      <td>2018-05-19 12:36:34</td>\n",
       "      <td>PTH03 R552 JOURNAL SQUARE</td>\n",
       "      <td>493.0</td>\n",
       "    </tr>\n",
       "    <tr>\n",
       "      <th>112630</th>\n",
       "      <td>00-01-01</td>\n",
       "      <td>1</td>\n",
       "      <td>PTH</td>\n",
       "      <td>2018-05-19</td>\n",
       "      <td>16:48:34</td>\n",
       "      <td>REGULAR</td>\n",
       "      <td>149993</td>\n",
       "      <td>2018-05-19 16:48:34</td>\n",
       "      <td>PTH03 R552 JOURNAL SQUARE</td>\n",
       "      <td>358.0</td>\n",
       "    </tr>\n",
       "  </tbody>\n",
       "</table>\n",
       "</div>"
      ],
      "text/plain": [
       "             SCP LINENAME DIVISION       DATE      TIME     DESC  ENTRIES  \\\n",
       "112387  00-00-06        1      PTH 2018-05-19  15:36:58  REGULAR  1291629   \n",
       "112426  00-00-07        1      PTH 2018-05-19  10:02:14  REGULAR  4313167   \n",
       "112427  00-00-07        1      PTH 2018-05-19  14:14:14  REGULAR  4313512   \n",
       "112428  00-00-07        1      PTH 2018-05-19  18:26:14  REGULAR  4313872   \n",
       "112466  00-00-08        1      PTH 2018-05-19  10:50:37  REGULAR   816856   \n",
       "112467  00-00-08        1      PTH 2018-05-19  15:02:37  REGULAR   817223   \n",
       "112506  00-00-09        1      PTH 2018-05-19  12:07:06  REGULAR   857098   \n",
       "112508  00-00-09        1      PTH 2018-05-19  20:17:06  REGULAR   857862   \n",
       "112588  00-01-00        1      PTH 2018-05-19  08:52:22  REGULAR      633   \n",
       "112590  00-01-00        1      PTH 2018-05-19  18:37:03  REGULAR     1100   \n",
       "112629  00-01-01        1      PTH 2018-05-19  12:36:34  REGULAR   149635   \n",
       "112630  00-01-01        1      PTH 2018-05-19  16:48:34  REGULAR   149993   \n",
       "\n",
       "                  DATETIME                STATION_KEY  ENTRY_DIFFS  \n",
       "112387 2018-05-19 15:36:58  PTH03 R552 JOURNAL SQUARE        305.0  \n",
       "112426 2018-05-19 10:02:14  PTH03 R552 JOURNAL SQUARE        320.0  \n",
       "112427 2018-05-19 14:14:14  PTH03 R552 JOURNAL SQUARE        345.0  \n",
       "112428 2018-05-19 18:26:14  PTH03 R552 JOURNAL SQUARE        360.0  \n",
       "112466 2018-05-19 10:50:37  PTH03 R552 JOURNAL SQUARE        418.0  \n",
       "112467 2018-05-19 15:02:37  PTH03 R552 JOURNAL SQUARE        367.0  \n",
       "112506 2018-05-19 12:07:06  PTH03 R552 JOURNAL SQUARE        520.0  \n",
       "112508 2018-05-19 20:17:06  PTH03 R552 JOURNAL SQUARE     857347.0  \n",
       "112588 2018-05-19 08:52:22  PTH03 R552 JOURNAL SQUARE        393.0  \n",
       "112590 2018-05-19 18:37:03  PTH03 R552 JOURNAL SQUARE        388.0  \n",
       "112629 2018-05-19 12:36:34  PTH03 R552 JOURNAL SQUARE        493.0  \n",
       "112630 2018-05-19 16:48:34  PTH03 R552 JOURNAL SQUARE        358.0  "
      ]
     },
     "execution_count": 119,
     "metadata": {},
     "output_type": "execute_result"
    }
   ],
   "source": [
    "df00[df00['ENTRY_DIFFS']> 300]"
   ]
  },
  {
   "cell_type": "code",
   "execution_count": null,
   "metadata": {},
   "outputs": [],
   "source": []
  },
  {
   "cell_type": "code",
   "execution_count": 64,
   "metadata": {},
   "outputs": [
    {
     "data": {
      "text/plain": [
       "732"
      ]
     },
     "execution_count": 64,
     "metadata": {},
     "output_type": "execute_result"
    }
   ],
   "source": [
    "len(df['STATION_KEY'].unique())"
   ]
  }
 ],
 "metadata": {
  "kernelspec": {
   "display_name": "Python 3",
   "language": "python",
   "name": "python3"
  },
  "language_info": {
   "codemirror_mode": {
    "name": "ipython",
    "version": 3
   },
   "file_extension": ".py",
   "mimetype": "text/x-python",
   "name": "python",
   "nbconvert_exporter": "python",
   "pygments_lexer": "ipython3",
   "version": "3.5.5"
  }
 },
 "nbformat": 4,
 "nbformat_minor": 2
}
