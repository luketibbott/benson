{
 "cells": [
  {
   "cell_type": "code",
   "execution_count": 1,
   "metadata": {},
   "outputs": [],
   "source": [
    "import pandas as pd\n",
    "# import random\n",
    "# import itertools\n",
    "import datetime as dt\n",
    "import matplotlib.pyplot as plt\n",
    "import calendar\n",
    "import numpy as np\n",
    "import seaborn as sns"
   ]
  },
  {
   "cell_type": "code",
   "execution_count": 2,
   "metadata": {},
   "outputs": [],
   "source": [
    "df = pd.read_csv('pared_turnstile.csv', low_memory=False)"
   ]
  },
  {
   "cell_type": "code",
   "execution_count": 3,
   "metadata": {},
   "outputs": [
    {
     "data": {
      "text/html": [
       "<div>\n",
       "<style scoped>\n",
       "    .dataframe tbody tr th:only-of-type {\n",
       "        vertical-align: middle;\n",
       "    }\n",
       "\n",
       "    .dataframe tbody tr th {\n",
       "        vertical-align: top;\n",
       "    }\n",
       "\n",
       "    .dataframe thead th {\n",
       "        text-align: right;\n",
       "    }\n",
       "</style>\n",
       "<table border=\"1\" class=\"dataframe\">\n",
       "  <thead>\n",
       "    <tr style=\"text-align: right;\">\n",
       "      <th></th>\n",
       "      <th>Unnamed: 0</th>\n",
       "      <th>STATION</th>\n",
       "      <th>ENTRIES</th>\n",
       "      <th>EXITS</th>\n",
       "      <th>DATETIME</th>\n",
       "      <th>ENTRY_DIFFS</th>\n",
       "      <th>EXIT_DIFFS</th>\n",
       "      <th>zipcode</th>\n",
       "      <th>hir</th>\n",
       "      <th>TRAFFIC</th>\n",
       "    </tr>\n",
       "  </thead>\n",
       "  <tbody>\n",
       "    <tr>\n",
       "      <th>0</th>\n",
       "      <td>0</td>\n",
       "      <td>59 ST</td>\n",
       "      <td>6625470</td>\n",
       "      <td>2245312</td>\n",
       "      <td>2018-05-19 00:00:00</td>\n",
       "      <td>24.0</td>\n",
       "      <td>2.0</td>\n",
       "      <td>10022.0</td>\n",
       "      <td>10610.0</td>\n",
       "      <td>26.0</td>\n",
       "    </tr>\n",
       "    <tr>\n",
       "      <th>1</th>\n",
       "      <td>1</td>\n",
       "      <td>59 ST</td>\n",
       "      <td>6625494</td>\n",
       "      <td>2245314</td>\n",
       "      <td>2018-05-19 04:00:00</td>\n",
       "      <td>20.0</td>\n",
       "      <td>24.0</td>\n",
       "      <td>10022.0</td>\n",
       "      <td>10610.0</td>\n",
       "      <td>44.0</td>\n",
       "    </tr>\n",
       "    <tr>\n",
       "      <th>2</th>\n",
       "      <td>2</td>\n",
       "      <td>59 ST</td>\n",
       "      <td>6625514</td>\n",
       "      <td>2245338</td>\n",
       "      <td>2018-05-19 08:00:00</td>\n",
       "      <td>81.0</td>\n",
       "      <td>77.0</td>\n",
       "      <td>10022.0</td>\n",
       "      <td>10610.0</td>\n",
       "      <td>158.0</td>\n",
       "    </tr>\n",
       "    <tr>\n",
       "      <th>3</th>\n",
       "      <td>3</td>\n",
       "      <td>59 ST</td>\n",
       "      <td>6625595</td>\n",
       "      <td>2245415</td>\n",
       "      <td>2018-05-19 12:00:00</td>\n",
       "      <td>196.0</td>\n",
       "      <td>66.0</td>\n",
       "      <td>10022.0</td>\n",
       "      <td>10610.0</td>\n",
       "      <td>262.0</td>\n",
       "    </tr>\n",
       "    <tr>\n",
       "      <th>4</th>\n",
       "      <td>4</td>\n",
       "      <td>59 ST</td>\n",
       "      <td>6625791</td>\n",
       "      <td>2245481</td>\n",
       "      <td>2018-05-19 16:00:00</td>\n",
       "      <td>227.0</td>\n",
       "      <td>39.0</td>\n",
       "      <td>10022.0</td>\n",
       "      <td>10610.0</td>\n",
       "      <td>266.0</td>\n",
       "    </tr>\n",
       "  </tbody>\n",
       "</table>\n",
       "</div>"
      ],
      "text/plain": [
       "   Unnamed: 0 STATION  ENTRIES    EXITS             DATETIME  ENTRY_DIFFS  \\\n",
       "0           0   59 ST  6625470  2245312  2018-05-19 00:00:00         24.0   \n",
       "1           1   59 ST  6625494  2245314  2018-05-19 04:00:00         20.0   \n",
       "2           2   59 ST  6625514  2245338  2018-05-19 08:00:00         81.0   \n",
       "3           3   59 ST  6625595  2245415  2018-05-19 12:00:00        196.0   \n",
       "4           4   59 ST  6625791  2245481  2018-05-19 16:00:00        227.0   \n",
       "\n",
       "   EXIT_DIFFS  zipcode      hir  TRAFFIC  \n",
       "0         2.0  10022.0  10610.0     26.0  \n",
       "1        24.0  10022.0  10610.0     44.0  \n",
       "2        77.0  10022.0  10610.0    158.0  \n",
       "3        66.0  10022.0  10610.0    262.0  \n",
       "4        39.0  10022.0  10610.0    266.0  "
      ]
     },
     "execution_count": 3,
     "metadata": {},
     "output_type": "execute_result"
    }
   ],
   "source": [
    "df.head()"
   ]
  },
  {
   "cell_type": "code",
   "execution_count": 4,
   "metadata": {},
   "outputs": [],
   "source": [
    "df['DATETIME'] = pd.to_datetime(df['DATETIME'], format='%Y-%m-%d %H:%M:%S')\n",
    "df['TOTAL'] = df['ENTRY_DIFFS'] + df['EXIT_DIFFS']\n",
    "df.set_index('DATETIME', inplace=True)\n",
    "df.drop(['Unnamed: 0','ENTRY_DIFFS','EXIT_DIFFS','ENTRIES','EXITS','zipcode','hir'], axis=1, inplace=True)"
   ]
  },
  {
   "cell_type": "markdown",
   "metadata": {},
   "source": [
    "Time of entries is not always in 4-hour increments. Re-sample dataframe to correct for this, for plotting"
   ]
  },
  {
   "cell_type": "code",
   "execution_count": 5,
   "metadata": {},
   "outputs": [],
   "source": [
    "df2 = df.groupby(['STATION']).resample(rule='4H').sum().reset_index()\n",
    "df2['DAY_OF_WEEK'] = df2['DATETIME'].dt.weekday\n",
    "df2['DATE'] = df2['DATETIME'].dt.date\n",
    "df2['TIME'] = df2['DATETIME'].dt.time"
   ]
  },
  {
   "cell_type": "code",
   "execution_count": 6,
   "metadata": {},
   "outputs": [
    {
     "data": {
      "text/html": [
       "<div>\n",
       "<style scoped>\n",
       "    .dataframe tbody tr th:only-of-type {\n",
       "        vertical-align: middle;\n",
       "    }\n",
       "\n",
       "    .dataframe tbody tr th {\n",
       "        vertical-align: top;\n",
       "    }\n",
       "\n",
       "    .dataframe thead th {\n",
       "        text-align: right;\n",
       "    }\n",
       "</style>\n",
       "<table border=\"1\" class=\"dataframe\">\n",
       "  <thead>\n",
       "    <tr style=\"text-align: right;\">\n",
       "      <th></th>\n",
       "      <th>STATION</th>\n",
       "      <th>DATETIME</th>\n",
       "      <th>TRAFFIC</th>\n",
       "      <th>TOTAL</th>\n",
       "      <th>DAY_OF_WEEK</th>\n",
       "      <th>DATE</th>\n",
       "      <th>TIME</th>\n",
       "    </tr>\n",
       "  </thead>\n",
       "  <tbody>\n",
       "    <tr>\n",
       "      <th>0</th>\n",
       "      <td>1 AV</td>\n",
       "      <td>2018-05-19 00:00:00</td>\n",
       "      <td>2794.0</td>\n",
       "      <td>2794.0</td>\n",
       "      <td>5</td>\n",
       "      <td>2018-05-19</td>\n",
       "      <td>00:00:00</td>\n",
       "    </tr>\n",
       "    <tr>\n",
       "      <th>1</th>\n",
       "      <td>1 AV</td>\n",
       "      <td>2018-05-19 04:00:00</td>\n",
       "      <td>1714.0</td>\n",
       "      <td>1714.0</td>\n",
       "      <td>5</td>\n",
       "      <td>2018-05-19</td>\n",
       "      <td>04:00:00</td>\n",
       "    </tr>\n",
       "    <tr>\n",
       "      <th>2</th>\n",
       "      <td>1 AV</td>\n",
       "      <td>2018-05-19 08:00:00</td>\n",
       "      <td>6442.0</td>\n",
       "      <td>6442.0</td>\n",
       "      <td>5</td>\n",
       "      <td>2018-05-19</td>\n",
       "      <td>08:00:00</td>\n",
       "    </tr>\n",
       "    <tr>\n",
       "      <th>3</th>\n",
       "      <td>1 AV</td>\n",
       "      <td>2018-05-19 12:00:00</td>\n",
       "      <td>10255.0</td>\n",
       "      <td>10255.0</td>\n",
       "      <td>5</td>\n",
       "      <td>2018-05-19</td>\n",
       "      <td>12:00:00</td>\n",
       "    </tr>\n",
       "    <tr>\n",
       "      <th>4</th>\n",
       "      <td>1 AV</td>\n",
       "      <td>2018-05-19 16:00:00</td>\n",
       "      <td>11301.0</td>\n",
       "      <td>11301.0</td>\n",
       "      <td>5</td>\n",
       "      <td>2018-05-19</td>\n",
       "      <td>16:00:00</td>\n",
       "    </tr>\n",
       "  </tbody>\n",
       "</table>\n",
       "</div>"
      ],
      "text/plain": [
       "  STATION            DATETIME  TRAFFIC    TOTAL  DAY_OF_WEEK        DATE  \\\n",
       "0    1 AV 2018-05-19 00:00:00   2794.0   2794.0            5  2018-05-19   \n",
       "1    1 AV 2018-05-19 04:00:00   1714.0   1714.0            5  2018-05-19   \n",
       "2    1 AV 2018-05-19 08:00:00   6442.0   6442.0            5  2018-05-19   \n",
       "3    1 AV 2018-05-19 12:00:00  10255.0  10255.0            5  2018-05-19   \n",
       "4    1 AV 2018-05-19 16:00:00  11301.0  11301.0            5  2018-05-19   \n",
       "\n",
       "       TIME  \n",
       "0  00:00:00  \n",
       "1  04:00:00  \n",
       "2  08:00:00  \n",
       "3  12:00:00  \n",
       "4  16:00:00  "
      ]
     },
     "execution_count": 6,
     "metadata": {},
     "output_type": "execute_result"
    }
   ],
   "source": [
    "df2.head()"
   ]
  },
  {
   "cell_type": "markdown",
   "metadata": {},
   "source": [
    "### Sum over all data\n",
    "\n",
    "to get a list of high-volume stations"
   ]
  },
  {
   "cell_type": "markdown",
   "metadata": {},
   "source": [
    "### Heatmap: volume of traffic by day of week & time of day, for a given station"
   ]
  },
  {
   "cell_type": "code",
   "execution_count": 7,
   "metadata": {},
   "outputs": [],
   "source": [
    "def hm_data_dow_time(s, data_col, dow):\n",
    "    '''Generates heatmap data for day-of-week x time-of-day\n",
    "    Inputs:\n",
    "        s (string) = station name\n",
    "        data_col (string)  = data column in df2 (e.g. 'ENTRY_DIFFS')\n",
    "        dow (integer) = day of week, an integer from 0-6, with 0 being Monday\n",
    "    Output: \n",
    "        List of lists of data_col summed over day of week and station, grouped by time\n",
    "    '''\n",
    "    assert dow in range(7), \"dow must be an integer between 0-6\"\n",
    "    \n",
    "    return df2[(df2['DAY_OF_WEEK'] == dow) & (df2['STATION'] == s)].groupby('TIME')[data_col].sum()"
   ]
  },
  {
   "cell_type": "code",
   "execution_count": 30,
   "metadata": {},
   "outputs": [],
   "source": [
    "def heatmap_grid_4x4(station_list, fig_title, filename='temp'):\n",
    "    '''Inputs: station_list (list) = list of station names\n",
    "               fig_title (string) = Figure Title\n",
    "        Output:\n",
    "            4x4 grid of heatmaps, plotting total volume (entries + exits) by day of week & time of day\n",
    "    '''\n",
    "    \n",
    "    vmax = df2['TOTAL'].max() * 1.5\n",
    "    vmin = df2['TOTAL'].min()\n",
    "    \n",
    "    xlabel_hm = [str(int(x)) + 'h' for x in np.linspace(0,20,6)]\n",
    "    ylabel_hm = calendar.day_name[:]\n",
    "    \n",
    "    fig, ax = plt.subplots(4,4, figsize=(20,20))\n",
    "    plt.suptitle(fig_title, fontsize=20)\n",
    "\n",
    "    for i, s in enumerate(station_list):\n",
    "        plt.subplot(4,4,i+1)\n",
    "\n",
    "        if i % 4 == 0:\n",
    "            ylabel=ylabel_hm\n",
    "        else:\n",
    "            ylabel=False\n",
    "\n",
    "        if i > 11:\n",
    "            xlabel=xlabel_hm\n",
    "        else:\n",
    "            xlabel=False\n",
    "\n",
    "        hm_data = [hm_data_dow_time(s, 'TOTAL', d) for d in range(7)]\n",
    "        sns.heatmap(hm_data, xticklabels = xlabel, yticklabels=ylabel, \n",
    "                    cbar=False, cmap='coolwarm')\n",
    "        plt.title(s)\n",
    "    \n",
    "    if filename != 'temp':\n",
    "        plt.savefig(filename + '.svg', dpi=180, transparent=True)"
   ]
  },
  {
   "cell_type": "code",
   "execution_count": 37,
   "metadata": {},
   "outputs": [
    {
     "data": {
      "text/plain": [
       "array(['96 ST', '81 ST-MUSEUM', '72 ST-2 AVE', '86 ST-2 AVE',\n",
       "       '66 ST-LINCOLN', 'CLARK ST'], dtype=object)"
      ]
     },
     "execution_count": 37,
     "metadata": {},
     "output_type": "execute_result"
    }
   ],
   "source": [
    "final_station_list"
   ]
  },
  {
   "cell_type": "markdown",
   "metadata": {},
   "source": [
    "Generate dummy data to test functions:"
   ]
  },
  {
   "cell_type": "code",
   "execution_count": 9,
   "metadata": {},
   "outputs": [],
   "source": [
    "grp2 = df2.groupby(['STATION'])['TOTAL'].sum().reset_index()\n",
    "\n",
    "highest_vol = list(set(grp2.sort_values('TOTAL').tail(16)['STATION']))\n",
    "lowest_vol = list(set(grp2.sort_values('TOTAL').head(16)['STATION']))\n",
    "rand_vol = list(set(grp2.sort_values('TOTAL').sample(16)['STATION']))\n",
    "\n",
    "n = len(grp2)\n",
    "\n",
    "mid_vol = list(set(grp2.sort_values('TOTAL').iloc[(n//2)-8:(n//2)+8]['STATION']))"
   ]
  },
  {
   "cell_type": "code",
   "execution_count": 10,
   "metadata": {},
   "outputs": [
    {
     "data": {
      "image/png": "[encoded data removed]",
      "text/plain": [
       "<Figure size 1440x1440 with 16 Axes>"
      ]
     },
     "metadata": {
      "needs_background": "light"
     },
     "output_type": "display_data"
    }
   ],
   "source": [
    "heatmap_grid_4x4(highest_vol, 'Highest Volume Stations')"
   ]
  },
  {
   "cell_type": "code",
   "execution_count": 12,
   "metadata": {},
   "outputs": [],
   "source": [
    "twofer = ['FULTON ST', '14 ST-UNION SQ']"
   ]
  },
  {
   "cell_type": "code",
   "execution_count": 29,
   "metadata": {},
   "outputs": [
    {
     "data": {
      "image/png": "[encoded data removed]",
      "text/plain": [
       "<Figure size 720x360 with 2 Axes>"
      ]
     },
     "metadata": {
      "needs_background": "light"
     },
     "output_type": "display_data"
    }
   ],
   "source": [
    "heatmap_1x2(twofer, 'Time of Day differences', filename='heatmap_tod_diff')"
   ]
  },
  {
   "cell_type": "code",
   "execution_count": 31,
   "metadata": {},
   "outputs": [],
   "source": [
    "final_data = pd.read_csv('filtered.csv')"
   ]
  },
  {
   "cell_type": "code",
   "execution_count": 43,
   "metadata": {},
   "outputs": [],
   "source": [
    "final_data.drop(5, inplace=True)"
   ]
  },
  {
   "cell_type": "code",
   "execution_count": 44,
   "metadata": {},
   "outputs": [],
   "source": [
    "final_station_list = final_data['STATION'].values"
   ]
  },
  {
   "cell_type": "code",
   "execution_count": 45,
   "metadata": {},
   "outputs": [
    {
     "data": {
      "text/plain": [
       "5"
      ]
     },
     "execution_count": 45,
     "metadata": {},
     "output_type": "execute_result"
    }
   ],
   "source": [
    "len(final_station_list)"
   ]
  },
  {
   "cell_type": "code",
   "execution_count": 72,
   "metadata": {},
   "outputs": [],
   "source": [
    "def heatmap_grid_1x5(station_list, fig_title, filename='temp'):\n",
    "    '''Inputs: station_list (list) = list of station names\n",
    "               fig_title (string) = Figure Title\n",
    "                filename (string) = filename, with extension, if desired to save figure\n",
    "        Output:\n",
    "            4x4 grid of heatmaps, plotting total volume (entries + exits) by day of week & time of day\n",
    "    '''\n",
    "    \n",
    "    vmax = df2['TOTAL'].max() * 1.5\n",
    "    vmin = df2['TOTAL'].min()\n",
    "    \n",
    "    xlabel_hm = [str(int(x)) + 'h' for x in np.linspace(0,20,6)]\n",
    "    ylabel_hm = [x[:3] for x in calendar.day_name]\n",
    "    \n",
    "    fig, ax = plt.subplots(1,5, figsize=(20,4))\n",
    "    plt.suptitle(fig_title, fontsize=20, y=1.05)\n",
    "\n",
    "    for i, s in enumerate(station_list):\n",
    "        plt.subplot(1,5,i+1)\n",
    "\n",
    "        if i == 0:\n",
    "            ylabel=ylabel_hm\n",
    "            cbar=False\n",
    "        elif i == 4:\n",
    "            ylabel=False\n",
    "            cbar=True\n",
    "        else:\n",
    "            ylabel=False\n",
    "            cbar=False\n",
    "\n",
    "        xlabel=xlabel_hm\n",
    "\n",
    "        hm_data = [hm_data_dow_time(s, 'TOTAL', d) for d in range(7)]\n",
    "        sns.heatmap(hm_data, xticklabels = xlabel, yticklabels=ylabel, \n",
    "                    cbar=False, cmap='coolwarm')\n",
    "        plt.title(s, fontsize=16)\n",
    "    \n",
    "    if filename != 'temp':\n",
    "        plt.savefig(filename, dpi=180, transparent=True)"
   ]
  },
  {
   "cell_type": "code",
   "execution_count": 73,
   "metadata": {},
   "outputs": [
    {
     "data": {
      "image/png": "[encoded data removed]",
      "text/plain": [
       "<Figure size 1440x288 with 5 Axes>"
      ]
     },
     "metadata": {
      "needs_background": "light"
     },
     "output_type": "display_data"
    }
   ],
   "source": [
    "heatmap_grid_1x5(final_station_list, '', 'final_station_heatmaps.svg')"
   ]
  },
  {
   "cell_type": "code",
   "execution_count": null,
   "metadata": {},
   "outputs": [],
   "source": []
  }
 ],
 "metadata": {
  "kernelspec": {
   "display_name": "Python 3",
   "language": "python",
   "name": "python3"
  },
  "language_info": {
   "codemirror_mode": {
    "name": "ipython",
    "version": 3
   },
   "file_extension": ".py",
   "mimetype": "text/x-python",
   "name": "python",
   "nbconvert_exporter": "python",
   "pygments_lexer": "ipython3",
   "version": "3.5.5"
  }
 },
 "nbformat": 4,
 "nbformat_minor": 2
}
