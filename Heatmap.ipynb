{
 "cells": [
  {
   "cell_type": "code",
   "execution_count": 1,
   "metadata": {},
   "outputs": [],
   "source": [
    "import pandas as pd\n",
    "import datetime as dt\n",
    "import matplotlib.pyplot as plt\n",
    "import calendar\n",
    "import numpy as np\n",
    "import seaborn as sns"
   ]
  },
  {
   "cell_type": "code",
   "execution_count": 2,
   "metadata": {},
   "outputs": [],
   "source": [
    "df = pd.read_csv('pared_turnstile.csv', low_memory=False)"
   ]
  },
  {
   "cell_type": "code",
   "execution_count": 4,
   "metadata": {},
   "outputs": [],
   "source": [
    "df['DATETIME'] = pd.to_datetime(df['DATETIME'], format='%Y-%m-%d %H:%M:%S')\n",
    "df['TOTAL'] = df['ENTRY_DIFFS'] + df['EXIT_DIFFS']\n",
    "df.set_index('DATETIME', inplace=True)\n",
    "df.drop(['Unnamed: 0','ENTRY_DIFFS','EXIT_DIFFS','ENTRIES','EXITS','zipcode','hir'], axis=1, inplace=True)"
   ]
  },
  {
   "cell_type": "markdown",
   "metadata": {},
   "source": [
    "Time of entries is not always in 4-hour increments. Re-sample dataframe to correct for this, for plotting"
   ]
  },
  {
   "cell_type": "code",
   "execution_count": 5,
   "metadata": {},
   "outputs": [],
   "source": [
    "df2 = df.groupby(['STATION']).resample(rule='4H').sum().reset_index()\n",
    "df2['DAY_OF_WEEK'] = df2['DATETIME'].dt.weekday\n",
    "df2['DATE'] = df2['DATETIME'].dt.date\n",
    "df2['TIME'] = df2['DATETIME'].dt.time"
   ]
  },
  {
   "cell_type": "markdown",
   "metadata": {},
   "source": [
    "### Heatmap: volume of traffic by day of week & time of day, for a given station"
   ]
  },
  {
   "cell_type": "code",
   "execution_count": 7,
   "metadata": {},
   "outputs": [],
   "source": [
    "def hm_data_dow_time(s, data_col, dow):\n",
    "    '''Generates heatmap data for day-of-week x time-of-day.\n",
    "    Inputs: s (string) = station name. \n",
    "            data_col (string)  = data column in df2 (e.g. 'ENTRY_DIFFS')\n",
    "            dow (integer) = day of week, an integer from 0-6, with 0 being Monday\n",
    "    Output: List of lists of data_col summed over day of week and station, grouped by time\n",
    "    '''\n",
    "    assert dow in range(7), \"dow must be an integer between 0-6\"\n",
    "    \n",
    "    return df2[(df2['DAY_OF_WEEK'] == dow) & (df2['STATION'] == s)].groupby('TIME')[data_col].sum()"
   ]
  },
  {
   "cell_type": "code",
   "execution_count": 30,
   "metadata": {},
   "outputs": [],
   "source": [
    "def heatmap_grid_4x4(station_list, fig_title, filename='temp'):\n",
    "    '''Inputs: station_list (list) = list of station names\n",
    "               fig_title (string) = Figure Title\n",
    "        Output: 4x4 grid of heatmaps, plotting total volume (entries + exits) by day of week & time of day\n",
    "    '''\n",
    "    \n",
    "    vmax = df2['TOTAL'].max() * 1.5\n",
    "    vmin = df2['TOTAL'].min()\n",
    "    \n",
    "    xlabel_hm = [str(int(x)) + 'h' for x in np.linspace(0,20,6)]\n",
    "    ylabel_hm = calendar.day_name[:]\n",
    "    \n",
    "    fig, ax = plt.subplots(4,4, figsize=(20,20))\n",
    "    plt.suptitle(fig_title, fontsize=20)\n",
    "\n",
    "    for i, s in enumerate(station_list):\n",
    "        plt.subplot(4,4,i+1)\n",
    "\n",
    "        if i % 4 == 0:\n",
    "            ylabel=ylabel_hm\n",
    "        else:\n",
    "            ylabel=False\n",
    "\n",
    "        if i > 11:\n",
    "            xlabel=xlabel_hm\n",
    "        else:\n",
    "            xlabel=False\n",
    "\n",
    "        hm_data = [hm_data_dow_time(s, 'TOTAL', d) for d in range(7)]\n",
    "        sns.heatmap(hm_data, xticklabels = xlabel, yticklabels=ylabel, \n",
    "                    cbar=False, cmap='coolwarm')\n",
    "        plt.title(s)\n",
    "    \n",
    "    if filename != 'temp':\n",
    "        plt.savefig(filename + '.svg', dpi=180, transparent=True)"
   ]
  },
  {
   "cell_type": "code",
   "execution_count": 86,
   "metadata": {},
   "outputs": [],
   "source": [
    "def heatmap_grid_2x3(station_list, fig_title, filename='temp'):\n",
    "    '''Inputs: station_list (list) = list of station names\n",
    "               fig_title (string) = Figure Title\n",
    "                filename (string) = filename, with extension, if desired to save figure\n",
    "        Output:\n",
    "            4x4 grid of heatmaps, plotting total volume (entries + exits) by day of week & time of day\n",
    "    '''\n",
    "    \n",
    "    vmax = df2['TOTAL'].max() * 1.5\n",
    "    vmin = df2['TOTAL'].min()\n",
    "    \n",
    "    xlabel_hm = [str(int(x)) + 'h' for x in np.linspace(0,20,6)]\n",
    "    ylabel_hm = calendar.day_name[:]\n",
    "    \n",
    "    fig, ax = plt.subplots(2,3, figsize=(15,10))\n",
    "    plt.suptitle(fig_title, fontsize=20)\n",
    "\n",
    "    for i, s in enumerate(station_list):\n",
    "        plt.subplot(2,3,i+1)\n",
    "\n",
    "        if i % 3 == 0:\n",
    "            ylabel=ylabel_hm\n",
    "        else:\n",
    "            ylabel=False\n",
    "\n",
    "        if i >= 3:\n",
    "            xlabel=xlabel_hm\n",
    "        else:\n",
    "            xlabel=False\n",
    "\n",
    "        xlabel=xlabel_hm\n",
    "\n",
    "        hm_data = [hm_data_dow_time(s, 'TOTAL', d) for d in range(7)]\n",
    "        sns.heatmap(hm_data, xticklabels = xlabel, yticklabels=ylabel, \n",
    "                    cbar=False, cmap='coolwarm')\n",
    "        plt.title(s)\n",
    "    \n",
    "    if filename != 'temp':\n",
    "        plt.savefig(filename, dpi=180, transparent=True)"
   ]
  },
  {
   "cell_type": "code",
   "execution_count": 40,
   "metadata": {},
   "outputs": [],
   "source": [
    "def heatmap_grid_1x5(station_list, fig_title, filename='temp'):\n",
    "    '''Inputs: station_list (list) = list of station names\n",
    "               fig_title (string) = Figure Title\n",
    "                filename (string) = filename, with extension, if desired to save figure\n",
    "        Output:\n",
    "            4x4 grid of heatmaps, plotting total volume (entries + exits) by day of week & time of day\n",
    "    '''\n",
    "    \n",
    "    vmax = df2['TOTAL'].max() * 1.5\n",
    "    vmin = df2['TOTAL'].min()\n",
    "    \n",
    "    xlabel_hm = [str(int(x)) + 'h' for x in np.linspace(0,20,6)]\n",
    "    ylabel_hm = calendar.day_name[:]\n",
    "    \n",
    "    fig, ax = plt.subplots(1,5, figsize=(20,4))\n",
    "    plt.suptitle(fig_title, fontsize=20)\n",
    "\n",
    "    for i, s in enumerate(station_list):\n",
    "        plt.subplot(1,5,i+1)\n",
    "\n",
    "        if i == 0:\n",
    "            ylabel=ylabel_hm\n",
    "            cbar=False\n",
    "        elif i == 4:\n",
    "            ylabel=False\n",
    "            cbar=True\n",
    "        else:\n",
    "            ylabel=False\n",
    "            cbar=True\n",
    "\n",
    "        xlabel=xlabel_hm\n",
    "\n",
    "        hm_data = [hm_data_dow_time(s, 'TOTAL', d) for d in range(7)]\n",
    "        sns.heatmap(hm_data, xticklabels = xlabel, yticklabels=ylabel, \n",
    "                    cbar=cbar, cmap='coolwarm')\n",
    "        plt.title(s)\n",
    "    \n",
    "    if filename != 'temp':\n",
    "        plt.savefig(filename, dpi=180, transparent=True)"
   ]
  },
  {
   "cell_type": "markdown",
   "metadata": {},
   "source": [
    "## Plotting the final stations"
   ]
  },
  {
   "cell_type": "code",
   "execution_count": 89,
   "metadata": {},
   "outputs": [],
   "source": [
    "final_data = pd.read_csv('filtered.csv')\n",
    "final_station_list = final_data['STATION'].values"
   ]
  },
  {
   "cell_type": "code",
   "execution_count": 92,
   "metadata": {},
   "outputs": [
    {
     "data": {
      "text/plain": [
       "5"
      ]
     },
     "execution_count": 92,
     "metadata": {},
     "output_type": "execute_result"
    }
   ],
   "source": [
    "len(final_data)"
   ]
  },
  {
   "cell_type": "code",
   "execution_count": 93,
   "metadata": {},
   "outputs": [
    {
     "data": {
      "image/png": "[encoded data removed]",
      "text/plain": [
       "<Figure size 1440x288 with 5 Axes>"
      ]
     },
     "metadata": {
      "needs_background": "light"
     },
     "output_type": "display_data"
    }
   ],
   "source": [
    "heatmap_grid_1x5(final_station_list, '', 'final_station_heatmaps.png')"
   ]
  }
 ],
 "metadata": {
  "kernelspec": {
   "display_name": "Python 3",
   "language": "python",
   "name": "python3"
  },
  "language_info": {
   "codemirror_mode": {
    "name": "ipython",
    "version": 3
   },
   "file_extension": ".py",
   "mimetype": "text/x-python",
   "name": "python",
   "nbconvert_exporter": "python",
   "pygments_lexer": "ipython3",
   "version": "3.5.5"
  }
 },
 "nbformat": 4,
 "nbformat_minor": 2
}
