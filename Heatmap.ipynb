{
 "cells": [
  {
   "cell_type": "code",
   "execution_count": 9,
   "metadata": {},
   "outputs": [],
   "source": [
    "import pandas as pd\n",
    "import datetime as dt\n",
    "import matplotlib.pyplot as plt\n",
    "import calendar\n",
    "import numpy as np\n",
    "import seaborn as sns\n",
    "%matplotlib inline"
   ]
  },
  {
   "cell_type": "code",
   "execution_count": 10,
   "metadata": {},
   "outputs": [],
   "source": [
    "df = pd.read_csv('pared_turnstile.csv', low_memory=False)"
   ]
  },
  {
   "cell_type": "code",
   "execution_count": 11,
   "metadata": {},
   "outputs": [],
   "source": [
    "df['DATETIME'] = pd.to_datetime(df['DATETIME'], format='%Y-%m-%d %H:%M:%S')\n",
    "df['TOTAL'] = df['ENTRY_DIFFS'] + df['EXIT_DIFFS']\n",
    "df.set_index('DATETIME', inplace=True)\n",
    "df.drop(['Unnamed: 0','ENTRY_DIFFS','EXIT_DIFFS','ENTRIES','EXITS','zipcode','hir'], axis=1, inplace=True)"
   ]
  },
  {
   "cell_type": "code",
   "execution_count": 12,
   "metadata": {},
   "outputs": [],
   "source": [
    "df2 = df.groupby(['STATION']).resample(rule='4H').sum().reset_index()\n",
    "df2['DAY_OF_WEEK'] = df2['DATETIME'].dt.weekday\n",
    "df2['DATE'] = df2['DATETIME'].dt.date\n",
    "df2['TIME'] = df2['DATETIME'].dt.time"
   ]
  },
  {
   "cell_type": "markdown",
   "metadata": {},
   "source": [
    "### Heatmap: volume of traffic by day of week & time of day, for a given station"
   ]
  },
  {
   "cell_type": "code",
   "execution_count": 13,
   "metadata": {},
   "outputs": [],
   "source": [
    "def hm_data_dow_time(s, data_col, dow):\n",
    "    '''Generates heatmap data for day-of-week x time-of-day.\n",
    "    Inputs: s (string) = station name. \n",
    "            data_col (string)  = data column in df2 (e.g. 'ENTRY_DIFFS')\n",
    "            dow (integer) = day of week, an integer from 0-6, with 0 being Monday\n",
    "    Output: List of lists of data_col summed over day of week and station, grouped by time\n",
    "    '''\n",
    "    assert dow in range(7), \"dow must be an integer between 0-6\"\n",
    "    \n",
    "    return df2[(df2['DAY_OF_WEEK'] == dow) & (df2['STATION'] == s)].groupby('TIME')[data_col].median()"
   ]
  },
  {
   "cell_type": "markdown",
   "metadata": {},
   "source": [
    "## Plotting the final stations"
   ]
  },
  {
   "cell_type": "code",
   "execution_count": 14,
   "metadata": {},
   "outputs": [],
   "source": [
    "final_data = pd.read_csv('filtered.csv')\n",
    "final_station_list = final_data['STATION'].values"
   ]
  },
  {
   "cell_type": "code",
   "execution_count": 17,
   "metadata": {},
   "outputs": [],
   "source": [
    "def heatmap_grid_1x5(station_list, fig_title, filename='temp'):\n",
    "    '''Inputs: station_list (list) = list of station names\n",
    "               fig_title (string) = Figure Title\n",
    "                filename (string) = filename, with extension, if desired to save figure\n",
    "        Output:\n",
    "            1x5 grid of heatmaps, plotting total volume (entries + exits) by day of week & time of day\n",
    "    '''\n",
    "    \n",
    "    vmax = df2['TOTAL'].max() * 1.5\n",
    "    vmin = df2['TOTAL'].min()\n",
    "    \n",
    "    xlabel_hm = [str(int(x)) + 'h' for x in np.linspace(0,20,6)]\n",
    "    ylabel_hm = [x[:3] for x in calendar.day_name]\n",
    "    \n",
    "    fig, ax = plt.subplots(1,5, figsize=(20,4))\n",
    "    plt.suptitle(fig_title, fontsize=20)\n",
    "\n",
    "    for i, s in enumerate(station_list):\n",
    "        ax = plt.subplot(1,5,i+1)\n",
    "\n",
    "        if i == 0:\n",
    "            ylabel=ylabel_hm\n",
    "            cbar=False\n",
    "        elif i == 4:\n",
    "            ylabel=False\n",
    "            cbar=True\n",
    "        else:\n",
    "            ylabel=False\n",
    "            cbar=False\n",
    "\n",
    "        xlabel=xlabel_hm\n",
    "\n",
    "        hm_data = [hm_data_dow_time(s, 'TOTAL', d) for d in range(7)]\n",
    "        sns.heatmap(hm_data, xticklabels = xlabel, yticklabels=ylabel, \n",
    "                    cbar=cbar, cmap='coolwarm')\n",
    "        \n",
    "        cbar_ax = None\n",
    "        ax.tick_params(labelsize=14)\n",
    "        ax.tick_params(axis='y',labelrotation=0)\n",
    "        plt.title(s, fontsize=16)\n",
    "    \n",
    "    if filename != 'temp':\n",
    "        plt.savefig(filename, dpi=180, transparent=True)"
   ]
  },
  {
   "cell_type": "code",
   "execution_count": 18,
   "metadata": {},
   "outputs": [
    {
     "data": {
      "image/png": "[encoded data removed]",
      "text/plain": [
       "<Figure size 1440x288 with 6 Axes>"
      ]
     },
     "metadata": {
      "needs_background": "light"
     },
     "output_type": "display_data"
    }
   ],
   "source": [
    "heatmap_grid_1x5(final_station_list, '', 'final_station_heatmaps.png')"
   ]
  },
  {
   "cell_type": "markdown",
   "metadata": {},
   "source": [
    "If you want to plot it such that the legend (cbar) doesn't \"squish\" the 5th plot:\n",
    "\n",
    "https://stackoverflow.com/questions/42712304/seaborn-heatmap-subplots-keep-axis-ratio-consistent?rq=1\n"
   ]
  }
 ],
 "metadata": {
  "kernelspec": {
   "display_name": "Python 3",
   "language": "python",
   "name": "python3"
  },
  "language_info": {
   "codemirror_mode": {
    "name": "ipython",
    "version": 3
   },
   "file_extension": ".py",
   "mimetype": "text/x-python",
   "name": "python",
   "nbconvert_exporter": "python",
   "pygments_lexer": "ipython3",
   "version": "3.5.5"
  }
 },
 "nbformat": 4,
 "nbformat_minor": 2
}
