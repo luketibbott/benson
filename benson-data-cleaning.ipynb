{
 "cells": [
  {
   "cell_type": "code",
   "execution_count": 14,
   "metadata": {},
   "outputs": [],
   "source": [
    "import pandas as pd\n",
    "import random\n",
    "import itertools\n",
    "import datetime as dt\n",
    "import matplotlib.pyplot as plt\n",
    "import calendar\n",
    "import numpy as np"
   ]
  },
  {
   "cell_type": "markdown",
   "metadata": {},
   "source": [
    "Downloaded data from: http://web.mta.info/developers/turnstile.html\n",
    "\n",
    "Documentations at: http://web.mta.info/developers/resources/nyct/turnstile/ts_Field_Description.txt\n",
    "\n",
    "Map of the MTA system: http://web.mta.info/maps/submap.html"
   ]
  },
  {
   "cell_type": "code",
   "execution_count": 15,
   "metadata": {},
   "outputs": [],
   "source": [
    "df1 = pd.read_csv('turnstile_180526.txt')\n",
    "df2 = pd.read_csv('turnstile_180602.txt')\n",
    "df3 = pd.read_csv('turnstile_180609.txt')\n",
    "df4 = pd.read_csv('turnstile_180616.txt')"
   ]
  },
  {
   "cell_type": "code",
   "execution_count": 16,
   "metadata": {},
   "outputs": [],
   "source": [
    "df = pd.concat([df1, df2, df3, df4])"
   ]
  },
  {
   "cell_type": "code",
   "execution_count": 17,
   "metadata": {},
   "outputs": [],
   "source": [
    "df.reset_index(inplace=True, drop=True)"
   ]
  },
  {
   "cell_type": "markdown",
   "metadata": {},
   "source": [
    "Fix 'EXITS' column name (it has many spaces at the end of it)"
   ]
  },
  {
   "cell_type": "code",
   "execution_count": 18,
   "metadata": {},
   "outputs": [],
   "source": [
    "# old_exit_name = df.columns[-1]\n",
    "# df.rename(columns={df.columns[-1]: 'EXITS'}, inplace = True)\n",
    "df.columns = df.columns.str.strip()"
   ]
  },
  {
   "cell_type": "code",
   "execution_count": 19,
   "metadata": {},
   "outputs": [],
   "source": [
    "# df_mta.to_csv('turnstile_backup.csv')\n",
    "df.to_csv('raw_turnstile_data.csv')"
   ]
  },
  {
   "cell_type": "code",
   "execution_count": 20,
   "metadata": {},
   "outputs": [],
   "source": [
    "df['DATETIME'] = pd.to_datetime(df.DATE + ' ' + df.TIME, format='%m/%d/%Y %H:%M:%S')\n",
    "df['DATE'] = pd.to_datetime(df['DATE'], format='%m/%d/%Y')"
   ]
  },
  {
   "cell_type": "code",
   "execution_count": 21,
   "metadata": {},
   "outputs": [],
   "source": [
    "df['STATION_KEY'] = df['C/A'] + ' ' + df['UNIT'] + ' ' + df['STATION']"
   ]
  },
  {
   "cell_type": "code",
   "execution_count": null,
   "metadata": {},
   "outputs": [],
   "source": [
    "# cols_to_drop = ['C/A','UNIT','STATION']\n",
    "# cols_to_drop = ['C/A','UNIT']\n",
    "# df.drop(cols_to_drop, axis=1, inplace=True)"
   ]
  },
  {
   "cell_type": "markdown",
   "metadata": {},
   "source": [
    "Sort, Group by Station Key, then compute difference between 'ENTRIES'"
   ]
  },
  {
   "cell_type": "code",
   "execution_count": 23,
   "metadata": {},
   "outputs": [],
   "source": [
    "df.sort_values(['STATION_KEY', 'SCP', 'DATETIME'], inplace=True)"
   ]
  },
  {
   "cell_type": "code",
   "execution_count": 26,
   "metadata": {},
   "outputs": [],
   "source": [
    "df['ENTRY_DIFFS'] = df.groupby(['STATION_KEY','SCP'])['ENTRIES'].diff(periods=-1)*-1"
   ]
  },
  {
   "cell_type": "code",
   "execution_count": 27,
   "metadata": {},
   "outputs": [],
   "source": [
    "df['EXIT_DIFFS'] = df.groupby(['STATION_KEY','SCP'])['EXITS'].diff(periods=-1)*-1"
   ]
  },
  {
   "cell_type": "markdown",
   "metadata": {},
   "source": [
    "The majority of 'ENTRY_DIFFS' values are reasonable, but there are still some large negative and positive values still. For now, exclude them from our analysis. (There shouldn't, in fact, be any negative values.)"
   ]
  },
  {
   "cell_type": "code",
   "execution_count": 28,
   "metadata": {},
   "outputs": [],
   "source": [
    "# 200,000 entries per day is a reasonable cut-off\n",
    "clean_df = df[(df['ENTRY_DIFFS'] < 2E5) \n",
    "              & (df['ENTRY_DIFFS'] > 0) \n",
    "              & (df['EXIT_DIFFS'] < 2E5)\n",
    "              & (df['EXIT_DIFFS'] > 0)]"
   ]
  },
  {
   "cell_type": "code",
   "execution_count": 29,
   "metadata": {},
   "outputs": [
    {
     "data": {
      "text/html": [
       "<div>\n",
       "<style scoped>\n",
       "    .dataframe tbody tr th:only-of-type {\n",
       "        vertical-align: middle;\n",
       "    }\n",
       "\n",
       "    .dataframe tbody tr th {\n",
       "        vertical-align: top;\n",
       "    }\n",
       "\n",
       "    .dataframe thead th {\n",
       "        text-align: right;\n",
       "    }\n",
       "</style>\n",
       "<table border=\"1\" class=\"dataframe\">\n",
       "  <thead>\n",
       "    <tr style=\"text-align: right;\">\n",
       "      <th></th>\n",
       "      <th>C/A</th>\n",
       "      <th>UNIT</th>\n",
       "      <th>SCP</th>\n",
       "      <th>STATION</th>\n",
       "      <th>LINENAME</th>\n",
       "      <th>DIVISION</th>\n",
       "      <th>DATE</th>\n",
       "      <th>TIME</th>\n",
       "      <th>DESC</th>\n",
       "      <th>ENTRIES</th>\n",
       "      <th>EXITS</th>\n",
       "      <th>DATETIME</th>\n",
       "      <th>STATION_KEY</th>\n",
       "      <th>ENTRY_DIFFS</th>\n",
       "      <th>EXIT_DIFFS</th>\n",
       "    </tr>\n",
       "  </thead>\n",
       "  <tbody>\n",
       "    <tr>\n",
       "      <th>0</th>\n",
       "      <td>A002</td>\n",
       "      <td>R051</td>\n",
       "      <td>02-00-00</td>\n",
       "      <td>59 ST</td>\n",
       "      <td>NQR456W</td>\n",
       "      <td>BMT</td>\n",
       "      <td>2018-05-19</td>\n",
       "      <td>00:00:00</td>\n",
       "      <td>REGULAR</td>\n",
       "      <td>6625470</td>\n",
       "      <td>2245312</td>\n",
       "      <td>2018-05-19 00:00:00</td>\n",
       "      <td>A002 R051 59 ST</td>\n",
       "      <td>24.0</td>\n",
       "      <td>2.0</td>\n",
       "    </tr>\n",
       "    <tr>\n",
       "      <th>1</th>\n",
       "      <td>A002</td>\n",
       "      <td>R051</td>\n",
       "      <td>02-00-00</td>\n",
       "      <td>59 ST</td>\n",
       "      <td>NQR456W</td>\n",
       "      <td>BMT</td>\n",
       "      <td>2018-05-19</td>\n",
       "      <td>04:00:00</td>\n",
       "      <td>REGULAR</td>\n",
       "      <td>6625494</td>\n",
       "      <td>2245314</td>\n",
       "      <td>2018-05-19 04:00:00</td>\n",
       "      <td>A002 R051 59 ST</td>\n",
       "      <td>20.0</td>\n",
       "      <td>24.0</td>\n",
       "    </tr>\n",
       "    <tr>\n",
       "      <th>2</th>\n",
       "      <td>A002</td>\n",
       "      <td>R051</td>\n",
       "      <td>02-00-00</td>\n",
       "      <td>59 ST</td>\n",
       "      <td>NQR456W</td>\n",
       "      <td>BMT</td>\n",
       "      <td>2018-05-19</td>\n",
       "      <td>08:00:00</td>\n",
       "      <td>REGULAR</td>\n",
       "      <td>6625514</td>\n",
       "      <td>2245338</td>\n",
       "      <td>2018-05-19 08:00:00</td>\n",
       "      <td>A002 R051 59 ST</td>\n",
       "      <td>81.0</td>\n",
       "      <td>77.0</td>\n",
       "    </tr>\n",
       "    <tr>\n",
       "      <th>3</th>\n",
       "      <td>A002</td>\n",
       "      <td>R051</td>\n",
       "      <td>02-00-00</td>\n",
       "      <td>59 ST</td>\n",
       "      <td>NQR456W</td>\n",
       "      <td>BMT</td>\n",
       "      <td>2018-05-19</td>\n",
       "      <td>12:00:00</td>\n",
       "      <td>REGULAR</td>\n",
       "      <td>6625595</td>\n",
       "      <td>2245415</td>\n",
       "      <td>2018-05-19 12:00:00</td>\n",
       "      <td>A002 R051 59 ST</td>\n",
       "      <td>196.0</td>\n",
       "      <td>66.0</td>\n",
       "    </tr>\n",
       "    <tr>\n",
       "      <th>4</th>\n",
       "      <td>A002</td>\n",
       "      <td>R051</td>\n",
       "      <td>02-00-00</td>\n",
       "      <td>59 ST</td>\n",
       "      <td>NQR456W</td>\n",
       "      <td>BMT</td>\n",
       "      <td>2018-05-19</td>\n",
       "      <td>16:00:00</td>\n",
       "      <td>REGULAR</td>\n",
       "      <td>6625791</td>\n",
       "      <td>2245481</td>\n",
       "      <td>2018-05-19 16:00:00</td>\n",
       "      <td>A002 R051 59 ST</td>\n",
       "      <td>227.0</td>\n",
       "      <td>39.0</td>\n",
       "    </tr>\n",
       "  </tbody>\n",
       "</table>\n",
       "</div>"
      ],
      "text/plain": [
       "    C/A  UNIT       SCP STATION LINENAME DIVISION       DATE      TIME  \\\n",
       "0  A002  R051  02-00-00   59 ST  NQR456W      BMT 2018-05-19  00:00:00   \n",
       "1  A002  R051  02-00-00   59 ST  NQR456W      BMT 2018-05-19  04:00:00   \n",
       "2  A002  R051  02-00-00   59 ST  NQR456W      BMT 2018-05-19  08:00:00   \n",
       "3  A002  R051  02-00-00   59 ST  NQR456W      BMT 2018-05-19  12:00:00   \n",
       "4  A002  R051  02-00-00   59 ST  NQR456W      BMT 2018-05-19  16:00:00   \n",
       "\n",
       "      DESC  ENTRIES    EXITS            DATETIME      STATION_KEY  \\\n",
       "0  REGULAR  6625470  2245312 2018-05-19 00:00:00  A002 R051 59 ST   \n",
       "1  REGULAR  6625494  2245314 2018-05-19 04:00:00  A002 R051 59 ST   \n",
       "2  REGULAR  6625514  2245338 2018-05-19 08:00:00  A002 R051 59 ST   \n",
       "3  REGULAR  6625595  2245415 2018-05-19 12:00:00  A002 R051 59 ST   \n",
       "4  REGULAR  6625791  2245481 2018-05-19 16:00:00  A002 R051 59 ST   \n",
       "\n",
       "   ENTRY_DIFFS  EXIT_DIFFS  \n",
       "0         24.0         2.0  \n",
       "1         20.0        24.0  \n",
       "2         81.0        77.0  \n",
       "3        196.0        66.0  \n",
       "4        227.0        39.0  "
      ]
     },
     "execution_count": 29,
     "metadata": {},
     "output_type": "execute_result"
    }
   ],
   "source": [
    "clean_df.head()"
   ]
  },
  {
   "cell_type": "code",
   "execution_count": 30,
   "metadata": {},
   "outputs": [],
   "source": [
    "clean_df.to_csv('clean_turnstile_data.csv')"
   ]
  },
  {
   "cell_type": "code",
   "execution_count": null,
   "metadata": {},
   "outputs": [],
   "source": []
  }
 ],
 "metadata": {
  "kernelspec": {
   "display_name": "Python 3",
   "language": "python",
   "name": "python3"
  },
  "language_info": {
   "codemirror_mode": {
    "name": "ipython",
    "version": 3
   },
   "file_extension": ".py",
   "mimetype": "text/x-python",
   "name": "python",
   "nbconvert_exporter": "python",
   "pygments_lexer": "ipython3",
   "version": "3.5.5"
  }
 },
 "nbformat": 4,
 "nbformat_minor": 2
}
